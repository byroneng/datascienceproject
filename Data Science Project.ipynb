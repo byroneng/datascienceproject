{
 "cells": [
  {
   "cell_type": "markdown",
   "metadata": {},
   "source": [
    "# Crawling the Job Market\n",
    "Authors: Sameer NANDIKAR, Byron ENG <br>\n",
    "CS 5963 / MATH 3900 <br>"
   ]
  },
  {
   "cell_type": "markdown",
   "metadata": {
    "collapsed": true
   },
   "source": [
    "## Classification of web sites: Which ones have \"crawlable\" search results? \n",
    "## Which ones have APIs? Be careful, not all data is free.. check the documentation\n",
    "\n",
    "|Site|Comments|Allowed|Disallowed|API|API Reference|\n",
    "|----|--------|:-----:|:--------:|---|\n",
    "|Glassdoor.com|Has mostly disallows. Because we are going to be using the search, I don't think we are allowed to crawl.||x|Yes|https://www.glassdoor.com/developer/index.htm|\n",
    "|usajobs.com|Disallows scripts||x|Yes|https://developer.usajobs.gov/API-Reference|\n",
    "|dice.com|Disallows jobsearch||x|Yes|http://www.dice.com/common/content/util/apidoc/jobsearch.html|\n",
    "|snagajob.com|Disallows basically everything||x|No||\n",
    "|simplyhired.com|Links to other sites, disallows job details but not job SEARCH||x|No||\n",
    "|careerbuilder.com|Disallows everything unless you're the googlebot||x|Yes|Requested key|\n",
    "|careerinfonet.org|There's a lot that is disallowed, but I don't see anything that is clearly disallowing what we aim to do. Worth another look.||x|No|||\n",
    "|indeed.com||||||\n",
    "|monster.com||||||\n",
    "|linkedin.com|||||||\n",
    "\n"
   ]
  },
  {
   "cell_type": "code",
   "execution_count": null,
   "metadata": {
    "collapsed": true
   },
   "outputs": [],
   "source": []
  }
 ],
 "metadata": {
  "anaconda-cloud": {},
  "kernelspec": {
   "display_name": "Python [conda root]",
   "language": "python",
   "name": "conda-root-py"
  },
  "language_info": {
   "codemirror_mode": {
    "name": "ipython",
    "version": 3
   },
   "file_extension": ".py",
   "mimetype": "text/x-python",
   "name": "python",
   "nbconvert_exporter": "python",
   "pygments_lexer": "ipython3",
   "version": "3.5.2"
  }
 },
 "nbformat": 4,
 "nbformat_minor": 1
}
