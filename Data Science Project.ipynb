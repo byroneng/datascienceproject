{
 "cells": [
  {
   "cell_type": "markdown",
   "metadata": {},
   "source": [
    "# Crawling the Job Market\n",
    "Authors: Sameer NANDIKAR(u1010576), Byron ENG <br>\n",
    "CS 5963 / MATH 3900 <br>\n",
    "email id: sameer.nandikar@gmail.com \n",
    "          ; byron.eng@gmail.com"
   ]
  },
  {
   "cell_type": "markdown",
   "metadata": {},
   "source": [
    "## Background and Motivation\n",
    "We the authors of this project will be graduating in near future. Thus we need to look for jobs in our respective fields (which in our case is Mechanical Engineering and Atmospheric Sciences) or continue academics in a well-informed direction for better job opportunities. In either case a comperhensive analysis of the job market depicting trends and classifications can be really benificial. \n",
    "\n",
    "Motivation for this project comes from some obstacles encounterd in the job search, some of which we have tried to elaborate here. Though there are many job search websites which provide a plethora of information about jobs available, one can not draw useful conclusions about the job market such as density of reasearch and development jobs for a mechanical engineer in medical device sector in state of Utah, without analysis of that information. In addition to that, job openings in most of the industries related to Mechanical Engineering are requirement oriented and have very short lead times for joining thus it would be interesting to see if there are any trends in job openings and use the information to benefit the job seekers to decide when to graduate. These are just few queries among other problems we intend to solve. \n",
    "\n",
    "One more aspect of this project includes classification of jobs according to job function and sector, which will help an aspiring Graduate student to take an informed decision to select an area of interest (such as designing, manufacturing, robotics, energy systems).  "
   ]
  },
  {
   "cell_type": "markdown",
   "metadata": {},
   "source": [
    "## Project Objectives\n",
    "This project aims to be a tool for anyone entering the job market. The key objective of this project is the analysis of the job market which will include but will not be limited to\n",
    "- Geospatial density of jobs\n",
    "- Pay rates vs. experience level\n",
    "- Pay rates vs. education level\n",
    "- Classification of jobs on basis of sector (e.g.aerospace, automobile, medical device, energy, mining equipment etc)\n",
    "- Classification of jobs on basis of job function (e.g. production, quality control, design, research and development etc)\n",
    "- Annual trend of job openings for different sectors and job functions for different states "
   ]
  },
  {
   "cell_type": "markdown",
   "metadata": {
    "collapsed": true
   },
   "source": [
    "## Data\n",
    "\n",
    "At this stage we are looking from which websites we can scrap the data and which websites have APIs. Given below is the information of our current options\n",
    "\n",
    "### Inventory of data sources\n",
    "\n",
    "|Site|Comments|Allowed (scraping)|Disallowed (scraping)|API|API Reference\n",
    "|----|--------|:-----:|:--------:|---\n",
    "|Glassdoor.com|Has mostly disallows. Because we are going to be using the search, I don't think we are allowed to crawl.||x|Yes|https://www.glassdoor.com/developer/index.htm (access requested)\n",
    "|usajobs.gov|Disallows scripts||x|Yes|https://developer.usajobs.gov/API-Reference\n",
    "|dice.com|Disallows jobsearch||x|Yes|http://www.dice.com/common/content/util/apidoc/jobsearch.html\n",
    "|snagajob.com|Disallows basically everything||x|No|-|\n",
    "|simplyhired.com|Links to other sites, disallows job details but not job SEARCH||x|No|-|\n",
    "|careerbuilder.com|Disallows everything unless you're the googlebot||x|Yes|Requested key\n",
    "|careerinfonet.org|There's a lot that is disallowed, but I don't see anything that is clearly disallowing what we aim to do. Worth another look.||x|No|-|\n",
    "|indeed.com|Mostly disallows everything ||x|Yes|Requested key|\n",
    "|monster.com|Mostly disallows evferything||x|Yes|Regestration is required for access which is in progress|\n",
    "|linkedin.com|Allows scraping with permission||x|Yes|https://api.linkedin.com/v1/people/~?format=json (but an access token is required which is requested)|\n",
    "|bls.gov|||x|Yes|http://www.bls.gov/developers/api_python.htm\n",
    "\n",
    "\n",
    "\n"
   ]
  },
  {
   "cell_type": "markdown",
   "metadata": {},
   "source": [
    "## Data Processing \n",
    "\n",
    "In addition to APIs, we will keep html scraping as an option. An html of a typical job search website has list of jobs and their links. A dataframe will be created by extracting the information about the jobs from the html page and from nested url links. We will use beautifulsoup and CSS selectors for this purpose. We expect much of the effort to be in data extraction and especially in data clean up because information about the jobs entered may not follow same format most of the times as it is entered by different users. We will be using classification methods to classify the jobs by the desired metrics (ie. degree requirement). Also we need to filter out the features which are out of our present scope of study."
   ]
  },
  {
   "cell_type": "markdown",
   "metadata": {},
   "source": [
    "## Exploratory Analysis\n",
    "\n",
    "At this stage we intend to observe trends of job openings geographically as well as annually. Thus we will use scatter plots and other tools we have learned in this class for visualizations. Heuristic approach also seems appropriate for given purposes. For classification we intend to use SVM, Decision trees and k-NN and based on kind of results we get we will select best suitable method. "
   ]
  },
  {
   "cell_type": "markdown",
   "metadata": {},
   "source": [
    "## Analysis Methodlogy\n",
    "\n",
    "We will first analyze the aggregated data to see geographical and annual trends. Also we will observe the effects of attributes over salary e.g. Pay rates vs. experience level and Pay rates vs. education level. \n",
    "\n",
    "Secondly for classification purposes based on the size of the data we get from one website we will either divide one website's data into training and test data or use data from one website as training and data from another website as test data. We will use classification methods enlisted above and select the best suitable one to visualize the data in scatter plots"
   ]
  },
  {
   "cell_type": "markdown",
   "metadata": {},
   "source": [
    "## Project Schedule\n",
    "\n",
    "We have 5 weeks till the presentation date \n",
    "\n",
    "Week 1 - Data acquisition and cleaning\n",
    "\n",
    "Week 2 - Data processing \n",
    "\n",
    "Week 3 and 4 - Exploratory analysis\n",
    "\n",
    "Week 5 - Preperation for the Presentation"
   ]
  },
  {
   "cell_type": "markdown",
   "metadata": {},
   "source": [
    "# Data acquisition and cleaning"
   ]
  },
  {
   "cell_type": "code",
   "execution_count": 3,
   "metadata": {
    "collapsed": false
   },
   "outputs": [
    {
     "name": "stdout",
     "output_type": "stream",
     "text": [
      "Your USAJOBS API key is zMSiSmEw58JebBaFwlXa1nxDuoTqQfDJC25TCBA/bAs=\n",
      "Your USAJOBS Agent is byron.eng@gmail.com\n"
     ]
    }
   ],
   "source": [
    "from credentials import *\n",
    "print(\"Your USAJOBS API key is \" + USAJOBS_KEY)\n",
    "print(\"Your USAJOBS Agent is \" + USAJOBS_AGENT)\n",
    "#usajobs.gov\n",
    "import requests \n",
    "# Make a get request to get the latest position of the international space station from the opennotify api.\n",
    "#response = requests.get(\"http://data.usajobs.gov/api/JobSearch/Search/engineer?api_key=\")\n",
    "#VAR_URL = 'http://usajobs.gov/JobSearch/Search/GetResults?Series=2210&MinSalary=35000&MaxSalary=95000&LocationID=110010001';\n",
    "#response = requests.get(VAR_URL)\n",
    "#response\n",
    "\n",
    "#var request = require('request');  \n",
    "\n",
    "#var host = 'data.usajobs.gov';  \n",
    "#var userAgent = 'your@email.address';  \n",
    "#var authKey = 'YourAPIKey';    \n",
    "\n",
    "#request({      \n",
    "#    url: 'https://data.usajobs.gov/api/search?JobCategoryCode=2210',      \n",
    "#    method: 'GET',      \n",
    "#    headers: {          \n",
    "#        \"Host\": host,          \n",
    "#        \"User-Agent\": userAgent,          \n",
    "#        \"Authorization-Key\": authKey      \n",
    "#    }  \n",
    "#}, function(error, response, body) {      \n",
    "#    var data = JSON.parse(body);  \n",
    "#});"
   ]
  },
  {
   "cell_type": "code",
   "execution_count": 2,
   "metadata": {
    "collapsed": false
   },
   "outputs": [
    {
     "ename": "NameError",
     "evalue": "name 'response' is not defined",
     "output_type": "error",
     "traceback": [
      "\u001b[0;31m---------------------------------------------------------------------------\u001b[0m",
      "\u001b[0;31mNameError\u001b[0m                                 Traceback (most recent call last)",
      "\u001b[0;32m<ipython-input-2-2bd37d61b21e>\u001b[0m in \u001b[0;36m<module>\u001b[0;34m()\u001b[0m\n\u001b[0;32m----> 1\u001b[0;31m \u001b[0mresponse\u001b[0m\u001b[1;33m.\u001b[0m\u001b[0msearch\u001b[0m\u001b[1;33m(\u001b[0m\u001b[0mq\u001b[0m\u001b[1;33m=\u001b[0m\u001b[1;34m\"mechanical\"\u001b[0m\u001b[1;33m)\u001b[0m\u001b[1;33m\u001b[0m\u001b[0m\n\u001b[0m",
      "\u001b[0;31mNameError\u001b[0m: name 'response' is not defined"
     ]
    }
   ],
   "source": [
    "response.search(q=\"mechanical\")"
   ]
  },
  {
   "cell_type": "code",
   "execution_count": 3,
   "metadata": {
    "collapsed": false
   },
   "outputs": [],
   "source": [
    "import requests \n",
    "\n",
    "host = 'data.usajobs.gov'\n",
    "userAgent = USAJOBS_AGENT\n",
    "\n",
    "\n",
    "payload = {'Host':host,'User-Agent':userAgent,'Authorization-Key':USAJOBS_KEY}\n",
    "r=requests.get('https://data.usajobs.gov/api/search',params = payload)"
   ]
  },
  {
   "cell_type": "code",
   "execution_count": 1,
   "metadata": {
    "collapsed": false
   },
   "outputs": [
    {
     "ename": "NameError",
     "evalue": "name 'r' is not defined",
     "output_type": "error",
     "traceback": [
      "\u001b[0;31m---------------------------------------------------------------------------\u001b[0m",
      "\u001b[0;31mNameError\u001b[0m                                 Traceback (most recent call last)",
      "\u001b[0;32m<ipython-input-1-72cfd272ace1>\u001b[0m in \u001b[0;36m<module>\u001b[0;34m()\u001b[0m\n\u001b[0;32m----> 1\u001b[0;31m \u001b[0mr\u001b[0m\u001b[1;33m\u001b[0m\u001b[0m\n\u001b[0m",
      "\u001b[0;31mNameError\u001b[0m: name 'r' is not defined"
     ]
    }
   ],
   "source": [
    "r"
   ]
  },
  {
   "cell_type": "code",
   "execution_count": 35,
   "metadata": {
    "collapsed": false
   },
   "outputs": [],
   "source": [
    "r_indeed=requests.get(\"http://api.indeed.com/ads/apisearch?publisher=336274463762899&q=java&l=austin%2C+tx&sort=&radius=&st=&jt=&start=&limit=&fromage=&filter=&latlong=1&co=us&chnl=&userip=1.2.3.4&useragent=Mozilla/%2F4.0%28Firefox%29&v=2\")"
   ]
  },
  {
   "cell_type": "code",
   "execution_count": 40,
   "metadata": {
    "collapsed": false
   },
   "outputs": [
    {
     "data": {
      "text/plain": [
       "b'<?xml version=\\'1.0\\' encoding=\\'UTF-8\\'?><response version=\"2\"><query>java</query><location>austin, tx</location><clickedCategories></clickedCategories><paginationPayload></paginationPayload><radius>25</radius><dupefilter>true</dupefilter><highlight>false</highlight><start>1</start><end>10</end><pageNumber>0</pageNumber><totalresults>1067</totalresults><results><result><jobtitle>JAVA/J2EE Developer</jobtitle><company>DatamanUSA, LLC</company><city>Austin</city><state>TX</state><country>US</country><formattedLocation>Austin, TX</formattedLocation><source>DatamanUSA, LLC</source><date>Wed, 09 Nov 2016 17:37:21 GMT</date><snippet>Experience with Java / Struts 1 / Hibernate environment running on Tomcat 8 with a DB2 backend. Train and document sufficiently to provide maintenance and...</snippet><url>http://www.indeed.com/viewjob?jk=661e236645efa5ff&amp;qd=1vHU8bY0zJlP3i697aWcBw0rZ5xk4PtwML9xRp5xvmqRET49cqTi1ld-PudIUDhsuTilJbykF52ByxgimnIVU7FVz83_6r-ThuqDSZnMAHg&amp;indpubnum=336274463762899&amp;atk=1b1d1hifiagnocch</url><onmousedown>indeed_clk(this,\\'3824\\');</onmousedown><latitude>30.266483</latitude><longitude>-97.74176</longitude><jobkey>661e236645efa5ff</jobkey><sponsored>false</sponsored><expired>false</expired><indeedApply>false</indeedApply><formattedLocationFull>Austin, TX</formattedLocationFull><formattedRelativeTime>3 days ago</formattedRelativeTime><stations></stations></result><result><jobtitle>Software Developer I (Contract)</jobtitle><company>Everi</company><city>Austin</city><state>TX</state><country>US</country><formattedLocation>Austin, TX</formattedLocation><source>Everi</source><date>Mon, 31 Oct 2016 22:25:18 GMT</date><snippet>JavaScript and C++ or JAVA. Everi was born when two companies that have served the casino industry for decades \\xe2\\x80\\x94 Global Cash Access and Multimedia Games \\xe2\\x80\\x94...</snippet><url>http://www.indeed.com/viewjob?jk=24d5b899667ac8fb&amp;qd=1vHU8bY0zJlP3i697aWcBw0rZ5xk4PtwML9xRp5xvmqRET49cqTi1ld-PudIUDhsuTilJbykF52ByxgimnIVU7FVz83_6r-ThuqDSZnMAHg&amp;indpubnum=336274463762899&amp;atk=1b1d1hifiagnocch</url><onmousedown>indeed_clk(this,\\'3824\\');</onmousedown><latitude>30.266483</latitude><longitude>-97.74176</longitude><jobkey>24d5b899667ac8fb</jobkey><sponsored>false</sponsored><expired>false</expired><indeedApply>false</indeedApply><formattedLocationFull>Austin, TX</formattedLocationFull><formattedRelativeTime>11 days ago</formattedRelativeTime><stations></stations></result><result><jobtitle>Entry Level Java Developer</jobtitle><company>NetCloudTek</company><city>Austin</city><state>TX</state><country>US</country><formattedLocation>Austin, TX</formattedLocation><source>NetCloudTek</source><date>Sat, 05 Nov 2016 03:07:21 GMT</date><snippet>Job Description About the company- We are an software Development Company of USA is focused on developing a comprehensive workplace that utilizes the unique</snippet><url>http://www.indeed.com/viewjob?jk=5f8dafad9d3fb287&amp;qd=1vHU8bY0zJlP3i697aWcBw0rZ5xk4PtwML9xRp5xvmqRET49cqTi1ld-PudIUDhsuTilJbykF52ByxgimnIVU7FVz83_6r-ThuqDSZnMAHg&amp;indpubnum=336274463762899&amp;atk=1b1d1hifiagnocch</url><onmousedown>indeed_clk(this,\\'3824\\');</onmousedown><latitude>30.266483</latitude><longitude>-97.74176</longitude><jobkey>5f8dafad9d3fb287</jobkey><sponsored>false</sponsored><expired>false</expired><indeedApply>false</indeedApply><formattedLocationFull>Austin, TX</formattedLocationFull><formattedRelativeTime>7 days ago</formattedRelativeTime><stations></stations></result><result><jobtitle>J2EE Developer</jobtitle><company>Sonsoft Inc</company><city>Austin</city><state>TX</state><country>US</country><formattedLocation>Austin, TX</formattedLocation><source>Sonsoft Inc</source><date>Wed, 26 Oct 2016 03:06:38 GMT</date><snippet>At least 3 years of experience in Java object oriented design API development using Java, REST, Spring, Jersey, Hibernate, SQL....</snippet><url>http://www.indeed.com/viewjob?jk=d1374d12f97d0d4e&amp;qd=1vHU8bY0zJlP3i697aWcBw0rZ5xk4PtwML9xRp5xvmqRET49cqTi1ld-PudIUDhsuTilJbykF52ByxgimnIVU7FVz83_6r-ThuqDSZnMAHg&amp;indpubnum=336274463762899&amp;atk=1b1d1hifiagnocch</url><onmousedown>indeed_clk(this,\\'3824\\');</onmousedown><latitude>30.266483</latitude><longitude>-97.74176</longitude><jobkey>d1374d12f97d0d4e</jobkey><sponsored>false</sponsored><expired>false</expired><indeedApply>false</indeedApply><formattedLocationFull>Austin, TX</formattedLocationFull><formattedRelativeTime>17 days ago</formattedRelativeTime><stations></stations></result><result><jobtitle>Software Engineer 1</jobtitle><company>Dematic</company><city>Austin</city><state>TX</state><country>US</country><formattedLocation>Austin, TX</formattedLocation><source>Dematic</source><date>Wed, 02 Nov 2016 18:45:16 GMT</date><snippet>0-4+ years Java development experience. Assists in routine design, maintenance, enhancement, testing implementation, and support of software....</snippet><url>http://www.indeed.com/viewjob?jk=d9ddc1ff87b6eb21&amp;qd=1vHU8bY0zJlP3i697aWcBw0rZ5xk4PtwML9xRp5xvmqRET49cqTi1ld-PudIUDhsuTilJbykF52ByxgimnIVU7FVz83_6r-ThuqDSZnMAHg&amp;indpubnum=336274463762899&amp;atk=1b1d1hifiagnocch</url><onmousedown>indeed_clk(this,\\'3824\\');</onmousedown><latitude>30.266483</latitude><longitude>-97.74176</longitude><jobkey>d9ddc1ff87b6eb21</jobkey><sponsored>false</sponsored><expired>false</expired><indeedApply>false</indeedApply><formattedLocationFull>Austin, TX</formattedLocationFull><formattedRelativeTime>10 days ago</formattedRelativeTime><stations></stations></result><result><jobtitle>Java Developer</jobtitle><company>innowake</company><city>Austin</city><state>TX</state><country>US</country><formattedLocation>Austin, TX</formattedLocation><source>innoWake</source><date>Fri, 11 Nov 2016 19:39:35 GMT</date><snippet>4+ years of experience in Java development. Hands on experience in designing and developing applications using Java platforms (we use Eclipse)....</snippet><url>http://www.indeed.com/viewjob?jk=97da7b33c4fc481e&amp;qd=1vHU8bY0zJlP3i697aWcBw0rZ5xk4PtwML9xRp5xvmqRET49cqTi1ld-PudIUDhsuTilJbykF52ByxgimnIVU7FVz83_6r-ThuqDSZnMAHg&amp;indpubnum=336274463762899&amp;atk=1b1d1hifiagnocch</url><onmousedown>indeed_clk(this,\\'3824\\');</onmousedown><latitude>30.293957</latitude><longitude>-97.75824</longitude><jobkey>97da7b33c4fc481e</jobkey><sponsored>false</sponsored><expired>false</expired><indeedApply>false</indeedApply><formattedLocationFull>Austin, TX 78703</formattedLocationFull><formattedRelativeTime>1 day ago</formattedRelativeTime><stations></stations></result><result><jobtitle>Back End Developer</jobtitle><company>Spredfast</company><city>Austin</city><state>TX</state><country>US</country><formattedLocation>Austin, TX</formattedLocation><source>Spredfast</source><date>Wed, 09 Nov 2016 18:05:08 GMT</date><snippet>We build Java, Scala, Rails, and Node services. Join one of the best places to work in Austin Texas....</snippet><url>http://www.indeed.com/viewjob?jk=d698e6284655c1a6&amp;qd=1vHU8bY0zJlP3i697aWcBw0rZ5xk4PtwML9xRp5xvmqRET49cqTi1ld-PudIUDhsuTilJbykF52ByxgimnIVU7FVz83_6r-ThuqDSZnMAHg&amp;indpubnum=336274463762899&amp;atk=1b1d1hifiagnocch</url><onmousedown>indeed_clk(this,\\'3824\\');</onmousedown><latitude>30.266844</latitude><longitude>-97.74373</longitude><jobkey>d698e6284655c1a6</jobkey><sponsored>false</sponsored><expired>false</expired><indeedApply>true</indeedApply><formattedLocationFull>Austin, TX 78701</formattedLocationFull><formattedRelativeTime>3 days ago</formattedRelativeTime><stations></stations></result><result><jobtitle>Software Engineer I</jobtitle><company>Mitratech</company><city>Austin</city><state>TX</state><country>US</country><formattedLocation>Austin, TX</formattedLocation><source>Mitratech</source><date>Sat, 20 Aug 2016 06:06:22 GMT</date><snippet>Successful completion of projects where programming languages, ideally Java, are put to use to solve problems. Our team is changing the face of enterprise legal...</snippet><url>http://www.indeed.com/viewjob?jk=a8a5cacb12e8c252&amp;qd=1vHU8bY0zJlP3i697aWcBw0rZ5xk4PtwML9xRp5xvmqRET49cqTi1ld-PudIUDhsuTilJbykF52ByxgimnIVU7FVz83_6r-ThuqDSZnMAHg&amp;indpubnum=336274463762899&amp;atk=1b1d1hifiagnocch</url><onmousedown>indeed_clk(this,\\'3824\\');</onmousedown><latitude>30.266483</latitude><longitude>-97.74176</longitude><jobkey>a8a5cacb12e8c252</jobkey><sponsored>false</sponsored><expired>false</expired><indeedApply>false</indeedApply><formattedLocationFull>Austin, TX</formattedLocationFull><formattedRelativeTime>30+ days ago</formattedRelativeTime><stations></stations></result><result><jobtitle>Java Developer</jobtitle><company>General Motors</company><city>Austin</city><state>TX</state><country>US</country><formattedLocation>Austin, TX</formattedLocation><source>General Motors</source><date>Wed, 02 Nov 2016 18:48:42 GMT</date><snippet>6 or more years of hands-on experience in coding and debugging enterprise applications on Java EE and Web UI stack....</snippet><url>http://www.indeed.com/viewjob?jk=66ccb6a14c529c7a&amp;qd=1vHU8bY0zJlP3i697aWcBw0rZ5xk4PtwML9xRp5xvmqRET49cqTi1ld-PudIUDhsuTilJbykF52ByxgimnIVU7FVz83_6r-ThuqDSZnMAHg&amp;indpubnum=336274463762899&amp;atk=1b1d1hifiagnocch</url><onmousedown>indeed_clk(this,\\'3824\\');</onmousedown><latitude>30.266483</latitude><longitude>-97.74176</longitude><jobkey>66ccb6a14c529c7a</jobkey><sponsored>false</sponsored><expired>false</expired><indeedApply>false</indeedApply><formattedLocationFull>Austin, TX</formattedLocationFull><formattedRelativeTime>10 days ago</formattedRelativeTime><stations></stations></result><result><jobtitle>Entry Level software Engineer</jobtitle><company>NetCloudTek</company><city>Austin</city><state>TX</state><country>US</country><formattedLocation>Austin, TX</formattedLocation><source>NetCloudTek</source><date>Sat, 05 Nov 2016 03:07:26 GMT</date><snippet>We are offering online training on software develops and Java Developer. We Provide online training and assistance in placement....</snippet><url>http://www.indeed.com/viewjob?jk=b59503944fc56162&amp;qd=1vHU8bY0zJlP3i697aWcBw0rZ5xk4PtwML9xRp5xvmqRET49cqTi1ld-PudIUDhsuTilJbykF52ByxgimnIVU7FVz83_6r-ThuqDSZnMAHg&amp;indpubnum=336274463762899&amp;atk=1b1d1hifiagnocch</url><onmousedown>indeed_clk(this,\\'3824\\');</onmousedown><latitude>30.266483</latitude><longitude>-97.74176</longitude><jobkey>b59503944fc56162</jobkey><sponsored>false</sponsored><expired>false</expired><indeedApply>false</indeedApply><formattedLocationFull>Austin, TX</formattedLocationFull><formattedRelativeTime>7 days ago</formattedRelativeTime><stations></stations></result></results></response>'"
      ]
     },
     "execution_count": 40,
     "metadata": {},
     "output_type": "execute_result"
    }
   ],
   "source": [
    "#These are job postings in Austin Texas in radius of 25 (as crow flies) from indeed but it is in XML format. \n",
    "r_indeed.content"
   ]
  }
 ],
 "metadata": {
  "anaconda-cloud": {},
  "kernelspec": {
   "display_name": "Python [Root]",
   "language": "python",
   "name": "Python [Root]"
  },
  "language_info": {
   "codemirror_mode": {
    "name": "ipython",
    "version": 3
   },
   "file_extension": ".py",
   "mimetype": "text/x-python",
   "name": "python",
   "nbconvert_exporter": "python",
   "pygments_lexer": "ipython3",
   "version": "3.5.2"
  }
 },
 "nbformat": 4,
 "nbformat_minor": 1
}
