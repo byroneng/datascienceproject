{
 "cells": [
  {
   "cell_type": "markdown",
   "metadata": {},
   "source": [
    "# Crawling the Job Market\n",
    "Authors: Sameer NANDIKAR(u1010576), Byron ENG <br>\n",
    "CS 5963 / MATH 3900 <br>\n",
    "email id: sameer.nandikar@gmail.com \n",
    "          ; byron.eng@gmail.com"
   ]
  },
  {
   "cell_type": "markdown",
   "metadata": {},
   "source": [
    "## Background and Motivation\n",
    "We the authors of this project will be graduating in near future. Thus we need to look for jobs in our respective fields (which in our case is Mechanical Engineering and Atmospheric Sciences) or continue academics in a well-informed direction for better job opportunities. In either case a comperhensive analysis of the job market depicting trends and classifications can be really benificial. \n",
    "\n",
    "Motivation for this project comes from some obstacles encounterd in the job search, some of which we have tried to elaborate here. Though there are many job search websites which provide a plethora of information about jobs available, one can not draw useful conclusions about the job market such as density of reasearch and development jobs for a mechanical engineer in medical device sector in state of Utah, without analysis of that information. In addition to that, job openings in most of the industries related to Mechanical Engineering are requirement oriented and have very short lead times for joining thus it would be interesting to see if there are any trends in job openings and use the information to benefit the job seekers to decide when to graduate. These are just few queries among other problems we intend to solve. \n",
    "\n",
    "One more aspect of this project includes classification of jobs according to job function and sector, which will help an aspiring Graduate student to take an informed decision to select an area of interest (such as designing, manufacturing, robotics, energy systems).  "
   ]
  },
  {
   "cell_type": "markdown",
   "metadata": {},
   "source": [
    "## Project Objectives\n",
    "This project aims to be a tool for anyone entering the job market. The key objective of this project is the analysis of the job market which will include but will not be limited to\n",
    "- Geospatial density of jobs\n",
    "- Pay rates vs. experience level\n",
    "- Pay rates vs. education level\n",
    "- Classification of jobs on basis of sector (e.g.aerospace, automobile, medical device, energy, mining equipment etc)\n",
    "- Classification of jobs on basis of job function (e.g. production, quality control, design, research and development etc)\n",
    "- Annual trend of job openings for different sectors and job functions for different states "
   ]
  },
  {
   "cell_type": "markdown",
   "metadata": {
    "collapsed": true
   },
   "source": [
    "## Data\n",
    "\n",
    "At this stage we are looking from which websites we can scrap the data and which websites have APIs. Given below is the information of our current options\n",
    "\n",
    "### Inventory of data sources\n",
    "\n",
    "|Site|Comments|Allowed (scraping)|Disallowed (scraping)|API|API Reference\n",
    "|----|--------|:-----:|:--------:|---\n",
    "|Glassdoor.com|Has mostly disallows. Because we are going to be using the search, I don't think we are allowed to crawl.||x|Yes|https://www.glassdoor.com/developer/index.htm (access requested)\n",
    "|usajobs.gov|Disallows scripts||x|Yes|https://developer.usajobs.gov/API-Reference\n",
    "|dice.com|Disallows jobsearch||x|Yes|http://www.dice.com/common/content/util/apidoc/jobsearch.html\n",
    "|snagajob.com|Disallows basically everything||x|No|-|\n",
    "|simplyhired.com|Links to other sites, disallows job details but not job SEARCH||x|No|-|\n",
    "|careerbuilder.com|Disallows everything unless you're the googlebot||x|Yes|Requested key\n",
    "|careerinfonet.org|There's a lot that is disallowed, but I don't see anything that is clearly disallowing what we aim to do. Worth another look.||x|No|-|\n",
    "|indeed.com|Mostly disallows everything ||x|Yes|Requested key|\n",
    "|monster.com|Mostly disallows evferything||x|Yes|Regestration is required for access which is in progress|\n",
    "|linkedin.com|Allows scraping with permission||x|Yes|https://api.linkedin.com/v1/people/~?format=json (but an access token is required which is requested)|\n",
    "|bls.gov|||x|Yes|http://www.bls.gov/developers/api_python.htm\n",
    "\n",
    "\n",
    "\n"
   ]
  },
  {
   "cell_type": "markdown",
   "metadata": {},
   "source": [
    "## Data Processing \n",
    "\n",
    "In addition to APIs, we will keep html scraping as an option. An html of a typical job search website has list of jobs and their links. A dataframe will be created by extracting the information about the jobs from the html page and from nested url links. We will use beautifulsoup and CSS selectors for this purpose. We expect much of the effort to be in data extraction and especially in data clean up because information about the jobs entered may not follow same format most of the times as it is entered by different users. We will be using classification methods to classify the jobs by the desired metrics (ie. degree requirement). Also we need to filter out the features which are out of our present scope of study."
   ]
  },
  {
   "cell_type": "markdown",
   "metadata": {},
   "source": [
    "## Exploratory Analysis\n",
    "\n",
    "At this stage we intend to observe trends of job openings geographically as well as annually. Thus we will use scatter plots and other tools we have learned in this class for visualizations. Heuristic approach also seems appropriate for given purposes. For classification we intend to use SVM, Decision trees and k-NN and based on kind of results we get we will select best suitable method. "
   ]
  },
  {
   "cell_type": "markdown",
   "metadata": {},
   "source": [
    "## Analysis Methodlogy\n",
    "\n",
    "We will first analyze the aggregated data to see geographical and annual trends. Also we will observe the effects of attributes over salary e.g. Pay rates vs. experience level and Pay rates vs. education level. \n",
    "\n",
    "Secondly for classification purposes based on the size of the data we get from one website we will either divide one website's data into training and test data or use data from one website as training and data from another website as test data. We will use classification methods enlisted above and select the best suitable one to visualize the data in scatter plots"
   ]
  },
  {
   "cell_type": "markdown",
   "metadata": {},
   "source": [
    "## Project Schedule\n",
    "\n",
    "We have 5 weeks till the presentation date \n",
    "\n",
    "Week 1 - Data acquisition and cleaning\n",
    "\n",
    "Week 2 - Data processing \n",
    "\n",
    "Week 3 and 4 - Exploratory analysis\n",
    "\n",
    "Week 5 - Preperation for the Presentation"
   ]
  },
  {
   "cell_type": "markdown",
   "metadata": {},
   "source": [
    "# Data acquisition and cleaning"
   ]
  },
  {
   "cell_type": "code",
   "execution_count": 1,
   "metadata": {
    "collapsed": false
   },
   "outputs": [
    {
     "name": "stdout",
     "output_type": "stream",
     "text": [
      "Your USAJOBS API key is zMSiSmEw58JebBaFwlXa1nxDuoTqQfDJC25TCBA/bAs=\n",
      "Your USAJOBS Agent is byron.eng@gmail.com\n"
     ]
    }
   ],
   "source": [
    "from credentials import *\n",
    "print(\"Your USAJOBS API key is \" + USAJOBS_KEY)\n",
    "print(\"Your USAJOBS Agent is \" + USAJOBS_AGENT)\n",
    "#usajobs.gov\n",
    "import requests \n",
    "# Make a get request to get the latest position of the international space station from the opennotify api.\n",
    "#response = requests.get(\"http://data.usajobs.gov/api/JobSearch/Search/engineer?api_key=\")\n",
    "#VAR_URL = 'http://usajobs.gov/JobSearch/Search/GetResults?Series=2210&MinSalary=35000&MaxSalary=95000&LocationID=110010001';\n",
    "#response = requests.get(VAR_URL)\n",
    "#response\n",
    "\n",
    "#var request = require('request');  \n",
    "\n",
    "#var host = 'data.usajobs.gov';  \n",
    "#var userAgent = 'your@email.address';  \n",
    "#var authKey = 'YourAPIKey';    \n",
    "\n",
    "#request({      \n",
    "#    url: 'https://data.usajobs.gov/api/search?JobCategoryCode=2210',      \n",
    "#    method: 'GET',      \n",
    "#    headers: {          \n",
    "#        \"Host\": host,          \n",
    "#        \"User-Agent\": userAgent,          \n",
    "#        \"Authorization-Key\": authKey      \n",
    "#    }  \n",
    "#}, function(error, response, body) {      \n",
    "#    var data = JSON.parse(body);  \n",
    "#});"
   ]
  },
  {
   "cell_type": "code",
   "execution_count": 2,
   "metadata": {
    "collapsed": false
   },
   "outputs": [
    {
     "ename": "NameError",
     "evalue": "name 'response' is not defined",
     "output_type": "error",
     "traceback": [
      "\u001b[0;31m---------------------------------------------------------------------------\u001b[0m",
      "\u001b[0;31mNameError\u001b[0m                                 Traceback (most recent call last)",
      "\u001b[0;32m<ipython-input-2-2bd37d61b21e>\u001b[0m in \u001b[0;36m<module>\u001b[0;34m()\u001b[0m\n\u001b[0;32m----> 1\u001b[0;31m \u001b[0mresponse\u001b[0m\u001b[0;34m.\u001b[0m\u001b[0msearch\u001b[0m\u001b[0;34m(\u001b[0m\u001b[0mq\u001b[0m\u001b[0;34m=\u001b[0m\u001b[0;34m\"mechanical\"\u001b[0m\u001b[0;34m)\u001b[0m\u001b[0;34m\u001b[0m\u001b[0m\n\u001b[0m",
      "\u001b[0;31mNameError\u001b[0m: name 'response' is not defined"
     ]
    }
   ],
   "source": [
    "response.search(q=\"mechanical\")"
   ]
  },
  {
   "cell_type": "code",
   "execution_count": 3,
   "metadata": {
    "collapsed": false
   },
   "outputs": [],
   "source": [
    "import requests \n",
    "\n",
    "host = 'data.usajobs.gov'\n",
    "userAgent = USAJOBS_AGENT\n",
    "\n",
    "\n",
    "payload = {'Host':host,'User-Agent':userAgent,'Authorization-Key':USAJOBS_KEY}\n",
    "r=requests.get('https://data.usajobs.gov/api/search',params = payload)"
   ]
  },
  {
   "cell_type": "code",
   "execution_count": 4,
   "metadata": {
    "collapsed": false
   },
   "outputs": [
    {
     "data": {
      "text/plain": [
       "<Response [401]>"
      ]
     },
     "execution_count": 4,
     "metadata": {},
     "output_type": "execute_result"
    }
   ],
   "source": [
    "r"
   ]
  },
  {
   "cell_type": "code",
   "execution_count": 5,
   "metadata": {
    "collapsed": false
   },
   "outputs": [],
   "source": [
    "r_indeed=requests.get(\"http://api.indeed.com/ads/apisearch?publisher=336274463762899&q=mechanical&l=austin%2C+tx&sort=&radius=150&st=&jt=fulltime&start=&limit=1000&fromage=&filter=&latlong=1&co=us&chnl=&userip=1.2.3.4&useragent=Mozilla/%2F4.0%28Firefox%29&v=2\")"
   ]
  },
  {
   "cell_type": "code",
   "execution_count": 6,
   "metadata": {
    "collapsed": false
   },
   "outputs": [
    {
     "data": {
      "text/plain": [
       "b'<?xml version=\\'1.0\\' encoding=\\'UTF-8\\'?><response version=\"2\"><query>mechanical</query><location>austin, tx</location><clickedCategories></clickedCategories><paginationPayload></paginationPayload><radius>150</radius><dupefilter>true</dupefilter><highlight>false</highlight><start>1</start><end>25</end><pageNumber>0</pageNumber><totalresults>4126</totalresults><results><result><jobtitle>Design Engineering</jobtitle><company>Cameron</company><city>Houston</city><state>TX</state><country>US</country><formattedLocation>Houston, TX</formattedLocation><source>Cameron</source><date>Mon, 17 Oct 2016 23:33:22 GMT</date><snippet>Bachelor\\xe2\\x80\\x99s or Master\\xe2\\x80\\x99s Degree in Mechanical Engineering, Civil Engineering, Subsea Engineering, or Aerospace Engineering....</snippet><url>http://www.indeed.com/viewjob?jk=a0f168e8b0f53389&amp;qd=1vHU8bY0zJlP3i697aWcB9XxLue5yNridKLsU82kv18UhVNuxKF3s8DT0B3q_F_WPDHdu-wg7JRinJhpsDP3mHqn41Ly5e-CbHJqBNPzYU840X9RqMmoWy146cYiCabl&amp;indpubnum=336274463762899&amp;atk=1b1kcbtdbavagdb5</url><onmousedown>indeed_clk(this,\\'3768\\');</onmousedown><latitude>29.760988</latitude><longitude>-95.36264</longitude><jobkey>a0f168e8b0f53389</jobkey><sponsored>false</sponsored><expired>false</expired><indeedApply>false</indeedApply><formattedLocationFull>Houston, TX</formattedLocationFull><formattedRelativeTime>28 days ago</formattedRelativeTime><stations></stations></result><result><jobtitle>Mechanical Design Engineer</jobtitle><company>National Oilwell Varco</company><city>Houston</city><state>TX</state><country>US</country><formattedLocation>Houston, TX</formattedLocation><source>National Oilwell Varco</source><date>Wed, 02 Nov 2016 22:27:31 GMT</date><snippet>Mechanical Design Engineer. BS Degree Mechanical Engineering with 5 years related experience or 10-15 years related experience....</snippet><url>http://www.indeed.com/viewjob?jk=9046386e939282ca&amp;qd=1vHU8bY0zJlP3i697aWcB9XxLue5yNridKLsU82kv18UhVNuxKF3s8DT0B3q_F_WPDHdu-wg7JRinJhpsDP3mHqn41Ly5e-CbHJqBNPzYU840X9RqMmoWy146cYiCabl&amp;indpubnum=336274463762899&amp;atk=1b1kcbtdbavagdb5</url><onmousedown>indeed_clk(this,\\'3768\\');</onmousedown><latitude>29.760988</latitude><longitude>-95.36264</longitude><jobkey>9046386e939282ca</jobkey><sponsored>false</sponsored><expired>false</expired><indeedApply>false</indeedApply><formattedLocationFull>Houston, TX</formattedLocationFull><formattedRelativeTime>12 days ago</formattedRelativeTime><stations></stations></result><result><jobtitle>ESPCP (Electric Submersible Progressing Cavity Pump) Design Engineer, R&amp;D</jobtitle><company>Sinopec Tech Houston LLC.</company><city>Houston</city><state>TX</state><country>US</country><formattedLocation>Houston, TX</formattedLocation><source>Indeed</source><date>Mon, 31 Oct 2016 18:04:57 GMT</date><snippet>Master\\xe2\\x80\\x99s Degree in Mechanical Engineering is preferred. Must have strong mechanical / electro-mechanical skills in ESPCP design....</snippet><url>http://www.indeed.com/viewjob?jk=7759f54ea4f77d8b&amp;qd=1vHU8bY0zJlP3i697aWcB9XxLue5yNridKLsU82kv18UhVNuxKF3s8DT0B3q_F_WPDHdu-wg7JRinJhpsDP3mHqn41Ly5e-CbHJqBNPzYU840X9RqMmoWy146cYiCabl&amp;indpubnum=336274463762899&amp;atk=1b1kcbtdbavagdb5</url><onmousedown>indeed_clk(this,\\'3768\\');</onmousedown><latitude>29.760988</latitude><longitude>-95.36264</longitude><jobkey>7759f54ea4f77d8b</jobkey><sponsored>false</sponsored><expired>false</expired><indeedApply>true</indeedApply><formattedLocationFull>Houston, TX</formattedLocationFull><formattedRelativeTime>14 days ago</formattedRelativeTime><stations></stations></result><result><jobtitle>Mechanical Engineer</jobtitle><company>FlowBelow Aero, Inc</company><city>Austin</city><state>TX</state><country>US</country><formattedLocation>Austin, TX</formattedLocation><source>Indeed</source><date>Thu, 27 Oct 2016 20:49:05 GMT</date><snippet>Bachelor\\xe2\\x80\\x99s degree or higher in mechanical, aerospace or automotive engineering. This position is for an engineer with experience designing mechanical components...</snippet><url>http://www.indeed.com/viewjob?jk=78f13f1b001d5aeb&amp;qd=1vHU8bY0zJlP3i697aWcB9XxLue5yNridKLsU82kv18UhVNuxKF3s8DT0B3q_F_WPDHdu-wg7JRinJhpsDP3mHqn41Ly5e-CbHJqBNPzYU840X9RqMmoWy146cYiCabl&amp;indpubnum=336274463762899&amp;atk=1b1kcbtdbavagdb5</url><onmousedown>indeed_clk(this,\\'3768\\');</onmousedown><latitude>30.266483</latitude><longitude>-97.74176</longitude><jobkey>78f13f1b001d5aeb</jobkey><sponsored>false</sponsored><expired>false</expired><indeedApply>true</indeedApply><formattedLocationFull>Austin, TX</formattedLocationFull><formattedRelativeTime>18 days ago</formattedRelativeTime><stations></stations></result><result><jobtitle>Mechanical Engineer</jobtitle><company>ITW</company><city>Houston</city><state>TX</state><country>US</country><formattedLocation>Houston, TX</formattedLocation><source>ITW</source><date>Mon, 14 Nov 2016 17:37:22 GMT</date><snippet>Resolve structural, mechanical, and development issues. Develop mechanical prototypes to determine design feasibility....</snippet><url>http://www.indeed.com/viewjob?jk=ea33c92ffc241264&amp;qd=1vHU8bY0zJlP3i697aWcB9XxLue5yNridKLsU82kv18UhVNuxKF3s8DT0B3q_F_WPDHdu-wg7JRinJhpsDP3mHqn41Ly5e-CbHJqBNPzYU840X9RqMmoWy146cYiCabl&amp;indpubnum=336274463762899&amp;atk=1b1kcbtdbavagdb5</url><onmousedown>indeed_clk(this,\\'3768\\');</onmousedown><latitude>29.760988</latitude><longitude>-95.36264</longitude><jobkey>ea33c92ffc241264</jobkey><sponsored>false</sponsored><expired>false</expired><indeedApply>false</indeedApply><formattedLocationFull>Houston, TX</formattedLocationFull><formattedRelativeTime>22 hours ago</formattedRelativeTime><stations></stations></result><result><jobtitle>Mechanical Engineer</jobtitle><company>Marshall Engineering Corporation</company><city>Humble</city><state>TX</state><country>US</country><formattedLocation>Humble, TX</formattedLocation><source>Indeed</source><date>Wed, 02 Nov 2016 16:12:35 GMT</date><snippet>Mechanical designers typically review specifications and other data to develop mechanical layouts. Mechanical engineering requires at least a bachelor\\'s degree....</snippet><url>http://www.indeed.com/viewjob?jk=80f95c12bf0c708f&amp;qd=1vHU8bY0zJlP3i697aWcB9XxLue5yNridKLsU82kv18UhVNuxKF3s8DT0B3q_F_WPDHdu-wg7JRinJhpsDP3mHqn41Ly5e-CbHJqBNPzYU840X9RqMmoWy146cYiCabl&amp;indpubnum=336274463762899&amp;atk=1b1kcbtdbavagdb5</url><onmousedown>indeed_clk(this,\\'3768\\');</onmousedown><latitude>30.002747</latitude><longitude>-95.27473</longitude><jobkey>80f95c12bf0c708f</jobkey><sponsored>false</sponsored><expired>false</expired><indeedApply>true</indeedApply><formattedLocationFull>Humble, TX 77338</formattedLocationFull><formattedRelativeTime>13 days ago</formattedRelativeTime><stations></stations></result><result><jobtitle>Mechanical Designer IV</jobtitle><company>MODEC, Inc.</company><city>Houston</city><state>TX</state><country>US</country><formattedLocation>Houston, TX</formattedLocation><source>MODEC, Inc.</source><date>Thu, 10 Nov 2016 23:27:53 GMT</date><snippet>SOFEC is currently looking for a Mechanical Designer IV. Similar experience constructing mechanical drawings for the machining of large forgings and castings....</snippet><url>http://www.indeed.com/viewjob?jk=d584c3d3bfffd917&amp;qd=1vHU8bY0zJlP3i697aWcB9XxLue5yNridKLsU82kv18UhVNuxKF3s8DT0B3q_F_WPDHdu-wg7JRinJhpsDP3mHqn41Ly5e-CbHJqBNPzYU840X9RqMmoWy146cYiCabl&amp;indpubnum=336274463762899&amp;atk=1b1kcbtdbavagdb5</url><onmousedown>indeed_clk(this,\\'3768\\');</onmousedown><latitude>29.760988</latitude><longitude>-95.36264</longitude><jobkey>d584c3d3bfffd917</jobkey><sponsored>false</sponsored><expired>false</expired><indeedApply>false</indeedApply><formattedLocationFull>Houston, TX</formattedLocationFull><formattedRelativeTime>4 days ago</formattedRelativeTime><stations></stations></result><result><jobtitle>MECHANICAL TECHNICIAN</jobtitle><company>Weatherford</company><city>Houston</city><state>TX</state><country>US</country><formattedLocation>Houston, TX</formattedLocation><source>Weatherford</source><date>Mon, 14 Nov 2016 21:16:52 GMT</date><snippet>To design, procure, and assemble parts for testing mechanical prototype assemblies per application. Able to read and interpret mechanical assembly prints and...</snippet><url>http://www.indeed.com/viewjob?jk=cc1cad3fda744fa2&amp;qd=1vHU8bY0zJlP3i697aWcB9XxLue5yNridKLsU82kv18UhVNuxKF3s8DT0B3q_F_WPDHdu-wg7JRinJhpsDP3mHqn41Ly5e-CbHJqBNPzYU840X9RqMmoWy146cYiCabl&amp;indpubnum=336274463762899&amp;atk=1b1kcbtdbavagdb5</url><onmousedown>indeed_clk(this,\\'3768\\');</onmousedown><latitude>29.925825</latitude><longitude>-95.39011</longitude><jobkey>cc1cad3fda744fa2</jobkey><sponsored>false</sponsored><expired>false</expired><indeedApply>false</indeedApply><formattedLocationFull>Houston, TX 77060</formattedLocationFull><formattedRelativeTime>18 hours ago</formattedRelativeTime><stations></stations></result><result><jobtitle>Auto CAD Operator/Designer</jobtitle><company>365 RSS</company><city>Houston</city><state>TX</state><country>US</country><formattedLocation>Houston, TX</formattedLocation><source>Indeed</source><date>Mon, 24 Oct 2016 21:42:59 GMT</date><snippet>Mechanical skills preferred. Mechanical aptitude with ability to complete basic mathematical calculations....</snippet><url>http://www.indeed.com/viewjob?jk=a73d860e5a819717&amp;qd=1vHU8bY0zJlP3i697aWcB9XxLue5yNridKLsU82kv18UhVNuxKF3s8DT0B3q_F_WPDHdu-wg7JRinJhpsDP3mHqn41Ly5e-CbHJqBNPzYU840X9RqMmoWy146cYiCabl&amp;indpubnum=336274463762899&amp;atk=1b1kcbtdbavagdb5</url><onmousedown>indeed_clk(this,\\'3768\\');</onmousedown><latitude>29.832418</latitude><longitude>-95.47253</longitude><jobkey>a73d860e5a819717</jobkey><sponsored>false</sponsored><expired>false</expired><indeedApply>true</indeedApply><formattedLocationFull>Houston, TX 77092</formattedLocationFull><formattedRelativeTime>21 days ago</formattedRelativeTime><stations></stations></result><result><jobtitle>Electronics Design Engineer</jobtitle><company>Texas Microelectronics Corporation</company><city>Houston</city><state>TX</state><country>US</country><formattedLocation>Houston, TX</formattedLocation><source>Indeed</source><date>Tue, 11 Oct 2016 16:55:34 GMT</date><snippet>Experienced in components selection, circuit analysis, circuit board layout and design, and electrical &amp;amp; mechanical assembly....</snippet><url>http://www.indeed.com/viewjob?jk=d9dbc12698d411f8&amp;qd=1vHU8bY0zJlP3i697aWcB9XxLue5yNridKLsU82kv18UhVNuxKF3s8DT0B3q_F_WPDHdu-wg7JRinJhpsDP3mHqn41Ly5e-CbHJqBNPzYU840X9RqMmoWy146cYiCabl&amp;indpubnum=336274463762899&amp;atk=1b1kcbtdbavagdb5</url><onmousedown>indeed_clk(this,\\'3768\\');</onmousedown><latitude>29.8033</latitude><longitude>-95.563</longitude><jobkey>d9dbc12698d411f8</jobkey><sponsored>false</sponsored><expired>false</expired><indeedApply>true</indeedApply><formattedLocationFull>Houston, TX 77043</formattedLocationFull><formattedRelativeTime>30+ days ago</formattedRelativeTime><stations></stations></result><result><jobtitle>Mechanical Engineer II</jobtitle><company>Affiliated Engineers, Inc.</company><city>Houston</city><state>TX</state><country>US</country><formattedLocation>Houston, TX</formattedLocation><source>Affiliated Engineers, Inc.</source><date>Mon, 07 Nov 2016 17:46:16 GMT</date><snippet>We are seeking a Mechanical Engineer II to join our Houston, TX office. Being part of the solution....</snippet><url>http://www.indeed.com/viewjob?jk=1b32a9b373befd86&amp;qd=1vHU8bY0zJlP3i697aWcB9XxLue5yNridKLsU82kv18UhVNuxKF3s8DT0B3q_F_WPDHdu-wg7JRinJhpsDP3mHqn41Ly5e-CbHJqBNPzYU840X9RqMmoWy146cYiCabl&amp;indpubnum=336274463762899&amp;atk=1b1kcbtdbavagdb5</url><onmousedown>indeed_clk(this,\\'3768\\');</onmousedown><latitude>29.732288</latitude><longitude>-95.4327</longitude><jobkey>1b32a9b373befd86</jobkey><sponsored>false</sponsored><expired>false</expired><indeedApply>false</indeedApply><formattedLocationFull>Houston, TX 77046</formattedLocationFull><formattedRelativeTime>7 days ago</formattedRelativeTime><stations></stations></result><result><jobtitle>Mechanical Engineer</jobtitle><company>Ladish Valve Company LLC</company><city>Houston</city><state>TX</state><country>US</country><formattedLocation>Houston, TX</formattedLocation><source>Indeed</source><date>Wed, 21 Sep 2016 20:36:25 GMT</date><snippet>Bachelors degree in mechanical engineering with minimum three years experience in valve design and manufacturing. 1.0 PRIMARY FUNCTION:....</snippet><url>http://www.indeed.com/viewjob?jk=7665fb82b802ec59&amp;qd=1vHU8bY0zJlP3i697aWcB9XxLue5yNridKLsU82kv18UhVNuxKF3s8DT0B3q_F_WPDHdu-wg7JRinJhpsDP3mHqn41Ly5e-CbHJqBNPzYU840X9RqMmoWy146cYiCabl&amp;indpubnum=336274463762899&amp;atk=1b1kcbtdbavagdb5</url><onmousedown>indeed_clk(this,\\'3768\\');</onmousedown><latitude>29.92033</latitude><longitude>-95.48901</longitude><jobkey>7665fb82b802ec59</jobkey><sponsored>false</sponsored><expired>false</expired><indeedApply>true</indeedApply><formattedLocationFull>Houston, TX 77086</formattedLocationFull><formattedRelativeTime>30+ days ago</formattedRelativeTime><stations></stations></result><result><jobtitle>Mechanical Designer III</jobtitle><company>Nabors Industries</company><city>Houston</city><state>TX</state><country>US</country><formattedLocation>Houston, TX</formattedLocation><source>Nabors Industries</source><date>Tue, 01 Nov 2016 23:17:53 GMT</date><snippet>Model mechanical design concepts using 3D Parametric software. Mechanical design principals including machined parts, assemblies, weldment and sheet metal...</snippet><url>http://www.indeed.com/viewjob?jk=62edf173de06f2c4&amp;qd=1vHU8bY0zJlP3i697aWcB9XxLue5yNridKLsU82kv18UhVNuxKF3s8DT0B3q_F_WPDHdu-wg7JRinJhpsDP3mHqn41Ly5e-CbHJqBNPzYU840X9RqMmoWy146cYiCabl&amp;indpubnum=336274463762899&amp;atk=1b1kcbtdbavagdb5</url><onmousedown>indeed_clk(this,\\'3768\\');</onmousedown><latitude>29.94822</latitude><longitude>-95.42344</longitude><jobkey>62edf173de06f2c4</jobkey><sponsored>false</sponsored><expired>false</expired><indeedApply>false</indeedApply><formattedLocationFull>Houston, TX 77067</formattedLocationFull><formattedRelativeTime>13 days ago</formattedRelativeTime><stations></stations></result><result><jobtitle>General Maintenance Engineer - Entry Level- Full-Time</jobtitle><company>Hyatt</company><city>Austin</city><state>TX</state><country>US</country><formattedLocation>Austin, TX</formattedLocation><source>Hyatt</source><date>Wed, 05 Oct 2016 17:02:12 GMT</date><snippet>A General Maintenance Engineer will also perform some repairs on mechanical, electrical, kitchen, and laundry equipment, requiring some skills and experience in...</snippet><url>http://www.indeed.com/viewjob?jk=25782125b9dd56a3&amp;qd=1vHU8bY0zJlP3i697aWcB9XxLue5yNridKLsU82kv18UhVNuxKF3s8DT0B3q_F_WPDHdu-wg7JRinJhpsDP3mHqn41Ly5e-CbHJqBNPzYU840X9RqMmoWy146cYiCabl&amp;indpubnum=336274463762899&amp;atk=1b1kcbtdbavagdb5</url><onmousedown>indeed_clk(this,\\'3768\\');</onmousedown><latitude>30.266483</latitude><longitude>-97.74176</longitude><jobkey>25782125b9dd56a3</jobkey><sponsored>false</sponsored><expired>false</expired><indeedApply>false</indeedApply><formattedLocationFull>Austin, TX</formattedLocationFull><formattedRelativeTime>30+ days ago</formattedRelativeTime><stations></stations></result><result><jobtitle>Mechanical Engineer - AMC.ENG.</jobtitle><company>AmeriMex Motor &amp; Controls, LLC.</company><city>Houston</city><state>TX</state><country>US</country><formattedLocation>Houston, TX</formattedLocation><source>Indeed</source><date>Mon, 14 Nov 2016 17:51:38 GMT</date><snippet>Develops mechanical and electromechanical products by studying customer requirements; Evaluates mechanical and electromechanical systems and products by...</snippet><url>http://www.indeed.com/viewjob?jk=4f425dc87dd202fe&amp;qd=1vHU8bY0zJlP3i697aWcB9XxLue5yNridKLsU82kv18UhVNuxKF3s8DT0B3q_F_WPDHdu-wg7JRinJhpsDP3mHqn41Ly5e-CbHJqBNPzYU840X9RqMmoWy146cYiCabl&amp;indpubnum=336274463762899&amp;atk=1b1kcbtdbavagdb5</url><onmousedown>indeed_clk(this,\\'3768\\');</onmousedown><latitude>29.760988</latitude><longitude>-95.36264</longitude><jobkey>4f425dc87dd202fe</jobkey><sponsored>false</sponsored><expired>false</expired><indeedApply>true</indeedApply><formattedLocationFull>Houston, TX</formattedLocationFull><formattedRelativeTime>22 hours ago</formattedRelativeTime><stations></stations></result><result><jobtitle>Design Engineer II</jobtitle><company>Superior Energy Services, Inc</company><city>Houston</city><state>TX</state><country>US</country><formattedLocation>Houston, TX</formattedLocation><source>Superior Energy Services, Inc</source><date>Tue, 08 Nov 2016 22:28:39 GMT</date><snippet>Experience with ANSYS Mechanical and Fluent is required 3D modelling skills are required; Knowledge of Mechanical APDL and Fluid-Structural Interaction is...</snippet><url>http://www.indeed.com/viewjob?jk=8cee7cd5aa4ba526&amp;qd=1vHU8bY0zJlP3i697aWcB9XxLue5yNridKLsU82kv18UhVNuxKF3s8DT0B3q_F_WPDHdu-wg7JRinJhpsDP3mHqn41Ly5e-CbHJqBNPzYU840X9RqMmoWy146cYiCabl&amp;indpubnum=336274463762899&amp;atk=1b1kcbtdbavagdb5</url><onmousedown>indeed_clk(this,\\'3768\\');</onmousedown><latitude>29.760988</latitude><longitude>-95.36264</longitude><jobkey>8cee7cd5aa4ba526</jobkey><sponsored>false</sponsored><expired>false</expired><indeedApply>false</indeedApply><formattedLocationFull>Houston, TX</formattedLocationFull><formattedRelativeTime>6 days ago</formattedRelativeTime><stations></stations></result><result><jobtitle>Mechanical Drafter</jobtitle><company>Welker Inc.</company><city>Sugar Land</city><state>TX</state><country>US</country><formattedLocation>Sugar Land, TX</formattedLocation><source>Indeed</source><date>Mon, 14 Nov 2016 16:57:10 GMT</date><snippet>A mechanical or technical aptitude is helpful, because we design, engineer and manufacture a full line of mechanical products used in the oil and gas industry....</snippet><url>http://www.indeed.com/viewjob?jk=ef591ded767effb7&amp;qd=1vHU8bY0zJlP3i697aWcB9XxLue5yNridKLsU82kv18UhVNuxKF3s8DT0B3q_F_WPDHdu-wg7JRinJhpsDP3mHqn41Ly5e-CbHJqBNPzYU840X9RqMmoWy146cYiCabl&amp;indpubnum=336274463762899&amp;atk=1b1kcbtdbavagdb5</url><onmousedown>indeed_clk(this,\\'3768\\');</onmousedown><latitude>29.618132</latitude><longitude>-95.63187</longitude><jobkey>ef591ded767effb7</jobkey><sponsored>false</sponsored><expired>false</expired><indeedApply>true</indeedApply><formattedLocationFull>Sugar Land, TX</formattedLocationFull><formattedRelativeTime>23 hours ago</formattedRelativeTime><stations></stations></result><result><jobtitle>Mechanical Design Engineer</jobtitle><company>VYSK Communications</company><city>San Antonio</city><state>TX</state><country>US</country><formattedLocation>San Antonio, TX</formattedLocation><source>Indeed</source><date>Mon, 31 Oct 2016 18:23:45 GMT</date><snippet>Must demonstrate a complete understanding of mechanical design principles and processes by providing technical solutions to a wide range of difficult problems...</snippet><url>http://www.indeed.com/viewjob?jk=223a82adb337e0a8&amp;qd=1vHU8bY0zJlP3i697aWcB9XxLue5yNridKLsU82kv18UhVNuxKF3s8DT0B3q_F_WPDHdu-wg7JRinJhpsDP3mHqn41Ly5e-CbHJqBNPzYU840X9RqMmoWy146cYiCabl&amp;indpubnum=336274463762899&amp;atk=1b1kcbtdbavagdb5</url><onmousedown>indeed_clk(this,\\'3768\\');</onmousedown><latitude>29.49244</latitude><longitude>-98.47939</longitude><jobkey>223a82adb337e0a8</jobkey><sponsored>false</sponsored><expired>false</expired><indeedApply>true</indeedApply><formattedLocationFull>San Antonio, TX 78209</formattedLocationFull><formattedRelativeTime>14 days ago</formattedRelativeTime><stations></stations></result><result><jobtitle>MEP Drafter</jobtitle><company>EthosEnergy</company><city>Houston</city><state>TX</state><country>US</country><formattedLocation>Houston, TX</formattedLocation><source>EthosEnergy</source><date>Wed, 26 Oct 2016 20:38:16 GMT</date><snippet>We are currently recruiting for a MEP Drafter to be based within our Power Solutions business unit in Houston, Texas. The purpose of the position is to</snippet><url>http://www.indeed.com/viewjob?jk=0f8c72ad8795caf1&amp;qd=1vHU8bY0zJlP3i697aWcB9XxLue5yNridKLsU82kv18UhVNuxKF3s8DT0B3q_F_WPDHdu-wg7JRinJhpsDP3mHqn41Ly5e-CbHJqBNPzYU840X9RqMmoWy146cYiCabl&amp;indpubnum=336274463762899&amp;atk=1b1kcbtdbavagdb5</url><onmousedown>indeed_clk(this,\\'3768\\');</onmousedown><latitude>29.760988</latitude><longitude>-95.36264</longitude><jobkey>0f8c72ad8795caf1</jobkey><sponsored>false</sponsored><expired>false</expired><indeedApply>false</indeedApply><formattedLocationFull>Houston, TX</formattedLocationFull><formattedRelativeTime>19 days ago</formattedRelativeTime><stations></stations></result><result><jobtitle>Estimator - HVAC - Lange Mechanical</jobtitle><company>Lange Mechanical Services, L.P.</company><city>Houston</city><state>TX</state><country>US</country><formattedLocation>Houston, TX</formattedLocation><source>Indeed</source><date>Tue, 08 Nov 2016 17:23:05 GMT</date><snippet>Lange Mechanical Services, L.P.*. Is a leader in the HVAC industry for over 35 years....</snippet><url>http://www.indeed.com/viewjob?jk=c6346986d7ac6268&amp;qd=1vHU8bY0zJlP3i697aWcB9XxLue5yNridKLsU82kv18UhVNuxKF3s8DT0B3q_F_WPDHdu-wg7JRinJhpsDP3mHqn41Ly5e-CbHJqBNPzYU840X9RqMmoWy146cYiCabl&amp;indpubnum=336274463762899&amp;atk=1b1kcbtdbavagdb5</url><onmousedown>indeed_clk(this,\\'3768\\');</onmousedown><latitude>29.760988</latitude><longitude>-95.36264</longitude><jobkey>c6346986d7ac6268</jobkey><sponsored>false</sponsored><expired>false</expired><indeedApply>true</indeedApply><formattedLocationFull>Houston, TX</formattedLocationFull><formattedRelativeTime>6 days ago</formattedRelativeTime><stations></stations></result><result><jobtitle>Mechanical Engineer (HVAC)</jobtitle><company>Arup</company><city>Houston</city><state>TX</state><country>US</country><formattedLocation>Houston, TX</formattedLocation><source>Arup</source><date>Sun, 30 Oct 2016 08:54:21 GMT</date><snippet>Bachelor\\xe2\\x80\\x99s Degree in Mechanical or Architectural engineering with a sound knowledge of mechanical (HVAC) engineering fundamentals....</snippet><url>http://www.indeed.com/viewjob?jk=a2cc583913546a3c&amp;qd=1vHU8bY0zJlP3i697aWcB9XxLue5yNridKLsU82kv18UhVNuxKF3s8DT0B3q_F_WPDHdu-wg7JRinJhpsDP3mHqn41Ly5e-CbHJqBNPzYU840X9RqMmoWy146cYiCabl&amp;indpubnum=336274463762899&amp;atk=1b1kcbtdbavagdb5</url><onmousedown>indeed_clk(this,\\'3768\\');</onmousedown><latitude>29.728422</latitude><longitude>-95.556335</longitude><jobkey>a2cc583913546a3c</jobkey><sponsored>false</sponsored><expired>false</expired><indeedApply>false</indeedApply><formattedLocationFull>Houston, TX 77042</formattedLocationFull><formattedRelativeTime>16 days ago</formattedRelativeTime><stations></stations></result><result><jobtitle>Design Engineer</jobtitle><company>YETI Coolers</company><city>Austin</city><state>TX</state><country>US</country><formattedLocation>Austin, TX</formattedLocation><source>YETI Coolers</source><date>Fri, 07 Oct 2016 05:50:31 GMT</date><snippet>Or higher in Mechanical, Manufacturing, or Plastics Engineering, or equivalent work experience. At YETI, you will have the opportunity to create something...</snippet><url>http://www.indeed.com/viewjob?jk=70b5090fc294145b&amp;qd=1vHU8bY0zJlP3i697aWcB9XxLue5yNridKLsU82kv18UhVNuxKF3s8DT0B3q_F_WPDHdu-wg7JRinJhpsDP3mHqn41Ly5e-CbHJqBNPzYU840X9RqMmoWy146cYiCabl&amp;indpubnum=336274463762899&amp;atk=1b1kcbtdbavagdb5</url><onmousedown>indeed_clk(this,\\'3768\\');</onmousedown><latitude>30.266483</latitude><longitude>-97.74176</longitude><jobkey>70b5090fc294145b</jobkey><sponsored>false</sponsored><expired>false</expired><indeedApply>true</indeedApply><formattedLocationFull>Austin, TX</formattedLocationFull><formattedRelativeTime>30+ days ago</formattedRelativeTime><stations></stations></result><result><jobtitle>Mechanical Design Engineer - MWD/LWD Telemetry</jobtitle><company>Sinopec Tech Houston</company><city>Houston</city><state>TX</state><country>US</country><formattedLocation>Houston, TX</formattedLocation><source>Sinopec Tech Houston</source><date>Fri, 28 Oct 2016 04:56:54 GMT</date><snippet>Mechanical Design Engineer \\xe2\\x80\\x93 MWD/LWD Telemetry. Master\\xe2\\x80\\x99s Degree in Mechanical Engineering is strongly preferred....</snippet><url>http://www.indeed.com/viewjob?jk=b6e80929eb420eba&amp;qd=1vHU8bY0zJlP3i697aWcB9XxLue5yNridKLsU82kv18UhVNuxKF3s8DT0B3q_F_WPDHdu-wg7JRinJhpsDP3mHqn41Ly5e-CbHJqBNPzYU840X9RqMmoWy146cYiCabl&amp;indpubnum=336274463762899&amp;atk=1b1kcbtdbavagdb5</url><onmousedown>indeed_clk(this,\\'3768\\');</onmousedown><latitude>29.760988</latitude><longitude>-95.36264</longitude><jobkey>b6e80929eb420eba</jobkey><sponsored>false</sponsored><expired>false</expired><indeedApply>false</indeedApply><formattedLocationFull>Houston, TX</formattedLocationFull><formattedRelativeTime>18 days ago</formattedRelativeTime><stations></stations></result><result><jobtitle>Principal Mechanical Engineer - Insulation, Coating, and Fireproofing</jobtitle><company>Chicago Bridge &amp; Iron Company</company><city>Houston</city><state>TX</state><country>US</country><formattedLocation>Houston, TX</formattedLocation><source>Chicago Bridge &amp; Iron Company</source><date>Sun, 06 Nov 2016 11:08:06 GMT</date><snippet>MS Degree in Mechanical Engineering preferred. Bachelors of Science in Mechanical Engineering required. Principal Mechanical Engineer \\xe2\\x80\\x93 Insulation, Coating and...</snippet><url>http://www.indeed.com/viewjob?jk=9a72287f6e64668c&amp;qd=1vHU8bY0zJlP3i697aWcB9XxLue5yNridKLsU82kv18UhVNuxKF3s8DT0B3q_F_WPDHdu-wg7JRinJhpsDP3mHqn41Ly5e-CbHJqBNPzYU840X9RqMmoWy146cYiCabl&amp;indpubnum=336274463762899&amp;atk=1b1kcbtdbavagdb5</url><onmousedown>indeed_clk(this,\\'3768\\');</onmousedown><latitude>29.760988</latitude><longitude>-95.36264</longitude><jobkey>9a72287f6e64668c</jobkey><sponsored>false</sponsored><expired>false</expired><indeedApply>false</indeedApply><formattedLocationFull>Houston, TX</formattedLocationFull><formattedRelativeTime>9 days ago</formattedRelativeTime><stations></stations></result><result><jobtitle>Mechanical Engineer</jobtitle><company>Booz Allen Hamilton</company><city>San Antonio</city><state>TX</state><country>US</country><formattedLocation>San Antonio, TX</formattedLocation><source>Booz Allen Hamilton</source><date>Wed, 07 Sep 2016 01:23:01 GMT</date><snippet>Experience with mechanical engineering. Perform routine design, fabrication, modification, and evaluation of mechanical and electro-mechanical components, sub...</snippet><url>http://www.indeed.com/viewjob?jk=fcf764871f2d08a8&amp;qd=1vHU8bY0zJlP3i697aWcB9XxLue5yNridKLsU82kv18UhVNuxKF3s8DT0B3q_F_WPDHdu-wg7JRinJhpsDP3mHqn41Ly5e-CbHJqBNPzYU840X9RqMmoWy146cYiCabl&amp;indpubnum=336274463762899&amp;atk=1b1kcbtdbavagdb5</url><onmousedown>indeed_clk(this,\\'3768\\');</onmousedown><latitude>29.430357</latitude><longitude>-98.490814</longitude><jobkey>fcf764871f2d08a8</jobkey><sponsored>false</sponsored><expired>false</expired><indeedApply>false</indeedApply><formattedLocationFull>San Antonio, TX 78205</formattedLocationFull><formattedRelativeTime>30+ days ago</formattedRelativeTime><stations></stations></result></results></response>'"
      ]
     },
     "execution_count": 6,
     "metadata": {},
     "output_type": "execute_result"
    }
   ],
   "source": [
    "#These are job postings in Austin Texas in radius of 25 (as crow flies) from indeed but it is in XML format. \n",
    "r_indeed.content"
   ]
  },
  {
   "cell_type": "code",
   "execution_count": 16,
   "metadata": {
    "collapsed": false
   },
   "outputs": [
    {
     "name": "stdout",
     "output_type": "stream",
     "text": [
      "Using existing file: ./xml/houstontx.html\n"
     ]
    }
   ],
   "source": [
    "from bs4 import BeautifulSoup\n",
    "import urllib.request\n",
    "import os.path\n",
    "city = \"houston\"\n",
    "state = \"tx\"\n",
    "keyword = \"mechanical\"\n",
    "url = \"http://api.indeed.com/ads/apisearch?publisher=336274463762899&q=\"+keyword+\"&l=\"+city+\"%2C+\"+state+\"&sort=&radius=150&st=&jt=fulltime&start=&limit=&fromage=&filter=&latlong=1&co=us&chnl=&userip=1.2.3.4&useragent=Mozilla/%2F4.0%28Firefox%29&v=2\"\n",
    "\n",
    "filename = './xml/'+city+state+'.html'\n",
    "\n",
    "if os.path.isfile(filename):\n",
    "    print(\"Using existing file: \"+filename)\n",
    "    \n",
    "else:\n",
    "    # here we actually access the website\n",
    "    print(\"Accessing indeed.com\")\n",
    "    with urllib.request.urlopen(url) as response:\n",
    "        html = response.read()\n",
    "        html = html.decode('utf-8')\n",
    "\n",
    "    print(\"Saving new file: \"+filename)\n",
    "    # save the file\n",
    "    with open('./xml/'+city+state+'.html', 'w') as new_file:\n",
    "        new_file.write(html)\n",
    "\n",
    "# here it's already a local operation\n",
    "soup = BeautifulSoup(html, 'html.parser')"
   ]
  },
  {
   "cell_type": "code",
   "execution_count": 12,
   "metadata": {
    "collapsed": false
   },
   "outputs": [
    {
     "data": {
      "text/plain": [
       "'<?xml version=\\'1.0\\' encoding=\\'UTF-8\\'?>\\n<response version=\"2\">\\n <query>\\n  mechanical\\n </query>\\n <location>\\n  houston, tx\\n </location>\\n <clickedcategories>\\n </clickedcategories>\\n <paginationpayload>\\n </paginationpayload>\\n <radius>\\n  150\\n </radius>\\n <dupefilter>\\n  true\\n </dupefilter>\\n <highlight>\\n  false\\n </highlight>\\n <start>\\n  1\\n </start>\\n <end>\\n  10\\n </end>\\n <pagenumber>\\n  0\\n </pagenumber>\\n <totalresults>\\n  3658\\n </totalresults>\\n <results>\\n  <result>\\n   <jobtitle>\\n    Production Weekender\\n   </jobtitle>\\n   <company>\\n    Anheuser-Busch\\n   </company>\\n   <city>\\n    Houston\\n   </city>\\n   <state>\\n    TX\\n   </state>\\n   <country>\\n    US\\n   </country>\\n   <formattedlocation>\\n    Houston, TX\\n   </formattedlocation>\\n   <source>\\n    Anheuser-Busch\\n   </source>\\n   <date>\\n    Fri, 11 Nov 2016 02:04:20 GMT\\n   </date>\\n   <snippet>\\n    · Monitoring high speed equipment. · Driving fork trucks. · Loading supplies into machinery. · Recording process data. · Performing minor maintenance...\\n   </snippet>\\n   <url>\\n    http://www.indeed.com/viewjob?jk=b700d99a378765b9&amp;qd=1vHU8bY0zJlP3i697aWcB9XxLue5yNridKLsU82kv18BWaJn05Mnjp3U9WeUfRE6XSqceiM7O4YQiE4W_MaGiEgmp2FoRJZ5XSh9X2w7o3wkt0LCVy_rQinuMfW47e_m&amp;indpubnum=336274463762899&amp;atk=1b1ke9ft2af8ve1r\\n   </url>\\n   <onmousedown>\\n    indeed_clk(this,\\'1550\\');\\n   </onmousedown>\\n   <latitude>\\n    29.773088\\n   </latitude>\\n   <longitude>\\n    -95.26926\\n   </longitude>\\n   <jobkey>\\n    b700d99a378765b9\\n   </jobkey>\\n   <sponsored>\\n    false\\n   </sponsored>\\n   <expired>\\n    false\\n   </expired>\\n   <indeedapply>\\n    false\\n   </indeedapply>\\n   <formattedlocationfull>\\n    Houston, TX 77029\\n   </formattedlocationfull>\\n   <formattedrelativetime>\\n    4 days ago\\n   </formattedrelativetime>\\n   <stations>\\n   </stations>\\n  </result>\\n  <result>\\n   <jobtitle>\\n    Design Engineering\\n   </jobtitle>\\n   <company>\\n    Cameron\\n   </company>\\n   <city>\\n    Houston\\n   </city>\\n   <state>\\n    TX\\n   </state>\\n   <country>\\n    US\\n   </country>\\n   <formattedlocation>\\n    Houston, TX\\n   </formattedlocation>\\n   <source>\\n    Cameron\\n   </source>\\n   <date>\\n    Mon, 17 Oct 2016 23:33:22 GMT\\n   </date>\\n   <snippet>\\n    Bachelor’s or Master’s Degree in Mechanical Engineering, Civil Engineering, Subsea Engineering, or Aerospace Engineering....\\n   </snippet>\\n   <url>\\n    http://www.indeed.com/viewjob?jk=a0f168e8b0f53389&amp;qd=1vHU8bY0zJlP3i697aWcB9XxLue5yNridKLsU82kv18BWaJn05Mnjp3U9WeUfRE6XSqceiM7O4YQiE4W_MaGiEgmp2FoRJZ5XSh9X2w7o3wkt0LCVy_rQinuMfW47e_m&amp;indpubnum=336274463762899&amp;atk=1b1ke9ft2af8ve1r\\n   </url>\\n   <onmousedown>\\n    indeed_clk(this,\\'1550\\');\\n   </onmousedown>\\n   <latitude>\\n    29.760988\\n   </latitude>\\n   <longitude>\\n    -95.36264\\n   </longitude>\\n   <jobkey>\\n    a0f168e8b0f53389\\n   </jobkey>\\n   <sponsored>\\n    false\\n   </sponsored>\\n   <expired>\\n    false\\n   </expired>\\n   <indeedapply>\\n    false\\n   </indeedapply>\\n   <formattedlocationfull>\\n    Houston, TX\\n   </formattedlocationfull>\\n   <formattedrelativetime>\\n    28 days ago\\n   </formattedrelativetime>\\n   <stations>\\n   </stations>\\n  </result>\\n  <result>\\n   <jobtitle>\\n    Mechanical Engineer\\n   </jobtitle>\\n   <company>\\n    FlowBelow Aero, Inc\\n   </company>\\n   <city>\\n    Austin\\n   </city>\\n   <state>\\n    TX\\n   </state>\\n   <country>\\n    US\\n   </country>\\n   <formattedlocation>\\n    Austin, TX\\n   </formattedlocation>\\n   <source>\\n    Indeed\\n   </source>\\n   <date>\\n    Thu, 27 Oct 2016 20:49:05 GMT\\n   </date>\\n   <snippet>\\n    Bachelor’s degree or higher in mechanical, aerospace or automotive engineering. This position is for an engineer with experience designing mechanical components...\\n   </snippet>\\n   <url>\\n    http://www.indeed.com/viewjob?jk=78f13f1b001d5aeb&amp;qd=1vHU8bY0zJlP3i697aWcB9XxLue5yNridKLsU82kv18BWaJn05Mnjp3U9WeUfRE6XSqceiM7O4YQiE4W_MaGiEgmp2FoRJZ5XSh9X2w7o3wkt0LCVy_rQinuMfW47e_m&amp;indpubnum=336274463762899&amp;atk=1b1ke9ft2af8ve1r\\n   </url>\\n   <onmousedown>\\n    indeed_clk(this,\\'1550\\');\\n   </onmousedown>\\n   <latitude>\\n    30.266483\\n   </latitude>\\n   <longitude>\\n    -97.74176\\n   </longitude>\\n   <jobkey>\\n    78f13f1b001d5aeb\\n   </jobkey>\\n   <sponsored>\\n    false\\n   </sponsored>\\n   <expired>\\n    false\\n   </expired>\\n   <indeedapply>\\n    true\\n   </indeedapply>\\n   <formattedlocationfull>\\n    Austin, TX\\n   </formattedlocationfull>\\n   <formattedrelativetime>\\n    18 days ago\\n   </formattedrelativetime>\\n   <stations>\\n   </stations>\\n  </result>\\n  <result>\\n   <jobtitle>\\n    Integration Engineer – Entry level\\n   </jobtitle>\\n   <company>\\n    Barrios Technology, Ltd.\\n   </company>\\n   <city>\\n    Houston\\n   </city>\\n   <state>\\n    TX\\n   </state>\\n   <country>\\n    US\\n   </country>\\n   <formattedlocation>\\n    Houston, TX\\n   </formattedlocation>\\n   <source>\\n    Barrios Technology, Ltd.\\n   </source>\\n   <date>\\n    Mon, 14 Nov 2016 23:08:36 GMT\\n   </date>\\n   <snippet>\\n    BS degree in Aerospace engineering, Systems engineering or Mechanical engineering from an accredited college or university....\\n   </snippet>\\n   <url>\\n    http://www.indeed.com/viewjob?jk=f2bc435d2258ef82&amp;qd=1vHU8bY0zJlP3i697aWcB9XxLue5yNridKLsU82kv18BWaJn05Mnjp3U9WeUfRE6XSqceiM7O4YQiE4W_MaGiEgmp2FoRJZ5XSh9X2w7o3wkt0LCVy_rQinuMfW47e_m&amp;indpubnum=336274463762899&amp;atk=1b1ke9ft2af8ve1r\\n   </url>\\n   <onmousedown>\\n    indeed_clk(this,\\'1550\\');\\n   </onmousedown>\\n   <latitude>\\n    29.552198\\n   </latitude>\\n   <longitude>\\n    -95.09341\\n   </longitude>\\n   <jobkey>\\n    f2bc435d2258ef82\\n   </jobkey>\\n   <sponsored>\\n    false\\n   </sponsored>\\n   <expired>\\n    false\\n   </expired>\\n   <indeedapply>\\n    false\\n   </indeedapply>\\n   <formattedlocationfull>\\n    Houston, TX 77058\\n   </formattedlocationfull>\\n   <formattedrelativetime>\\n    17 hours ago\\n   </formattedrelativetime>\\n   <stations>\\n   </stations>\\n  </result>\\n  <result>\\n   <jobtitle>\\n    Mechanical Design Engineer\\n   </jobtitle>\\n   <company>\\n    National Oilwell Varco\\n   </company>\\n   <city>\\n    Houston\\n   </city>\\n   <state>\\n    TX\\n   </state>\\n   <country>\\n    US\\n   </country>\\n   <formattedlocation>\\n    Houston, TX\\n   </formattedlocation>\\n   <source>\\n    National Oilwell Varco\\n   </source>\\n   <date>\\n    Wed, 02 Nov 2016 22:27:31 GMT\\n   </date>\\n   <snippet>\\n    Mechanical Design Engineer. BS Degree Mechanical Engineering with 5 years related experience or 10-15 years related experience....\\n   </snippet>\\n   <url>\\n    http://www.indeed.com/viewjob?jk=9046386e939282ca&amp;qd=1vHU8bY0zJlP3i697aWcB9XxLue5yNridKLsU82kv18BWaJn05Mnjp3U9WeUfRE6XSqceiM7O4YQiE4W_MaGiEgmp2FoRJZ5XSh9X2w7o3wkt0LCVy_rQinuMfW47e_m&amp;indpubnum=336274463762899&amp;atk=1b1ke9ft2af8ve1r\\n   </url>\\n   <onmousedown>\\n    indeed_clk(this,\\'1550\\');\\n   </onmousedown>\\n   <latitude>\\n    29.760988\\n   </latitude>\\n   <longitude>\\n    -95.36264\\n   </longitude>\\n   <jobkey>\\n    9046386e939282ca\\n   </jobkey>\\n   <sponsored>\\n    false\\n   </sponsored>\\n   <expired>\\n    false\\n   </expired>\\n   <indeedapply>\\n    false\\n   </indeedapply>\\n   <formattedlocationfull>\\n    Houston, TX\\n   </formattedlocationfull>\\n   <formattedrelativetime>\\n    12 days ago\\n   </formattedrelativetime>\\n   <stations>\\n   </stations>\\n  </result>\\n  <result>\\n   <jobtitle>\\n    ESPCP (Electric Submersible Progressing Cavity Pump) Design Engineer, R&amp;D\\n   </jobtitle>\\n   <company>\\n    Sinopec Tech Houston LLC.\\n   </company>\\n   <city>\\n    Houston\\n   </city>\\n   <state>\\n    TX\\n   </state>\\n   <country>\\n    US\\n   </country>\\n   <formattedlocation>\\n    Houston, TX\\n   </formattedlocation>\\n   <source>\\n    Indeed\\n   </source>\\n   <date>\\n    Mon, 31 Oct 2016 18:04:57 GMT\\n   </date>\\n   <snippet>\\n    Master’s Degree in Mechanical Engineering is preferred. Must have strong mechanical / electro-mechanical skills in ESPCP design....\\n   </snippet>\\n   <url>\\n    http://www.indeed.com/viewjob?jk=7759f54ea4f77d8b&amp;qd=1vHU8bY0zJlP3i697aWcB9XxLue5yNridKLsU82kv18BWaJn05Mnjp3U9WeUfRE6XSqceiM7O4YQiE4W_MaGiEgmp2FoRJZ5XSh9X2w7o3wkt0LCVy_rQinuMfW47e_m&amp;indpubnum=336274463762899&amp;atk=1b1ke9ft2af8ve1r\\n   </url>\\n   <onmousedown>\\n    indeed_clk(this,\\'1550\\');\\n   </onmousedown>\\n   <latitude>\\n    29.760988\\n   </latitude>\\n   <longitude>\\n    -95.36264\\n   </longitude>\\n   <jobkey>\\n    7759f54ea4f77d8b\\n   </jobkey>\\n   <sponsored>\\n    false\\n   </sponsored>\\n   <expired>\\n    false\\n   </expired>\\n   <indeedapply>\\n    true\\n   </indeedapply>\\n   <formattedlocationfull>\\n    Houston, TX\\n   </formattedlocationfull>\\n   <formattedrelativetime>\\n    14 days ago\\n   </formattedrelativetime>\\n   <stations>\\n   </stations>\\n  </result>\\n  <result>\\n   <jobtitle>\\n    Mechanical Engineer\\n   </jobtitle>\\n   <company>\\n    ITW\\n   </company>\\n   <city>\\n    Houston\\n   </city>\\n   <state>\\n    TX\\n   </state>\\n   <country>\\n    US\\n   </country>\\n   <formattedlocation>\\n    Houston, TX\\n   </formattedlocation>\\n   <source>\\n    ITW\\n   </source>\\n   <date>\\n    Mon, 14 Nov 2016 17:37:22 GMT\\n   </date>\\n   <snippet>\\n    Resolve structural, mechanical, and development issues. Develop mechanical prototypes to determine design feasibility....\\n   </snippet>\\n   <url>\\n    http://www.indeed.com/viewjob?jk=ea33c92ffc241264&amp;qd=1vHU8bY0zJlP3i697aWcB9XxLue5yNridKLsU82kv18BWaJn05Mnjp3U9WeUfRE6XSqceiM7O4YQiE4W_MaGiEgmp2FoRJZ5XSh9X2w7o3wkt0LCVy_rQinuMfW47e_m&amp;indpubnum=336274463762899&amp;atk=1b1ke9ft2af8ve1r\\n   </url>\\n   <onmousedown>\\n    indeed_clk(this,\\'1550\\');\\n   </onmousedown>\\n   <latitude>\\n    29.760988\\n   </latitude>\\n   <longitude>\\n    -95.36264\\n   </longitude>\\n   <jobkey>\\n    ea33c92ffc241264\\n   </jobkey>\\n   <sponsored>\\n    false\\n   </sponsored>\\n   <expired>\\n    false\\n   </expired>\\n   <indeedapply>\\n    false\\n   </indeedapply>\\n   <formattedlocationfull>\\n    Houston, TX\\n   </formattedlocationfull>\\n   <formattedrelativetime>\\n    23 hours ago\\n   </formattedrelativetime>\\n   <stations>\\n   </stations>\\n  </result>\\n  <result>\\n   <jobtitle>\\n    Mechanical Drafter\\n   </jobtitle>\\n   <company>\\n    Welker Inc.\\n   </company>\\n   <city>\\n    Sugar Land\\n   </city>\\n   <state>\\n    TX\\n   </state>\\n   <country>\\n    US\\n   </country>\\n   <formattedlocation>\\n    Sugar Land, TX\\n   </formattedlocation>\\n   <source>\\n    Indeed\\n   </source>\\n   <date>\\n    Mon, 14 Nov 2016 16:57:10 GMT\\n   </date>\\n   <snippet>\\n    A mechanical or technical aptitude is helpful, because we design, engineer and manufacture a full line of mechanical products used in the oil and gas industry....\\n   </snippet>\\n   <url>\\n    http://www.indeed.com/viewjob?jk=ef591ded767effb7&amp;qd=1vHU8bY0zJlP3i697aWcB9XxLue5yNridKLsU82kv18BWaJn05Mnjp3U9WeUfRE6XSqceiM7O4YQiE4W_MaGiEgmp2FoRJZ5XSh9X2w7o3wkt0LCVy_rQinuMfW47e_m&amp;indpubnum=336274463762899&amp;atk=1b1ke9ft2af8ve1r\\n   </url>\\n   <onmousedown>\\n    indeed_clk(this,\\'1550\\');\\n   </onmousedown>\\n   <latitude>\\n    29.618132\\n   </latitude>\\n   <longitude>\\n    -95.63187\\n   </longitude>\\n   <jobkey>\\n    ef591ded767effb7\\n   </jobkey>\\n   <sponsored>\\n    false\\n   </sponsored>\\n   <expired>\\n    false\\n   </expired>\\n   <indeedapply>\\n    true\\n   </indeedapply>\\n   <formattedlocationfull>\\n    Sugar Land, TX\\n   </formattedlocationfull>\\n   <formattedrelativetime>\\n    23 hours ago\\n   </formattedrelativetime>\\n   <stations>\\n   </stations>\\n  </result>\\n  <result>\\n   <jobtitle>\\n    General Maintenance Engineer - Entry Level- Full-Time\\n   </jobtitle>\\n   <company>\\n    Hyatt\\n   </company>\\n   <city>\\n    Austin\\n   </city>\\n   <state>\\n    TX\\n   </state>\\n   <country>\\n    US\\n   </country>\\n   <formattedlocation>\\n    Austin, TX\\n   </formattedlocation>\\n   <source>\\n    Hyatt\\n   </source>\\n   <date>\\n    Wed, 05 Oct 2016 17:02:12 GMT\\n   </date>\\n   <snippet>\\n    A General Maintenance Engineer will also perform some repairs on mechanical, electrical, kitchen, and laundry equipment, requiring some skills and experience in...\\n   </snippet>\\n   <url>\\n    http://www.indeed.com/viewjob?jk=25782125b9dd56a3&amp;qd=1vHU8bY0zJlP3i697aWcB9XxLue5yNridKLsU82kv18BWaJn05Mnjp3U9WeUfRE6XSqceiM7O4YQiE4W_MaGiEgmp2FoRJZ5XSh9X2w7o3wkt0LCVy_rQinuMfW47e_m&amp;indpubnum=336274463762899&amp;atk=1b1ke9ft2af8ve1r\\n   </url>\\n   <onmousedown>\\n    indeed_clk(this,\\'1550\\');\\n   </onmousedown>\\n   <latitude>\\n    30.266483\\n   </latitude>\\n   <longitude>\\n    -97.74176\\n   </longitude>\\n   <jobkey>\\n    25782125b9dd56a3\\n   </jobkey>\\n   <sponsored>\\n    false\\n   </sponsored>\\n   <expired>\\n    false\\n   </expired>\\n   <indeedapply>\\n    false\\n   </indeedapply>\\n   <formattedlocationfull>\\n    Austin, TX\\n   </formattedlocationfull>\\n   <formattedrelativetime>\\n    30+ days ago\\n   </formattedrelativetime>\\n   <stations>\\n   </stations>\\n  </result>\\n  <result>\\n   <jobtitle>\\n    Auto CAD Operator/Designer\\n   </jobtitle>\\n   <company>\\n    365 RSS\\n   </company>\\n   <city>\\n    Houston\\n   </city>\\n   <state>\\n    TX\\n   </state>\\n   <country>\\n    US\\n   </country>\\n   <formattedlocation>\\n    Houston, TX\\n   </formattedlocation>\\n   <source>\\n    Indeed\\n   </source>\\n   <date>\\n    Mon, 24 Oct 2016 21:42:59 GMT\\n   </date>\\n   <snippet>\\n    Mechanical skills preferred. Mechanical aptitude with ability to complete basic mathematical calculations....\\n   </snippet>\\n   <url>\\n    http://www.indeed.com/viewjob?jk=a73d860e5a819717&amp;qd=1vHU8bY0zJlP3i697aWcB9XxLue5yNridKLsU82kv18BWaJn05Mnjp3U9WeUfRE6XSqceiM7O4YQiE4W_MaGiEgmp2FoRJZ5XSh9X2w7o3wkt0LCVy_rQinuMfW47e_m&amp;indpubnum=336274463762899&amp;atk=1b1ke9ft2af8ve1r\\n   </url>\\n   <onmousedown>\\n    indeed_clk(this,\\'1550\\');\\n   </onmousedown>\\n   <latitude>\\n    29.832418\\n   </latitude>\\n   <longitude>\\n    -95.47253\\n   </longitude>\\n   <jobkey>\\n    a73d860e5a819717\\n   </jobkey>\\n   <sponsored>\\n    false\\n   </sponsored>\\n   <expired>\\n    false\\n   </expired>\\n   <indeedapply>\\n    true\\n   </indeedapply>\\n   <formattedlocationfull>\\n    Houston, TX 77092\\n   </formattedlocationfull>\\n   <formattedrelativetime>\\n    21 days ago\\n   </formattedrelativetime>\\n   <stations>\\n   </stations>\\n  </result>\\n </results>\\n</response>'"
      ]
     },
     "execution_count": 12,
     "metadata": {},
     "output_type": "execute_result"
    }
   ],
   "source": [
    "soup.prettify()"
   ]
  },
  {
   "cell_type": "code",
   "execution_count": 46,
   "metadata": {
    "collapsed": false
   },
   "outputs": [
    {
     "ename": "NameError",
     "evalue": "name 'link_tail' is not defined",
     "output_type": "error",
     "traceback": [
      "\u001b[0;31m---------------------------------------------------------------------------\u001b[0m",
      "\u001b[0;31mNameError\u001b[0m                                 Traceback (most recent call last)",
      "\u001b[0;32m<ipython-input-46-ee083d910d2f>\u001b[0m in \u001b[0;36m<module>\u001b[0;34m()\u001b[0m\n\u001b[1;32m     14\u001b[0m     \u001b[1;31m#subjects[subject_short] = (subject_long, link)\u001b[0m\u001b[1;33m\u001b[0m\u001b[1;33m\u001b[0m\u001b[0m\n\u001b[1;32m     15\u001b[0m \u001b[1;33m\u001b[0m\u001b[0m\n\u001b[0;32m---> 16\u001b[0;31m \u001b[0mlink_tail\u001b[0m\u001b[1;33m\u001b[0m\u001b[0m\n\u001b[0m",
      "\u001b[0;31mNameError\u001b[0m: name 'link_tail' is not defined"
     ]
    }
   ],
   "source": [
    "jobs = {}\n",
    "\n",
    "for result in soup.find_all(class_=\"results\"):\n",
    "    # the url is relative. \n",
    "    # We can get the tail by retrieving the link out the href attribute of the a tag\n",
    "    link_tail = subject.find(\"a\").get(\"href\")\n",
    "    # concatenate the base URL and the tail of the link\n",
    "    #link = url + link_tail\n",
    "    # the subject shortname is embedded within the <a> tag\n",
    "    #subject_short = subject.find(\"a\").get_text()\n",
    "    # the subject name is embedded within the span \n",
    "    #subject_long = subject.span.get_text()\n",
    "    # write it to the dictionary\n",
    "    #subjects[subject_short] = (subject_long, link)\n",
    "\n",
    "link_tail"
   ]
  }
 ],
 "metadata": {
  "anaconda-cloud": {},
  "kernelspec": {
   "display_name": "Python [conda root]",
   "language": "python",
   "name": "conda-root-py"
  },
  "language_info": {
   "codemirror_mode": {
    "name": "ipython",
    "version": 3
   },
   "file_extension": ".py",
   "mimetype": "text/x-python",
   "name": "python",
   "nbconvert_exporter": "python",
   "pygments_lexer": "ipython3",
   "version": "3.5.2"
  }
 },
 "nbformat": 4,
 "nbformat_minor": 1
}
