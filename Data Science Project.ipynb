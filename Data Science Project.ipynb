{
 "cells": [
  {
   "cell_type": "markdown",
   "metadata": {},
   "source": [
    "# Crawling the Job Market\n",
    "Authors: Sameer NANDIKAR(u1010576), Byron ENG <br>\n",
    "CS 5963 / MATH 3900 <br>\n",
    "email id: sameer.nandikar@gmail.com \n",
    "          ; byron.eng@gmail.com"
   ]
  },
  {
   "cell_type": "markdown",
   "metadata": {},
   "source": [
    "## Background and Motivation\n",
    "We the authors of this project will be graduating in near future. Thus we need to look for jobs in our respective fields (which in our case is Mechanical Engineering) or continue academics in direction which has scope for better job opportunities. In either case a comperhensive analysis of job market depicting trends and classifications can be really benificial. \n",
    "\n",
    "Motivation for this project comes from some obstacles encounterd in job search, some of which we have tried elaborate here. Though there are many job search websites which provide a plethora of information about jobs available, one can not draw useful conclusions about job market such as density of reasearch and development jobs for a mechanical engineer in medical device sector  in state of Utah, without analysis of that information. In addition to that job openings in most of the industries related to Mechanical Engineering are requirement oriented and have very short lead times for joining thus it would be intersting to see if there are any trends in job openings and use the information to benifit the job seekers to decide when to graduate. These are just few querries among other problems we intend to solve. \n",
    "\n",
    "One more aspect of this project includes classification of jobs according to job function and sector, which will help an aspiring Graduate student to take an informed decision to select an area of interst (such as desing, manufacturing, robotics, energy systemes).  "
   ]
  },
  {
   "cell_type": "markdown",
   "metadata": {},
   "source": [
    "## Project Objectives\n",
    "This project aims to be a tool for anyone entering the job market. Objective of this project is analysis of job market for mechanical engineers output of which will include but will not be limeted to\n",
    "- Geospatial density of jobs\n",
    "- Pay rates vs. experience level\n",
    "- Pay rates vs. education level\n",
    "- Classification of jobs on basis of sector (e.g.aerospace, automobile, medical device, energy, mining equipment etc)\n",
    "- Classification of jobs on basis of job function (e.g. production, quality control, design, research and development etc)\n",
    "- Annual trend of job openings for different sectors and job functions for different states "
   ]
  },
  {
   "cell_type": "markdown",
   "metadata": {
    "collapsed": true
   },
   "source": [
    "## Data\n",
    "\n",
    "At this stage we are looking from which websites we can scrap the data and which websites have APIs. Given below is the information of our current options\n",
    "\n",
    "### Inventory of data sources\n",
    "\n",
    "|Site|Comments|Allowed|Disallowed|API|API Reference\n",
    "|----|--------|:-----:|:--------:|---\n",
    "|Glassdoor.com|Has mostly disallows. Because we are going to be using the search, I don't think we are allowed to crawl.||x|Yes|https://www.glassdoor.com/developer/index.htm\n",
    "|usajobs.com|Disallows scripts||x|Yes|https://developer.usajobs.gov/API-Reference\n",
    "|dice.com|Disallows jobsearch||x|Yes|http://www.dice.com/common/content/util/apidoc/jobsearch.html\n",
    "|snagajob.com|Disallows basically everything||x|No|-|\n",
    "|simplyhired.com|Links to other sites, disallows job details but not job SEARCH||x|No|-|\n",
    "|careerbuilder.com|Disallows everything unless you're the googlebot||x|Yes|Requested key\n",
    "|careerinfonet.org|There's a lot that is disallowed, but I don't see anything that is clearly disallowing what we aim to do. Worth another look.||x|No|-|\n",
    "|indeed.com|Mostly disallows everything ||x|Yes|Requested key|\n",
    "|monster.com|Mostly disallows evferything||x|Yes|Regestration is required for access which is in progress|\n",
    "|linkedin.com|Allows scraping with permission||x|Yes|https://api.linkedin.com/v1/people/~?format=json (but an access token is required which is requested)|\n",
    "\n",
    "\n",
    "\n"
   ]
  },
  {
   "cell_type": "markdown",
   "metadata": {},
   "source": [
    "## Data Processing \n",
    "\n",
    "A html of a typical job search website has list of jobs and their links. A dataframe will be created by extracting the information about the jobs from the html page and from nested url links.We will use beutifulsoup and CSS selectors for this purpose. We expect some efforts in data extraction and especially in data clean up because information about the jobs entered may not follow same format most of the times as it is entered by different users. Also we need to filter out the features which are out of our present scope of study."
   ]
  },
  {
   "cell_type": "markdown",
   "metadata": {},
   "source": [
    "## Exploratory Analysis\n",
    "\n",
    "At this stage we intend to observe trends of job openings geographically as well as annually. Thus we will use scatter plots for visuallizations. Heuristic approach also seems appropriate for given purposes. \n",
    "For classification we intend to use SVM, Decision trees and k-NN and based on kind of results we get we will select best suitable method. "
   ]
  },
  {
   "cell_type": "markdown",
   "metadata": {},
   "source": [
    "## Analysis Methodlogy\n",
    "\n",
    "We will first analyse the aggregated data to see geographical and annual trends.Also we will observe effect of attributes over salary e.g.Pay rates vs. experience level and Pay rates vs. education level. \n",
    "\n",
    "Secondly for classification purposes based on the size of data we get from one website we will either devide one websites data into training and test data or use data from one website as training and data from another website as test data. We will use classification methods enlisted above and select best suitable one to visualize the data in scatter plots"
   ]
  },
  {
   "cell_type": "markdown",
   "metadata": {},
   "source": [
    "## Project Schedule\n",
    "\n",
    "We have 5 weeks till the presentation date \n",
    "\n",
    "Week 1 - Data aquisition and cleaning\n",
    "\n",
    "Week 2 - Data processing \n",
    "\n",
    "Week 3 and 4 - Exploratory analysis\n",
    "\n",
    "Week 5 - Preperation for the Presentation"
   ]
  }
 ],
 "metadata": {
  "anaconda-cloud": {},
  "kernelspec": {
   "display_name": "Python [Root]",
   "language": "python",
   "name": "Python [Root]"
  },
  "language_info": {
   "codemirror_mode": {
    "name": "ipython",
    "version": 3
   },
   "file_extension": ".py",
   "mimetype": "text/x-python",
   "name": "python",
   "nbconvert_exporter": "python",
   "pygments_lexer": "ipython3",
   "version": "3.5.2"
  }
 },
 "nbformat": 4,
 "nbformat_minor": 1
}
