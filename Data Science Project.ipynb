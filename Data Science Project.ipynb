{
 "cells": [
  {
   "cell_type": "markdown",
   "metadata": {},
   "source": [
    "# Crawling the Job Market\n",
    "Authors: Sameer NANDIKAR(u1010576), Byron ENG <br>\n",
    "CS 5963 / MATH 3900 <br>\n",
    "email id: sameer.nandikar@gmail.com \n",
    "          ; byron.eng@gmail.com"
   ]
  },
  {
   "cell_type": "markdown",
   "metadata": {},
   "source": [
    "## Background and Motivation\n",
    "We the authors of this project will be graduating in near future. Thus we need to look for jobs in our respective fields (which in our case is Mechanical Engineering and Atmospheric Sciences) or continue academics in a well-informed direction for better job opportunities. In either case a comperhensive analysis of the job market depicting trends and classifications can be really benificial. \n",
    "\n",
    "Motivation for this project comes from some obstacles encounterd in the job search, some of which we have tried to elaborate here. Though there are many job search websites which provide a plethora of information about jobs available, one can not draw useful conclusions about the job market such as density of reasearch and development jobs for a mechanical engineer in medical device sector in state of Utah, without analysis of that information. In addition to that, job openings in most of the industries related to Mechanical Engineering are requirement oriented and have very short lead times for joining thus it would be interesting to see if there are any trends in job openings and use the information to benefit the job seekers to decide when to graduate. These are just few queries among other problems we intend to solve. \n",
    "\n",
    "One more aspect of this project includes classification of jobs according to job function and sector, which will help an aspiring Graduate student to take an informed decision to select an area of interest (such as designing, manufacturing, robotics, energy systems).  "
   ]
  },
  {
   "cell_type": "markdown",
   "metadata": {},
   "source": [
    "## Project Objectives\n",
    "This project aims to be a tool for anyone entering the job market. The key objective of this project is the analysis of the job market which will include but will not be limited to\n",
    "- Geospatial density of jobs\n",
    "- Pay rates vs. experience level\n",
    "- Pay rates vs. education level\n",
    "- Classification of jobs on basis of sector (e.g.aerospace, automobile, medical device, energy, mining equipment etc)\n",
    "- Classification of jobs on basis of job function (e.g. production, quality control, design, research and development etc)\n",
    "- Annual trend of job openings for different sectors and job functions for different states "
   ]
  },
  {
   "cell_type": "markdown",
   "metadata": {
    "collapsed": true
   },
   "source": [
    "## Data\n",
    "\n",
    "At this stage we are looking from which websites we can scrap the data and which websites have APIs. Given below is the information of our current options\n",
    "\n",
    "### Inventory of data sources\n",
    "\n",
    "|Site|Comments|Allowed (scraping)|Disallowed (scraping)|API|API Reference\n",
    "|----|--------|:-----:|:--------:|---\n",
    "|Glassdoor.com|Has mostly disallows. Because we are going to be using the search, I don't think we are allowed to crawl.||x|Yes|https://www.glassdoor.com/developer/index.htm (access requested)\n",
    "|usajobs.gov|Disallows scripts||x|Yes|https://developer.usajobs.gov/API-Reference\n",
    "|dice.com|Disallows jobsearch||x|Yes|http://www.dice.com/common/content/util/apidoc/jobsearch.html\n",
    "|snagajob.com|Disallows basically everything||x|No|-|\n",
    "|simplyhired.com|Links to other sites, disallows job details but not job SEARCH||x|No|-|\n",
    "|careerbuilder.com|Disallows everything unless you're the googlebot||x|Yes|Requested key\n",
    "|careerinfonet.org|There's a lot that is disallowed, but I don't see anything that is clearly disallowing what we aim to do. Worth another look.||x|No|-|\n",
    "|indeed.com|Mostly disallows everything ||x|Yes|Requested key|\n",
    "|monster.com|Mostly disallows evferything||x|Yes|Regestration is required for access which is in progress|\n",
    "|linkedin.com|Allows scraping with permission||x|Yes|https://api.linkedin.com/v1/people/~?format=json (but an access token is required which is requested)|\n",
    "|bls.gov|||x|Yes|http://www.bls.gov/developers/api_python.htm\n",
    "\n",
    "\n",
    "\n"
   ]
  },
  {
   "cell_type": "markdown",
   "metadata": {},
   "source": [
    "## Data Processing \n",
    "\n",
    "In addition to APIs, we will keep html scraping as an option. An html of a typical job search website has list of jobs and their links. A dataframe will be created by extracting the information about the jobs from the html page and from nested url links. We will use beautifulsoup and CSS selectors for this purpose. We expect much of the effort to be in data extraction and especially in data clean up because information about the jobs entered may not follow same format most of the times as it is entered by different users. We will be using classification methods to classify the jobs by the desired metrics (ie. degree requirement). Also we need to filter out the features which are out of our present scope of study."
   ]
  },
  {
   "cell_type": "markdown",
   "metadata": {},
   "source": [
    "## Exploratory Analysis\n",
    "\n",
    "At this stage we intend to observe trends of job openings geographically as well as annually. Thus we will use scatter plots and other tools we have learned in this class for visualizations. Heuristic approach also seems appropriate for given purposes. For classification we intend to use SVM, Decision trees and k-NN and based on kind of results we get we will select best suitable method. "
   ]
  },
  {
   "cell_type": "markdown",
   "metadata": {},
   "source": [
    "## Analysis Methodlogy\n",
    "\n",
    "We will first analyze the aggregated data to see geographical and annual trends. Also we will observe the effects of attributes over salary e.g. Pay rates vs. experience level and Pay rates vs. education level. \n",
    "\n",
    "Secondly for classification purposes based on the size of the data we get from one website we will either divide one website's data into training and test data or use data from one website as training and data from another website as test data. We will use classification methods enlisted above and select the best suitable one to visualize the data in scatter plots"
   ]
  },
  {
   "cell_type": "markdown",
   "metadata": {},
   "source": [
    "## Project Schedule\n",
    "\n",
    "We have 5 weeks till the presentation date \n",
    "\n",
    "Week 1 - Data acquisition and cleaning\n",
    "\n",
    "Week 2 - Data processing \n",
    "\n",
    "Week 3 and 4 - Exploratory analysis\n",
    "\n",
    "Week 5 - Preperation for the Presentation"
   ]
  },
  {
   "cell_type": "markdown",
   "metadata": {},
   "source": [
    "# Data acquisition and cleaning"
   ]
  },
  {
   "cell_type": "code",
   "execution_count": 50,
   "metadata": {
    "collapsed": false
   },
   "outputs": [
    {
     "name": "stdout",
     "output_type": "stream",
     "text": [
      "Your USAJOBS API key is zMSiSmEw58JebBaFwlXa1nxDuoTqQfDJC25TCBA/bAs=\n",
      "Your USAJOBS Agent is byron.eng@gmail.com\n"
     ]
    }
   ],
   "source": [
    "from credentials import *\n",
    "print(\"Your USAJOBS API key is \" + USAJOBS_KEY)\n",
    "print(\"Your USAJOBS Agent is \" + USAJOBS_AGENT)\n",
    "#usajobs.gov\n",
    "import requests \n",
    "# Make a get request to get the latest position of the international space station from the opennotify api.\n",
    "#response = requests.get(\"http://data.usajobs.gov/api/JobSearch/Search/engineer?api_key=\")\n",
    "#VAR_URL = 'http://usajobs.gov/JobSearch/Search/GetResults?Series=2210&MinSalary=35000&MaxSalary=95000&LocationID=110010001';\n",
    "#response = requests.get(VAR_URL)\n",
    "#response\n",
    "\n",
    "#var request = require('request');  \n",
    "\n",
    "#var host = 'data.usajobs.gov';  \n",
    "#var userAgent = 'your@email.address';  \n",
    "#var authKey = 'YourAPIKey';    \n",
    "\n",
    "#request({      \n",
    "#    url: 'https://data.usajobs.gov/api/search?JobCategoryCode=2210',      \n",
    "#    method: 'GET',      \n",
    "#    headers: {          \n",
    "#        \"Host\": host,          \n",
    "#        \"User-Agent\": userAgent,          \n",
    "#        \"Authorization-Key\": authKey      \n",
    "#    }  \n",
    "#}, function(error, response, body) {      \n",
    "#    var data = JSON.parse(body);  \n",
    "#});"
   ]
  },
  {
   "cell_type": "code",
   "execution_count": 2,
   "metadata": {
    "collapsed": false
   },
   "outputs": [
    {
     "ename": "NameError",
     "evalue": "name 'response' is not defined",
     "output_type": "error",
     "traceback": [
      "\u001b[0;31m---------------------------------------------------------------------------\u001b[0m",
      "\u001b[0;31mNameError\u001b[0m                                 Traceback (most recent call last)",
      "\u001b[0;32m<ipython-input-2-2bd37d61b21e>\u001b[0m in \u001b[0;36m<module>\u001b[0;34m()\u001b[0m\n\u001b[0;32m----> 1\u001b[0;31m \u001b[0mresponse\u001b[0m\u001b[1;33m.\u001b[0m\u001b[0msearch\u001b[0m\u001b[1;33m(\u001b[0m\u001b[0mq\u001b[0m\u001b[1;33m=\u001b[0m\u001b[1;34m\"mechanical\"\u001b[0m\u001b[1;33m)\u001b[0m\u001b[1;33m\u001b[0m\u001b[0m\n\u001b[0m",
      "\u001b[0;31mNameError\u001b[0m: name 'response' is not defined"
     ]
    }
   ],
   "source": [
    "response.search(q=\"mechanical\")"
   ]
  },
  {
   "cell_type": "code",
   "execution_count": 51,
   "metadata": {
    "collapsed": false
   },
   "outputs": [],
   "source": [
    "import requests \n",
    "\n",
    "host = 'data.usajobs.gov'\n",
    "userAgent = USAJOBS_AGENT\n",
    "\n",
    "\n",
    "payload = {'Host':host,'User-Agent':userAgent,'Authorization-Key':USAJOBS_KEY}\n",
    "r=requests.get('https://data.usajobs.gov/api/search',params = payload)"
   ]
  },
  {
   "cell_type": "code",
   "execution_count": 1,
   "metadata": {
    "collapsed": false
   },
   "outputs": [
    {
     "ename": "NameError",
     "evalue": "name 'r' is not defined",
     "output_type": "error",
     "traceback": [
      "\u001b[0;31m---------------------------------------------------------------------------\u001b[0m",
      "\u001b[0;31mNameError\u001b[0m                                 Traceback (most recent call last)",
      "\u001b[0;32m<ipython-input-1-72cfd272ace1>\u001b[0m in \u001b[0;36m<module>\u001b[0;34m()\u001b[0m\n\u001b[0;32m----> 1\u001b[0;31m \u001b[0mr\u001b[0m\u001b[1;33m\u001b[0m\u001b[0m\n\u001b[0m",
      "\u001b[0;31mNameError\u001b[0m: name 'r' is not defined"
     ]
    }
   ],
   "source": [
    "r"
   ]
  },
  {
   "cell_type": "code",
   "execution_count": 58,
   "metadata": {
    "collapsed": false
   },
   "outputs": [],
   "source": [
    "r_indeed=requests.get(\"http://api.indeed.com/ads/apisearch?publisher=336274463762899&q=mechanical&l=austin%2C+tx&sort=&radius=150&st=&jt=fulltime&start=&limit=1000&fromage=&filter=&latlong=1&co=us&chnl=&userip=1.2.3.4&useragent=Mozilla/%2F4.0%28Firefox%29&v=2\")"
   ]
  },
  {
   "cell_type": "code",
   "execution_count": 59,
   "metadata": {
    "collapsed": false
   },
   "outputs": [
    {
     "data": {
      "text/plain": [
       "b'<?xml version=\\'1.0\\' encoding=\\'UTF-8\\'?><response version=\"2\"><query>mechanical</query><location>austin, tx</location><clickedCategories></clickedCategories><paginationPayload></paginationPayload><radius>150</radius><dupefilter>true</dupefilter><highlight>false</highlight><start>1</start><end>25</end><pageNumber>0</pageNumber><totalresults>4136</totalresults><results><result><jobtitle>Mechanical Design Engineer</jobtitle><company>National Oilwell Varco</company><city>Houston</city><state>TX</state><country>US</country><formattedLocation>Houston, TX</formattedLocation><source>National Oilwell Varco</source><date>Wed, 02 Nov 2016 22:27:31 GMT</date><snippet>Mechanical Design Engineer. BS Degree Mechanical Engineering with 5 years related experience or 10-15 years related experience....</snippet><url>http://www.indeed.com/viewjob?jk=9046386e939282ca&amp;qd=1vHU8bY0zJlP3i697aWcB9XxLue5yNridKLsU82kv18UhVNuxKF3s8DT0B3q_F_WfeEf3fe54jnrk332IrsVUEvRG7Kn4PKNRd6XDM62jvc40X9RqMmoWy146cYiCabl&amp;indpubnum=336274463762899&amp;atk=1b1ilcsaua50pb5s</url><onmousedown>indeed_clk(this,\\'3755\\');</onmousedown><latitude>29.760988</latitude><longitude>-95.36264</longitude><jobkey>9046386e939282ca</jobkey><sponsored>false</sponsored><expired>false</expired><indeedApply>false</indeedApply><formattedLocationFull>Houston, TX</formattedLocationFull><formattedRelativeTime>12 days ago</formattedRelativeTime><stations></stations></result><result><jobtitle>Mechanical Engineer</jobtitle><company>Marshall Engineering Corporation</company><city>Humble</city><state>TX</state><country>US</country><formattedLocation>Humble, TX</formattedLocation><source>Indeed</source><date>Wed, 02 Nov 2016 16:12:35 GMT</date><snippet>Mechanical designers typically review specifications and other data to develop mechanical layouts. Mechanical engineering requires at least a bachelor\\'s degree....</snippet><url>http://www.indeed.com/viewjob?jk=80f95c12bf0c708f&amp;qd=1vHU8bY0zJlP3i697aWcB9XxLue5yNridKLsU82kv18UhVNuxKF3s8DT0B3q_F_WfeEf3fe54jnrk332IrsVUEvRG7Kn4PKNRd6XDM62jvc40X9RqMmoWy146cYiCabl&amp;indpubnum=336274463762899&amp;atk=1b1ilcsaua50pb5s</url><onmousedown>indeed_clk(this,\\'3755\\');</onmousedown><latitude>30.002747</latitude><longitude>-95.27473</longitude><jobkey>80f95c12bf0c708f</jobkey><sponsored>false</sponsored><expired>false</expired><indeedApply>true</indeedApply><formattedLocationFull>Humble, TX 77338</formattedLocationFull><formattedRelativeTime>12 days ago</formattedRelativeTime><stations></stations></result><result><jobtitle>Mechanical Engineer</jobtitle><company>ITW</company><city>Houston</city><state>TX</state><country>US</country><formattedLocation>Houston, TX</formattedLocation><source>ITW</source><date>Mon, 14 Nov 2016 17:37:22 GMT</date><snippet>Resolve structural, mechanical, and development issues. Develop mechanical prototypes to determine design feasibility....</snippet><url>http://www.indeed.com/viewjob?jk=ea33c92ffc241264&amp;qd=1vHU8bY0zJlP3i697aWcB9XxLue5yNridKLsU82kv18UhVNuxKF3s8DT0B3q_F_WfeEf3fe54jnrk332IrsVUEvRG7Kn4PKNRd6XDM62jvc40X9RqMmoWy146cYiCabl&amp;indpubnum=336274463762899&amp;atk=1b1ilcsaua50pb5s</url><onmousedown>indeed_clk(this,\\'3755\\');</onmousedown><latitude>29.760988</latitude><longitude>-95.36264</longitude><jobkey>ea33c92ffc241264</jobkey><sponsored>false</sponsored><expired>false</expired><indeedApply>false</indeedApply><formattedLocationFull>Houston, TX</formattedLocationFull><formattedRelativeTime>6 hours ago</formattedRelativeTime><stations></stations></result><result><jobtitle>Mechanical Engineer</jobtitle><company>FlowBelow Aero, Inc</company><city>Austin</city><state>TX</state><country>US</country><formattedLocation>Austin, TX</formattedLocation><source>Indeed</source><date>Thu, 27 Oct 2016 20:49:05 GMT</date><snippet>Bachelor\\xe2\\x80\\x99s degree or higher in mechanical, aerospace or automotive engineering. This position is for an engineer with experience designing mechanical components...</snippet><url>http://www.indeed.com/viewjob?jk=78f13f1b001d5aeb&amp;qd=1vHU8bY0zJlP3i697aWcB9XxLue5yNridKLsU82kv18UhVNuxKF3s8DT0B3q_F_WfeEf3fe54jnrk332IrsVUEvRG7Kn4PKNRd6XDM62jvc40X9RqMmoWy146cYiCabl&amp;indpubnum=336274463762899&amp;atk=1b1ilcsaua50pb5s</url><onmousedown>indeed_clk(this,\\'3755\\');</onmousedown><latitude>30.266483</latitude><longitude>-97.74176</longitude><jobkey>78f13f1b001d5aeb</jobkey><sponsored>false</sponsored><expired>false</expired><indeedApply>true</indeedApply><formattedLocationFull>Austin, TX</formattedLocationFull><formattedRelativeTime>18 days ago</formattedRelativeTime><stations></stations></result><result><jobtitle>Mechanical Engineer - AMC.ENG.</jobtitle><company>AmeriMex Motor &amp; Controls, LLC.</company><city>Houston</city><state>TX</state><country>US</country><formattedLocation>Houston, TX</formattedLocation><source>Indeed</source><date>Mon, 14 Nov 2016 17:51:38 GMT</date><snippet>Develops mechanical and electromechanical products by studying customer requirements; Evaluates mechanical and electromechanical systems and products by...</snippet><url>http://www.indeed.com/viewjob?jk=4f425dc87dd202fe&amp;qd=1vHU8bY0zJlP3i697aWcB9XxLue5yNridKLsU82kv18UhVNuxKF3s8DT0B3q_F_WfeEf3fe54jnrk332IrsVUEvRG7Kn4PKNRd6XDM62jvc40X9RqMmoWy146cYiCabl&amp;indpubnum=336274463762899&amp;atk=1b1ilcsaua50pb5s</url><onmousedown>indeed_clk(this,\\'3755\\');</onmousedown><latitude>29.760988</latitude><longitude>-95.36264</longitude><jobkey>4f425dc87dd202fe</jobkey><sponsored>false</sponsored><expired>false</expired><indeedApply>true</indeedApply><formattedLocationFull>Houston, TX</formattedLocationFull><formattedRelativeTime>6 hours ago</formattedRelativeTime><stations></stations></result><result><jobtitle>ESPCP (Electric Submersible Progressing Cavity Pump) Design Engineer, R&amp;D</jobtitle><company>Sinopec Tech Houston LLC.</company><city>Houston</city><state>TX</state><country>US</country><formattedLocation>Houston, TX</formattedLocation><source>Indeed</source><date>Mon, 31 Oct 2016 18:04:57 GMT</date><snippet>Master\\xe2\\x80\\x99s Degree in Mechanical Engineering is preferred. Must have strong mechanical / electro-mechanical skills in ESPCP design....</snippet><url>http://www.indeed.com/viewjob?jk=7759f54ea4f77d8b&amp;qd=1vHU8bY0zJlP3i697aWcB9XxLue5yNridKLsU82kv18UhVNuxKF3s8DT0B3q_F_WfeEf3fe54jnrk332IrsVUEvRG7Kn4PKNRd6XDM62jvc40X9RqMmoWy146cYiCabl&amp;indpubnum=336274463762899&amp;atk=1b1ilcsaua50pb5s</url><onmousedown>indeed_clk(this,\\'3755\\');</onmousedown><latitude>29.760988</latitude><longitude>-95.36264</longitude><jobkey>7759f54ea4f77d8b</jobkey><sponsored>false</sponsored><expired>false</expired><indeedApply>true</indeedApply><formattedLocationFull>Houston, TX</formattedLocationFull><formattedRelativeTime>14 days ago</formattedRelativeTime><stations></stations></result><result><jobtitle>Mechanical Engineer</jobtitle><company>Futures Consulting, LLC</company><city>Austin</city><state>TX</state><country>US</country><formattedLocation>Austin, TX</formattedLocation><source>Indeed</source><date>Tue, 18 Oct 2016 13:33:07 GMT</date><snippet>My client in Austin, Texas is seeking a Senior Mechanical PE who has experience and a passion for designing mechanical and plumbing systems....</snippet><url>http://www.indeed.com/viewjob?jk=43570c3708364747&amp;qd=1vHU8bY0zJlP3i697aWcB9XxLue5yNridKLsU82kv18UhVNuxKF3s8DT0B3q_F_WfeEf3fe54jnrk332IrsVUEvRG7Kn4PKNRd6XDM62jvc40X9RqMmoWy146cYiCabl&amp;indpubnum=336274463762899&amp;atk=1b1ilcsaua50pb5s</url><onmousedown>indeed_clk(this,\\'3755\\');</onmousedown><latitude>30.266483</latitude><longitude>-97.74176</longitude><jobkey>43570c3708364747</jobkey><sponsored>false</sponsored><expired>false</expired><indeedApply>true</indeedApply><formattedLocationFull>Austin, TX</formattedLocationFull><formattedRelativeTime>27 days ago</formattedRelativeTime><stations></stations></result><result><jobtitle>Auto CAD Operator/Designer</jobtitle><company>365 RSS</company><city>Houston</city><state>TX</state><country>US</country><formattedLocation>Houston, TX</formattedLocation><source>Indeed</source><date>Mon, 24 Oct 2016 21:42:59 GMT</date><snippet>Mechanical skills preferred. Mechanical aptitude with ability to complete basic mathematical calculations....</snippet><url>http://www.indeed.com/viewjob?jk=a73d860e5a819717&amp;qd=1vHU8bY0zJlP3i697aWcB9XxLue5yNridKLsU82kv18UhVNuxKF3s8DT0B3q_F_WfeEf3fe54jnrk332IrsVUEvRG7Kn4PKNRd6XDM62jvc40X9RqMmoWy146cYiCabl&amp;indpubnum=336274463762899&amp;atk=1b1ilcsaua50pb5s</url><onmousedown>indeed_clk(this,\\'3755\\');</onmousedown><latitude>29.832418</latitude><longitude>-95.47253</longitude><jobkey>a73d860e5a819717</jobkey><sponsored>false</sponsored><expired>false</expired><indeedApply>true</indeedApply><formattedLocationFull>Houston, TX 77092</formattedLocationFull><formattedRelativeTime>21 days ago</formattedRelativeTime><stations></stations></result><result><jobtitle>Mechanical Designer IV</jobtitle><company>MODEC, Inc.</company><city>Houston</city><state>TX</state><country>US</country><formattedLocation>Houston, TX</formattedLocation><source>MODEC, Inc.</source><date>Thu, 10 Nov 2016 23:27:53 GMT</date><snippet>SOFEC is currently looking for a Mechanical Designer IV. Similar experience constructing mechanical drawings for the machining of large forgings and castings....</snippet><url>http://www.indeed.com/viewjob?jk=d584c3d3bfffd917&amp;qd=1vHU8bY0zJlP3i697aWcB9XxLue5yNridKLsU82kv18UhVNuxKF3s8DT0B3q_F_WfeEf3fe54jnrk332IrsVUEvRG7Kn4PKNRd6XDM62jvc40X9RqMmoWy146cYiCabl&amp;indpubnum=336274463762899&amp;atk=1b1ilcsaua50pb5s</url><onmousedown>indeed_clk(this,\\'3755\\');</onmousedown><latitude>29.760988</latitude><longitude>-95.36264</longitude><jobkey>d584c3d3bfffd917</jobkey><sponsored>false</sponsored><expired>false</expired><indeedApply>false</indeedApply><formattedLocationFull>Houston, TX</formattedLocationFull><formattedRelativeTime>4 days ago</formattedRelativeTime><stations></stations></result><result><jobtitle>General Maintenance Engineer - Entry Level- Full-Time</jobtitle><company>Hyatt</company><city>Austin</city><state>TX</state><country>US</country><formattedLocation>Austin, TX</formattedLocation><source>Hyatt</source><date>Wed, 05 Oct 2016 17:02:12 GMT</date><snippet>A General Maintenance Engineer will also perform some repairs on mechanical, electrical, kitchen, and laundry equipment, requiring some skills and experience in...</snippet><url>http://www.indeed.com/viewjob?jk=25782125b9dd56a3&amp;qd=1vHU8bY0zJlP3i697aWcB9XxLue5yNridKLsU82kv18UhVNuxKF3s8DT0B3q_F_WfeEf3fe54jnrk332IrsVUEvRG7Kn4PKNRd6XDM62jvc40X9RqMmoWy146cYiCabl&amp;indpubnum=336274463762899&amp;atk=1b1ilcsaua50pb5s</url><onmousedown>indeed_clk(this,\\'3755\\');</onmousedown><latitude>30.266483</latitude><longitude>-97.74176</longitude><jobkey>25782125b9dd56a3</jobkey><sponsored>false</sponsored><expired>false</expired><indeedApply>false</indeedApply><formattedLocationFull>Austin, TX</formattedLocationFull><formattedRelativeTime>30+ days ago</formattedRelativeTime><stations></stations></result><result><jobtitle>Mechanical Designer III</jobtitle><company>Nabors Industries</company><city>Houston</city><state>TX</state><country>US</country><formattedLocation>Houston, TX</formattedLocation><source>Nabors Industries</source><date>Tue, 01 Nov 2016 23:17:53 GMT</date><snippet>Model mechanical design concepts using 3D Parametric software. Mechanical design principals including machined parts, assemblies, weldment and sheet metal...</snippet><url>http://www.indeed.com/viewjob?jk=62edf173de06f2c4&amp;qd=1vHU8bY0zJlP3i697aWcB9XxLue5yNridKLsU82kv18UhVNuxKF3s8DT0B3q_F_WfeEf3fe54jnrk332IrsVUEvRG7Kn4PKNRd6XDM62jvc40X9RqMmoWy146cYiCabl&amp;indpubnum=336274463762899&amp;atk=1b1ilcsaua50pb5s</url><onmousedown>indeed_clk(this,\\'3755\\');</onmousedown><latitude>29.94822</latitude><longitude>-95.42344</longitude><jobkey>62edf173de06f2c4</jobkey><sponsored>false</sponsored><expired>false</expired><indeedApply>false</indeedApply><formattedLocationFull>Houston, TX 77067</formattedLocationFull><formattedRelativeTime>13 days ago</formattedRelativeTime><stations></stations></result><result><jobtitle>Mechanical Design Engineer - MWD/LWD Telemetry</jobtitle><company>Sinopec Tech Houston LLC.</company><city>Houston</city><state>TX</state><country>US</country><formattedLocation>Houston, TX</formattedLocation><source>Indeed</source><date>Thu, 27 Oct 2016 22:58:38 GMT</date><snippet>Mechanical Design Engineer:. Mechanical Design Engineer \\xe2\\x80\\x93 MWD/LWD Telemetry*. Master\\xe2\\x80\\x99s Degree in Mechanical Engineering is strongly preferred....</snippet><url>http://www.indeed.com/viewjob?jk=b0ca93b1ec3c1f40&amp;qd=1vHU8bY0zJlP3i697aWcB9XxLue5yNridKLsU82kv18UhVNuxKF3s8DT0B3q_F_WfeEf3fe54jnrk332IrsVUEvRG7Kn4PKNRd6XDM62jvc40X9RqMmoWy146cYiCabl&amp;indpubnum=336274463762899&amp;atk=1b1ilcsaua50pb5s</url><onmousedown>indeed_clk(this,\\'3755\\');</onmousedown><latitude>29.760988</latitude><longitude>-95.36264</longitude><jobkey>b0ca93b1ec3c1f40</jobkey><sponsored>false</sponsored><expired>false</expired><indeedApply>true</indeedApply><formattedLocationFull>Houston, TX</formattedLocationFull><formattedRelativeTime>18 days ago</formattedRelativeTime><stations></stations></result><result><jobtitle>Thermoelectric Product Engineer</jobtitle><company>SHEETAK INC.</company><city>Austin</city><state>TX</state><country>US</country><formattedLocation>Austin, TX</formattedLocation><source>Indeed</source><date>Tue, 25 Oct 2016 05:33:41 GMT</date><snippet>BS in Mechanical Engineering or Electrical Engineering required; Is commercializing novel solid-state thermoelectric systems for advanced refrigeration,...</snippet><url>http://www.indeed.com/viewjob?jk=6fe33ba4af5de81d&amp;qd=1vHU8bY0zJlP3i697aWcB9XxLue5yNridKLsU82kv18UhVNuxKF3s8DT0B3q_F_WfeEf3fe54jnrk332IrsVUEvRG7Kn4PKNRd6XDM62jvc40X9RqMmoWy146cYiCabl&amp;indpubnum=336274463762899&amp;atk=1b1ilcsaua50pb5s</url><onmousedown>indeed_clk(this,\\'3755\\');</onmousedown><latitude>30.212498</latitude><longitude>-97.742744</longitude><jobkey>6fe33ba4af5de81d</jobkey><sponsored>false</sponsored><expired>false</expired><indeedApply>true</indeedApply><formattedLocationFull>Austin, TX 78744</formattedLocationFull><formattedRelativeTime>20 days ago</formattedRelativeTime><stations></stations></result><result><jobtitle>Mechanical Engineer</jobtitle><company>Ladish Valve Company LLC</company><city>Houston</city><state>TX</state><country>US</country><formattedLocation>Houston, TX</formattedLocation><source>Indeed</source><date>Wed, 21 Sep 2016 20:36:25 GMT</date><snippet>Bachelors degree in mechanical engineering with minimum three years experience in valve design and manufacturing. 1.0 PRIMARY FUNCTION:....</snippet><url>http://www.indeed.com/viewjob?jk=7665fb82b802ec59&amp;qd=1vHU8bY0zJlP3i697aWcB9XxLue5yNridKLsU82kv18UhVNuxKF3s8DT0B3q_F_WfeEf3fe54jnrk332IrsVUEvRG7Kn4PKNRd6XDM62jvc40X9RqMmoWy146cYiCabl&amp;indpubnum=336274463762899&amp;atk=1b1ilcsaua50pb5s</url><onmousedown>indeed_clk(this,\\'3755\\');</onmousedown><latitude>29.92033</latitude><longitude>-95.48901</longitude><jobkey>7665fb82b802ec59</jobkey><sponsored>false</sponsored><expired>false</expired><indeedApply>true</indeedApply><formattedLocationFull>Houston, TX 77086</formattedLocationFull><formattedRelativeTime>30+ days ago</formattedRelativeTime><stations></stations></result><result><jobtitle>Electronics Design Engineer</jobtitle><company>Texas Microelectronics Corporation</company><city>Houston</city><state>TX</state><country>US</country><formattedLocation>Houston, TX</formattedLocation><source>Indeed</source><date>Tue, 11 Oct 2016 16:55:34 GMT</date><snippet>Experienced in components selection, circuit analysis, circuit board layout and design, and electrical &amp;amp; mechanical assembly....</snippet><url>http://www.indeed.com/viewjob?jk=d9dbc12698d411f8&amp;qd=1vHU8bY0zJlP3i697aWcB9XxLue5yNridKLsU82kv18UhVNuxKF3s8DT0B3q_F_WfeEf3fe54jnrk332IrsVUEvRG7Kn4PKNRd6XDM62jvc40X9RqMmoWy146cYiCabl&amp;indpubnum=336274463762899&amp;atk=1b1ilcsaua50pb5s</url><onmousedown>indeed_clk(this,\\'3755\\');</onmousedown><latitude>29.8033</latitude><longitude>-95.563</longitude><jobkey>d9dbc12698d411f8</jobkey><sponsored>false</sponsored><expired>false</expired><indeedApply>true</indeedApply><formattedLocationFull>Houston, TX 77043</formattedLocationFull><formattedRelativeTime>30+ days ago</formattedRelativeTime><stations></stations></result><result><jobtitle>Design Engineer II</jobtitle><company>Superior Energy Services, Inc</company><city>Houston</city><state>TX</state><country>US</country><formattedLocation>Houston, TX</formattedLocation><source>Superior Energy Services, Inc</source><date>Tue, 08 Nov 2016 22:28:39 GMT</date><snippet>Experience with ANSYS Mechanical and Fluent is required 3D modelling skills are required; Knowledge of Mechanical APDL and Fluid-Structural Interaction is...</snippet><url>http://www.indeed.com/viewjob?jk=8cee7cd5aa4ba526&amp;qd=1vHU8bY0zJlP3i697aWcB9XxLue5yNridKLsU82kv18UhVNuxKF3s8DT0B3q_F_WfeEf3fe54jnrk332IrsVUEvRG7Kn4PKNRd6XDM62jvc40X9RqMmoWy146cYiCabl&amp;indpubnum=336274463762899&amp;atk=1b1ilcsaua50pb5s</url><onmousedown>indeed_clk(this,\\'3755\\');</onmousedown><latitude>29.760988</latitude><longitude>-95.36264</longitude><jobkey>8cee7cd5aa4ba526</jobkey><sponsored>false</sponsored><expired>false</expired><indeedApply>false</indeedApply><formattedLocationFull>Houston, TX</formattedLocationFull><formattedRelativeTime>6 days ago</formattedRelativeTime><stations></stations></result><result><jobtitle>Production Worker (3:00 PM</jobtitle><company>Nexeo Solutions</company><city>Conroe</city><state>TX</state><country>US</country><formattedLocation>Conroe, TX</formattedLocation><source>Nexeo Solutions</source><date>Fri, 11 Nov 2016 20:11:55 GMT</date><snippet>Good written, mechanical, and communication skills. Nexeo Solutions is the largest global chemical and plastics distributor with a centralized business model....</snippet><url>http://www.indeed.com/viewjob?jk=7b350b248011dd5f&amp;qd=1vHU8bY0zJlP3i697aWcB9XxLue5yNridKLsU82kv18UhVNuxKF3s8DT0B3q_F_WfeEf3fe54jnrk332IrsVUEvRG7Kn4PKNRd6XDM62jvc40X9RqMmoWy146cYiCabl&amp;indpubnum=336274463762899&amp;atk=1b1ilcsaua50pb5s</url><onmousedown>indeed_clk(this,\\'3755\\');</onmousedown><latitude>30.31044</latitude><longitude>-95.45605</longitude><jobkey>7b350b248011dd5f</jobkey><sponsored>false</sponsored><expired>false</expired><indeedApply>false</indeedApply><formattedLocationFull>Conroe, TX</formattedLocationFull><formattedRelativeTime>3 days ago</formattedRelativeTime><stations></stations></result><result><jobtitle>Production Worker (7 AM</jobtitle><company>Nexeo Solutions</company><city>Conroe</city><state>TX</state><country>US</country><formattedLocation>Conroe, TX</formattedLocation><source>Nexeo Solutions</source><date>Thu, 10 Nov 2016 02:10:42 GMT</date><snippet>Good written, mechanical, and communication skills. Nexeo Solutions is the largest global chemical and plastics distributor with a centralized business model....</snippet><url>http://www.indeed.com/viewjob?jk=aa22458ae6acef9a&amp;qd=1vHU8bY0zJlP3i697aWcB9XxLue5yNridKLsU82kv18UhVNuxKF3s8DT0B3q_F_WfeEf3fe54jnrk332IrsVUEvRG7Kn4PKNRd6XDM62jvc40X9RqMmoWy146cYiCabl&amp;indpubnum=336274463762899&amp;atk=1b1ilcsaua50pb5s</url><onmousedown>indeed_clk(this,\\'3755\\');</onmousedown><latitude>30.31044</latitude><longitude>-95.45605</longitude><jobkey>aa22458ae6acef9a</jobkey><sponsored>false</sponsored><expired>false</expired><indeedApply>false</indeedApply><formattedLocationFull>Conroe, TX</formattedLocationFull><formattedRelativeTime>4 days ago</formattedRelativeTime><stations></stations></result><result><jobtitle>Design Engineer</jobtitle><company>YETI Coolers</company><city>Austin</city><state>TX</state><country>US</country><formattedLocation>Austin, TX</formattedLocation><source>YETI Coolers</source><date>Fri, 07 Oct 2016 05:50:31 GMT</date><snippet>Or higher in Mechanical, Manufacturing, or Plastics Engineering, or equivalent work experience. At YETI, you will have the opportunity to create something...</snippet><url>http://www.indeed.com/viewjob?jk=70b5090fc294145b&amp;qd=1vHU8bY0zJlP3i697aWcB9XxLue5yNridKLsU82kv18UhVNuxKF3s8DT0B3q_F_WfeEf3fe54jnrk332IrsVUEvRG7Kn4PKNRd6XDM62jvc40X9RqMmoWy146cYiCabl&amp;indpubnum=336274463762899&amp;atk=1b1ilcsaua50pb5s</url><onmousedown>indeed_clk(this,\\'3755\\');</onmousedown><latitude>30.266483</latitude><longitude>-97.74176</longitude><jobkey>70b5090fc294145b</jobkey><sponsored>false</sponsored><expired>false</expired><indeedApply>true</indeedApply><formattedLocationFull>Austin, TX</formattedLocationFull><formattedRelativeTime>30+ days ago</formattedRelativeTime><stations></stations></result><result><jobtitle>Mechanical Engineer II</jobtitle><company>Affiliated Engineers, Inc.</company><city>Houston</city><state>TX</state><country>US</country><formattedLocation>Houston, TX</formattedLocation><source>Affiliated Engineers, Inc.</source><date>Mon, 07 Nov 2016 17:46:16 GMT</date><snippet>We are seeking a Mechanical Engineer II to join our Houston, TX office. Being part of the solution....</snippet><url>http://www.indeed.com/viewjob?jk=1b32a9b373befd86&amp;qd=1vHU8bY0zJlP3i697aWcB9XxLue5yNridKLsU82kv18UhVNuxKF3s8DT0B3q_F_WfeEf3fe54jnrk332IrsVUEvRG7Kn4PKNRd6XDM62jvc40X9RqMmoWy146cYiCabl&amp;indpubnum=336274463762899&amp;atk=1b1ilcsaua50pb5s</url><onmousedown>indeed_clk(this,\\'3755\\');</onmousedown><latitude>29.732288</latitude><longitude>-95.4327</longitude><jobkey>1b32a9b373befd86</jobkey><sponsored>false</sponsored><expired>false</expired><indeedApply>false</indeedApply><formattedLocationFull>Houston, TX 77046</formattedLocationFull><formattedRelativeTime>7 days ago</formattedRelativeTime><stations></stations></result><result><jobtitle>Treatment Operations &amp; Maintenance Technician Associate</jobtitle><company>City of Austin</company><city>Austin</city><state>TX</state><country>US</country><formattedLocation>Austin, TX</formattedLocation><source>City of Austin</source><date>Thu, 10 Nov 2016 03:54:51 GMT</date><snippet>Assist with routine rounds of the facilities to monitor treatment process and identify process anomalies or mechanical problems with plant equipment....</snippet><url>http://www.indeed.com/viewjob?jk=64b4b4e542df78b8&amp;qd=1vHU8bY0zJlP3i697aWcB9XxLue5yNridKLsU82kv18UhVNuxKF3s8DT0B3q_F_WfeEf3fe54jnrk332IrsVUEvRG7Kn4PKNRd6XDM62jvc40X9RqMmoWy146cYiCabl&amp;indpubnum=336274463762899&amp;atk=1b1ilcsaua50pb5s</url><onmousedown>indeed_clk(this,\\'3755\\');</onmousedown><latitude>30.266483</latitude><longitude>-97.74176</longitude><jobkey>64b4b4e542df78b8</jobkey><sponsored>false</sponsored><expired>false</expired><indeedApply>false</indeedApply><formattedLocationFull>Austin, TX</formattedLocationFull><formattedRelativeTime>4 days ago</formattedRelativeTime><stations></stations></result><result><jobtitle>Mechanical Engineer</jobtitle><company>Booz Allen Hamilton</company><city>San Antonio</city><state>TX</state><country>US</country><formattedLocation>San Antonio, TX</formattedLocation><source>Booz Allen Hamilton</source><date>Wed, 07 Sep 2016 01:23:01 GMT</date><snippet>Experience with mechanical engineering. Perform routine design, fabrication, modification, and evaluation of mechanical and electro-mechanical components, sub...</snippet><url>http://www.indeed.com/viewjob?jk=fcf764871f2d08a8&amp;qd=1vHU8bY0zJlP3i697aWcB9XxLue5yNridKLsU82kv18UhVNuxKF3s8DT0B3q_F_WfeEf3fe54jnrk332IrsVUEvRG7Kn4PKNRd6XDM62jvc40X9RqMmoWy146cYiCabl&amp;indpubnum=336274463762899&amp;atk=1b1ilcsaua50pb5s</url><onmousedown>indeed_clk(this,\\'3755\\');</onmousedown><latitude>29.430357</latitude><longitude>-98.490814</longitude><jobkey>fcf764871f2d08a8</jobkey><sponsored>false</sponsored><expired>false</expired><indeedApply>false</indeedApply><formattedLocationFull>San Antonio, TX 78205</formattedLocationFull><formattedRelativeTime>30+ days ago</formattedRelativeTime><stations></stations></result><result><jobtitle>Project Engineer (Mechanical Construction)</jobtitle><company>Capital Industries</company><city>Austin</city><state>TX</state><country>US</country><formattedLocation>Austin, TX</formattedLocation><source>Indeed</source><date>Thu, 06 Oct 2016 12:14:38 GMT</date><snippet>Mechanical and Plumbing experience preferred. Capital Industries is a full service commercial mechanical and plumbing contractor based in Austin....</snippet><url>http://www.indeed.com/viewjob?jk=b16977b572ff6f20&amp;qd=1vHU8bY0zJlP3i697aWcB9XxLue5yNridKLsU82kv18UhVNuxKF3s8DT0B3q_F_WfeEf3fe54jnrk332IrsVUEvRG7Kn4PKNRd6XDM62jvc40X9RqMmoWy146cYiCabl&amp;indpubnum=336274463762899&amp;atk=1b1ilcsaua50pb5s</url><onmousedown>indeed_clk(this,\\'3755\\');</onmousedown><latitude>30.266483</latitude><longitude>-97.74176</longitude><jobkey>b16977b572ff6f20</jobkey><sponsored>false</sponsored><expired>false</expired><indeedApply>true</indeedApply><formattedLocationFull>Austin, TX</formattedLocationFull><formattedRelativeTime>30+ days ago</formattedRelativeTime><stations></stations></result><result><jobtitle>Maintenance Technician</jobtitle><company>Tulsa Welding School &amp; Technology Center</company><city>Houston</city><state>TX</state><country>US</country><formattedLocation>Houston, TX</formattedLocation><source>Tulsa Welding School &amp; Technology Center</source><date>Mon, 24 Oct 2016 01:27:18 GMT</date><snippet>Diagnose mechanical problems and determine how to correct them, checking blueprints, repair manuals, and parts catalogs as necessary....</snippet><url>http://www.indeed.com/viewjob?jk=c8502c3dcf6ade9c&amp;qd=1vHU8bY0zJlP3i697aWcB9XxLue5yNridKLsU82kv18UhVNuxKF3s8DT0B3q_F_WfeEf3fe54jnrk332IrsVUEvRG7Kn4PKNRd6XDM62jvc40X9RqMmoWy146cYiCabl&amp;indpubnum=336274463762899&amp;atk=1b1ilcsaua50pb5s</url><onmousedown>indeed_clk(this,\\'3755\\');</onmousedown><latitude>29.760988</latitude><longitude>-95.36264</longitude><jobkey>c8502c3dcf6ade9c</jobkey><sponsored>false</sponsored><expired>false</expired><indeedApply>false</indeedApply><formattedLocationFull>Houston, TX</formattedLocationFull><formattedRelativeTime>21 days ago</formattedRelativeTime><stations></stations></result><result><jobtitle>Production Engineer Tech</jobtitle><company>Goodman Manufacturing Company</company><city>Waller</city><state>TX</state><country>US</country><formattedLocation>Waller, TX</formattedLocation><source>Goodman Manufacturing Company</source><date>Thu, 03 Nov 2016 00:01:34 GMT</date><snippet>Degree / Diploma in Mechanical / Electrical Engineering or equivalent. Rebuild motors, pumps, compressors, and other mechanical devices and systems....</snippet><url>http://www.indeed.com/viewjob?jk=90f48cf9aa96ad9e&amp;qd=1vHU8bY0zJlP3i697aWcB9XxLue5yNridKLsU82kv18UhVNuxKF3s8DT0B3q_F_WfeEf3fe54jnrk332IrsVUEvRG7Kn4PKNRd6XDM62jvc40X9RqMmoWy146cYiCabl&amp;indpubnum=336274463762899&amp;atk=1b1ilcsaua50pb5s</url><onmousedown>indeed_clk(this,\\'3755\\');</onmousedown><latitude>30.050728</latitude><longitude>-95.85751</longitude><jobkey>90f48cf9aa96ad9e</jobkey><sponsored>false</sponsored><expired>false</expired><indeedApply>false</indeedApply><formattedLocationFull>Waller, TX 77484</formattedLocationFull><formattedRelativeTime>12 days ago</formattedRelativeTime><stations></stations></result></results></response>'"
      ]
     },
     "execution_count": 59,
     "metadata": {},
     "output_type": "execute_result"
    }
   ],
   "source": [
    "#These are job postings in Austin Texas in radius of 25 (as crow flies) from indeed but it is in XML format. \n",
    "r_indeed.content"
   ]
  },
  {
   "cell_type": "code",
   "execution_count": 60,
   "metadata": {
    "collapsed": false
   },
   "outputs": [],
   "source": [
    "from bs4 import BeautifulSoup\n",
    "import urllib.request\n",
    "url = \"http://api.indeed.com/ads/apisearch?publisher=336274463762899&q=mechanical&l=houston%2C+tx&sort=&radius=150&st=&jt=fulltime&start=&limit=&fromage=&filter=&latlong=1&co=us&chnl=&userip=1.2.3.4&useragent=Mozilla/%2F4.0%28Firefox%29&v=2\"\n",
    "# here we actually access the website\n",
    "with urllib.request.urlopen(url) as response:\n",
    "    html = response.read()\n",
    "    html = html.decode('utf-8')\n",
    "\n",
    "# save the file\n",
    "with open('my_file.html', 'w') as new_file:\n",
    "    new_file.write(html)\n",
    "\n",
    "# here it's already a local operation\n",
    "soup = BeautifulSoup(html, 'html.parser')"
   ]
  },
  {
   "cell_type": "code",
   "execution_count": 61,
   "metadata": {
    "collapsed": false
   },
   "outputs": [
    {
     "data": {
      "text/plain": [
       "'<?xml version=\\'1.0\\' encoding=\\'UTF-8\\'?>\\n<response version=\"2\">\\n <query>\\n  mechanical\\n </query>\\n <location>\\n  houston, tx\\n </location>\\n <clickedcategories>\\n </clickedcategories>\\n <paginationpayload>\\n </paginationpayload>\\n <radius>\\n  150\\n </radius>\\n <dupefilter>\\n  true\\n </dupefilter>\\n <highlight>\\n  false\\n </highlight>\\n <start>\\n  1\\n </start>\\n <end>\\n  10\\n </end>\\n <pagenumber>\\n  0\\n </pagenumber>\\n <totalresults>\\n  3661\\n </totalresults>\\n <results>\\n  <result>\\n   <jobtitle>\\n    Integration Engineer – Entry level\\n   </jobtitle>\\n   <company>\\n    Barrios Technology, Ltd.\\n   </company>\\n   <city>\\n    Houston\\n   </city>\\n   <state>\\n    TX\\n   </state>\\n   <country>\\n    US\\n   </country>\\n   <formattedlocation>\\n    Houston, TX\\n   </formattedlocation>\\n   <source>\\n    Barrios Technology, Ltd.\\n   </source>\\n   <date>\\n    Mon, 14 Nov 2016 23:08:36 GMT\\n   </date>\\n   <snippet>\\n    BS degree in Aerospace engineering, Systems engineering or Mechanical engineering from an accredited college or university....\\n   </snippet>\\n   <url>\\n    http://www.indeed.com/viewjob?jk=f2bc435d2258ef82&amp;qd=1vHU8bY0zJlP3i697aWcB9XxLue5yNridKLsU82kv18BWaJn05Mnjp3U9WeUfRE6udKwvJ3qOk36onxXER5Ng5a0M_JbkQOUndKuwYTiE-4kt0LCVy_rQinuMfW47e_m&amp;indpubnum=336274463762899&amp;atk=1b1ima52eaeoladb\\n   </url>\\n   <onmousedown>\\n    indeed_clk(this,\\'2969\\');\\n   </onmousedown>\\n   <latitude>\\n    29.552198\\n   </latitude>\\n   <longitude>\\n    -95.09341\\n   </longitude>\\n   <jobkey>\\n    f2bc435d2258ef82\\n   </jobkey>\\n   <sponsored>\\n    false\\n   </sponsored>\\n   <expired>\\n    false\\n   </expired>\\n   <indeedapply>\\n    false\\n   </indeedapply>\\n   <formattedlocationfull>\\n    Houston, TX 77058\\n   </formattedlocationfull>\\n   <formattedrelativetime>\\n    1 hour ago\\n   </formattedrelativetime>\\n   <stations>\\n   </stations>\\n  </result>\\n  <result>\\n   <jobtitle>\\n    Mechanical Engineer\\n   </jobtitle>\\n   <company>\\n    FlowBelow Aero, Inc\\n   </company>\\n   <city>\\n    Austin\\n   </city>\\n   <state>\\n    TX\\n   </state>\\n   <country>\\n    US\\n   </country>\\n   <formattedlocation>\\n    Austin, TX\\n   </formattedlocation>\\n   <source>\\n    Indeed\\n   </source>\\n   <date>\\n    Thu, 27 Oct 2016 20:49:05 GMT\\n   </date>\\n   <snippet>\\n    Bachelor’s degree or higher in mechanical, aerospace or automotive engineering. This position is for an engineer with experience designing mechanical components...\\n   </snippet>\\n   <url>\\n    http://www.indeed.com/viewjob?jk=78f13f1b001d5aeb&amp;qd=1vHU8bY0zJlP3i697aWcB9XxLue5yNridKLsU82kv18BWaJn05Mnjp3U9WeUfRE6udKwvJ3qOk36onxXER5Ng5a0M_JbkQOUndKuwYTiE-4kt0LCVy_rQinuMfW47e_m&amp;indpubnum=336274463762899&amp;atk=1b1ima52eaeoladb\\n   </url>\\n   <onmousedown>\\n    indeed_clk(this,\\'2969\\');\\n   </onmousedown>\\n   <latitude>\\n    30.266483\\n   </latitude>\\n   <longitude>\\n    -97.74176\\n   </longitude>\\n   <jobkey>\\n    78f13f1b001d5aeb\\n   </jobkey>\\n   <sponsored>\\n    false\\n   </sponsored>\\n   <expired>\\n    false\\n   </expired>\\n   <indeedapply>\\n    true\\n   </indeedapply>\\n   <formattedlocationfull>\\n    Austin, TX\\n   </formattedlocationfull>\\n   <formattedrelativetime>\\n    18 days ago\\n   </formattedrelativetime>\\n   <stations>\\n   </stations>\\n  </result>\\n  <result>\\n   <jobtitle>\\n    Mechanical Design Engineer\\n   </jobtitle>\\n   <company>\\n    National Oilwell Varco\\n   </company>\\n   <city>\\n    Houston\\n   </city>\\n   <state>\\n    TX\\n   </state>\\n   <country>\\n    US\\n   </country>\\n   <formattedlocation>\\n    Houston, TX\\n   </formattedlocation>\\n   <source>\\n    National Oilwell Varco\\n   </source>\\n   <date>\\n    Wed, 02 Nov 2016 22:27:31 GMT\\n   </date>\\n   <snippet>\\n    Mechanical Design Engineer. BS Degree Mechanical Engineering with 5 years related experience or 10-15 years related experience....\\n   </snippet>\\n   <url>\\n    http://www.indeed.com/viewjob?jk=9046386e939282ca&amp;qd=1vHU8bY0zJlP3i697aWcB9XxLue5yNridKLsU82kv18BWaJn05Mnjp3U9WeUfRE6udKwvJ3qOk36onxXER5Ng5a0M_JbkQOUndKuwYTiE-4kt0LCVy_rQinuMfW47e_m&amp;indpubnum=336274463762899&amp;atk=1b1ima52eaeoladb\\n   </url>\\n   <onmousedown>\\n    indeed_clk(this,\\'2969\\');\\n   </onmousedown>\\n   <latitude>\\n    29.760988\\n   </latitude>\\n   <longitude>\\n    -95.36264\\n   </longitude>\\n   <jobkey>\\n    9046386e939282ca\\n   </jobkey>\\n   <sponsored>\\n    false\\n   </sponsored>\\n   <expired>\\n    false\\n   </expired>\\n   <indeedapply>\\n    false\\n   </indeedapply>\\n   <formattedlocationfull>\\n    Houston, TX\\n   </formattedlocationfull>\\n   <formattedrelativetime>\\n    12 days ago\\n   </formattedrelativetime>\\n   <stations>\\n   </stations>\\n  </result>\\n  <result>\\n   <jobtitle>\\n    Mechanical Engineer\\n   </jobtitle>\\n   <company>\\n    Futures Consulting, LLC\\n   </company>\\n   <city>\\n    Austin\\n   </city>\\n   <state>\\n    TX\\n   </state>\\n   <country>\\n    US\\n   </country>\\n   <formattedlocation>\\n    Austin, TX\\n   </formattedlocation>\\n   <source>\\n    Indeed\\n   </source>\\n   <date>\\n    Tue, 18 Oct 2016 13:33:07 GMT\\n   </date>\\n   <snippet>\\n    My client in Austin, Texas is seeking a Senior Mechanical PE who has experience and a passion for designing mechanical and plumbing systems....\\n   </snippet>\\n   <url>\\n    http://www.indeed.com/viewjob?jk=43570c3708364747&amp;qd=1vHU8bY0zJlP3i697aWcB9XxLue5yNridKLsU82kv18BWaJn05Mnjp3U9WeUfRE6udKwvJ3qOk36onxXER5Ng5a0M_JbkQOUndKuwYTiE-4kt0LCVy_rQinuMfW47e_m&amp;indpubnum=336274463762899&amp;atk=1b1ima52eaeoladb\\n   </url>\\n   <onmousedown>\\n    indeed_clk(this,\\'2969\\');\\n   </onmousedown>\\n   <latitude>\\n    30.266483\\n   </latitude>\\n   <longitude>\\n    -97.74176\\n   </longitude>\\n   <jobkey>\\n    43570c3708364747\\n   </jobkey>\\n   <sponsored>\\n    false\\n   </sponsored>\\n   <expired>\\n    false\\n   </expired>\\n   <indeedapply>\\n    true\\n   </indeedapply>\\n   <formattedlocationfull>\\n    Austin, TX\\n   </formattedlocationfull>\\n   <formattedrelativetime>\\n    27 days ago\\n   </formattedrelativetime>\\n   <stations>\\n   </stations>\\n  </result>\\n  <result>\\n   <jobtitle>\\n    Mechanical Engineer\\n   </jobtitle>\\n   <company>\\n    ITW\\n   </company>\\n   <city>\\n    Houston\\n   </city>\\n   <state>\\n    TX\\n   </state>\\n   <country>\\n    US\\n   </country>\\n   <formattedlocation>\\n    Houston, TX\\n   </formattedlocation>\\n   <source>\\n    ITW\\n   </source>\\n   <date>\\n    Mon, 14 Nov 2016 17:37:22 GMT\\n   </date>\\n   <snippet>\\n    Resolve structural, mechanical, and development issues. Develop mechanical prototypes to determine design feasibility....\\n   </snippet>\\n   <url>\\n    http://www.indeed.com/viewjob?jk=ea33c92ffc241264&amp;qd=1vHU8bY0zJlP3i697aWcB9XxLue5yNridKLsU82kv18BWaJn05Mnjp3U9WeUfRE6udKwvJ3qOk36onxXER5Ng5a0M_JbkQOUndKuwYTiE-4kt0LCVy_rQinuMfW47e_m&amp;indpubnum=336274463762899&amp;atk=1b1ima52eaeoladb\\n   </url>\\n   <onmousedown>\\n    indeed_clk(this,\\'2969\\');\\n   </onmousedown>\\n   <latitude>\\n    29.760988\\n   </latitude>\\n   <longitude>\\n    -95.36264\\n   </longitude>\\n   <jobkey>\\n    ea33c92ffc241264\\n   </jobkey>\\n   <sponsored>\\n    false\\n   </sponsored>\\n   <expired>\\n    false\\n   </expired>\\n   <indeedapply>\\n    false\\n   </indeedapply>\\n   <formattedlocationfull>\\n    Houston, TX\\n   </formattedlocationfull>\\n   <formattedrelativetime>\\n    6 hours ago\\n   </formattedrelativetime>\\n   <stations>\\n   </stations>\\n  </result>\\n  <result>\\n   <jobtitle>\\n    General Maintenance Engineer - Entry Level- Full-Time\\n   </jobtitle>\\n   <company>\\n    Hyatt\\n   </company>\\n   <city>\\n    Austin\\n   </city>\\n   <state>\\n    TX\\n   </state>\\n   <country>\\n    US\\n   </country>\\n   <formattedlocation>\\n    Austin, TX\\n   </formattedlocation>\\n   <source>\\n    Hyatt\\n   </source>\\n   <date>\\n    Wed, 05 Oct 2016 17:02:12 GMT\\n   </date>\\n   <snippet>\\n    A General Maintenance Engineer will also perform some repairs on mechanical, electrical, kitchen, and laundry equipment, requiring some skills and experience in...\\n   </snippet>\\n   <url>\\n    http://www.indeed.com/viewjob?jk=25782125b9dd56a3&amp;qd=1vHU8bY0zJlP3i697aWcB9XxLue5yNridKLsU82kv18BWaJn05Mnjp3U9WeUfRE6udKwvJ3qOk36onxXER5Ng5a0M_JbkQOUndKuwYTiE-4kt0LCVy_rQinuMfW47e_m&amp;indpubnum=336274463762899&amp;atk=1b1ima52eaeoladb\\n   </url>\\n   <onmousedown>\\n    indeed_clk(this,\\'2969\\');\\n   </onmousedown>\\n   <latitude>\\n    30.266483\\n   </latitude>\\n   <longitude>\\n    -97.74176\\n   </longitude>\\n   <jobkey>\\n    25782125b9dd56a3\\n   </jobkey>\\n   <sponsored>\\n    false\\n   </sponsored>\\n   <expired>\\n    false\\n   </expired>\\n   <indeedapply>\\n    false\\n   </indeedapply>\\n   <formattedlocationfull>\\n    Austin, TX\\n   </formattedlocationfull>\\n   <formattedrelativetime>\\n    30+ days ago\\n   </formattedrelativetime>\\n   <stations>\\n   </stations>\\n  </result>\\n  <result>\\n   <jobtitle>\\n    Thermoelectric Product Engineer\\n   </jobtitle>\\n   <company>\\n    SHEETAK INC.\\n   </company>\\n   <city>\\n    Austin\\n   </city>\\n   <state>\\n    TX\\n   </state>\\n   <country>\\n    US\\n   </country>\\n   <formattedlocation>\\n    Austin, TX\\n   </formattedlocation>\\n   <source>\\n    Indeed\\n   </source>\\n   <date>\\n    Tue, 25 Oct 2016 05:33:41 GMT\\n   </date>\\n   <snippet>\\n    BS in Mechanical Engineering or Electrical Engineering required; Is commercializing novel solid-state thermoelectric systems for advanced refrigeration,...\\n   </snippet>\\n   <url>\\n    http://www.indeed.com/viewjob?jk=6fe33ba4af5de81d&amp;qd=1vHU8bY0zJlP3i697aWcB9XxLue5yNridKLsU82kv18BWaJn05Mnjp3U9WeUfRE6udKwvJ3qOk36onxXER5Ng5a0M_JbkQOUndKuwYTiE-4kt0LCVy_rQinuMfW47e_m&amp;indpubnum=336274463762899&amp;atk=1b1ima52eaeoladb\\n   </url>\\n   <onmousedown>\\n    indeed_clk(this,\\'2969\\');\\n   </onmousedown>\\n   <latitude>\\n    30.212498\\n   </latitude>\\n   <longitude>\\n    -97.742744\\n   </longitude>\\n   <jobkey>\\n    6fe33ba4af5de81d\\n   </jobkey>\\n   <sponsored>\\n    false\\n   </sponsored>\\n   <expired>\\n    false\\n   </expired>\\n   <indeedapply>\\n    true\\n   </indeedapply>\\n   <formattedlocationfull>\\n    Austin, TX 78744\\n   </formattedlocationfull>\\n   <formattedrelativetime>\\n    20 days ago\\n   </formattedrelativetime>\\n   <stations>\\n   </stations>\\n  </result>\\n  <result>\\n   <jobtitle>\\n    Mechanical Engineer - AMC.ENG.\\n   </jobtitle>\\n   <company>\\n    AmeriMex Motor &amp; Controls, LLC.\\n   </company>\\n   <city>\\n    Houston\\n   </city>\\n   <state>\\n    TX\\n   </state>\\n   <country>\\n    US\\n   </country>\\n   <formattedlocation>\\n    Houston, TX\\n   </formattedlocation>\\n   <source>\\n    Indeed\\n   </source>\\n   <date>\\n    Mon, 14 Nov 2016 17:51:38 GMT\\n   </date>\\n   <snippet>\\n    Develops mechanical and electromechanical products by studying customer requirements; Evaluates mechanical and electromechanical systems and products by...\\n   </snippet>\\n   <url>\\n    http://www.indeed.com/viewjob?jk=4f425dc87dd202fe&amp;qd=1vHU8bY0zJlP3i697aWcB9XxLue5yNridKLsU82kv18BWaJn05Mnjp3U9WeUfRE6udKwvJ3qOk36onxXER5Ng5a0M_JbkQOUndKuwYTiE-4kt0LCVy_rQinuMfW47e_m&amp;indpubnum=336274463762899&amp;atk=1b1ima52eaeoladb\\n   </url>\\n   <onmousedown>\\n    indeed_clk(this,\\'2969\\');\\n   </onmousedown>\\n   <latitude>\\n    29.760988\\n   </latitude>\\n   <longitude>\\n    -95.36264\\n   </longitude>\\n   <jobkey>\\n    4f425dc87dd202fe\\n   </jobkey>\\n   <sponsored>\\n    false\\n   </sponsored>\\n   <expired>\\n    false\\n   </expired>\\n   <indeedapply>\\n    true\\n   </indeedapply>\\n   <formattedlocationfull>\\n    Houston, TX\\n   </formattedlocationfull>\\n   <formattedrelativetime>\\n    6 hours ago\\n   </formattedrelativetime>\\n   <stations>\\n   </stations>\\n  </result>\\n  <result>\\n   <jobtitle>\\n    ESPCP (Electric Submersible Progressing Cavity Pump) Design Engineer, R&amp;D\\n   </jobtitle>\\n   <company>\\n    Sinopec Tech Houston LLC.\\n   </company>\\n   <city>\\n    Houston\\n   </city>\\n   <state>\\n    TX\\n   </state>\\n   <country>\\n    US\\n   </country>\\n   <formattedlocation>\\n    Houston, TX\\n   </formattedlocation>\\n   <source>\\n    Indeed\\n   </source>\\n   <date>\\n    Mon, 31 Oct 2016 18:04:57 GMT\\n   </date>\\n   <snippet>\\n    Master’s Degree in Mechanical Engineering is preferred. Must have strong mechanical / electro-mechanical skills in ESPCP design....\\n   </snippet>\\n   <url>\\n    http://www.indeed.com/viewjob?jk=7759f54ea4f77d8b&amp;qd=1vHU8bY0zJlP3i697aWcB9XxLue5yNridKLsU82kv18BWaJn05Mnjp3U9WeUfRE6udKwvJ3qOk36onxXER5Ng5a0M_JbkQOUndKuwYTiE-4kt0LCVy_rQinuMfW47e_m&amp;indpubnum=336274463762899&amp;atk=1b1ima52eaeoladb\\n   </url>\\n   <onmousedown>\\n    indeed_clk(this,\\'2969\\');\\n   </onmousedown>\\n   <latitude>\\n    29.760988\\n   </latitude>\\n   <longitude>\\n    -95.36264\\n   </longitude>\\n   <jobkey>\\n    7759f54ea4f77d8b\\n   </jobkey>\\n   <sponsored>\\n    false\\n   </sponsored>\\n   <expired>\\n    false\\n   </expired>\\n   <indeedapply>\\n    true\\n   </indeedapply>\\n   <formattedlocationfull>\\n    Houston, TX\\n   </formattedlocationfull>\\n   <formattedrelativetime>\\n    14 days ago\\n   </formattedrelativetime>\\n   <stations>\\n   </stations>\\n  </result>\\n  <result>\\n   <jobtitle>\\n    Auto CAD Operator/Designer\\n   </jobtitle>\\n   <company>\\n    365 RSS\\n   </company>\\n   <city>\\n    Houston\\n   </city>\\n   <state>\\n    TX\\n   </state>\\n   <country>\\n    US\\n   </country>\\n   <formattedlocation>\\n    Houston, TX\\n   </formattedlocation>\\n   <source>\\n    Indeed\\n   </source>\\n   <date>\\n    Mon, 24 Oct 2016 21:42:59 GMT\\n   </date>\\n   <snippet>\\n    Mechanical skills preferred. Mechanical aptitude with ability to complete basic mathematical calculations....\\n   </snippet>\\n   <url>\\n    http://www.indeed.com/viewjob?jk=a73d860e5a819717&amp;qd=1vHU8bY0zJlP3i697aWcB9XxLue5yNridKLsU82kv18BWaJn05Mnjp3U9WeUfRE6udKwvJ3qOk36onxXER5Ng5a0M_JbkQOUndKuwYTiE-4kt0LCVy_rQinuMfW47e_m&amp;indpubnum=336274463762899&amp;atk=1b1ima52eaeoladb\\n   </url>\\n   <onmousedown>\\n    indeed_clk(this,\\'2969\\');\\n   </onmousedown>\\n   <latitude>\\n    29.832418\\n   </latitude>\\n   <longitude>\\n    -95.47253\\n   </longitude>\\n   <jobkey>\\n    a73d860e5a819717\\n   </jobkey>\\n   <sponsored>\\n    false\\n   </sponsored>\\n   <expired>\\n    false\\n   </expired>\\n   <indeedapply>\\n    true\\n   </indeedapply>\\n   <formattedlocationfull>\\n    Houston, TX 77092\\n   </formattedlocationfull>\\n   <formattedrelativetime>\\n    21 days ago\\n   </formattedrelativetime>\\n   <stations>\\n   </stations>\\n  </result>\\n </results>\\n</response>'"
      ]
     },
     "execution_count": 61,
     "metadata": {},
     "output_type": "execute_result"
    }
   ],
   "source": [
    "soup.prettify()"
   ]
  },
  {
   "cell_type": "code",
   "execution_count": 46,
   "metadata": {
    "collapsed": false
   },
   "outputs": [
    {
     "ename": "NameError",
     "evalue": "name 'link_tail' is not defined",
     "output_type": "error",
     "traceback": [
      "\u001b[0;31m---------------------------------------------------------------------------\u001b[0m",
      "\u001b[0;31mNameError\u001b[0m                                 Traceback (most recent call last)",
      "\u001b[0;32m<ipython-input-46-ee083d910d2f>\u001b[0m in \u001b[0;36m<module>\u001b[0;34m()\u001b[0m\n\u001b[1;32m     14\u001b[0m     \u001b[1;31m#subjects[subject_short] = (subject_long, link)\u001b[0m\u001b[1;33m\u001b[0m\u001b[1;33m\u001b[0m\u001b[0m\n\u001b[1;32m     15\u001b[0m \u001b[1;33m\u001b[0m\u001b[0m\n\u001b[0;32m---> 16\u001b[0;31m \u001b[0mlink_tail\u001b[0m\u001b[1;33m\u001b[0m\u001b[0m\n\u001b[0m",
      "\u001b[0;31mNameError\u001b[0m: name 'link_tail' is not defined"
     ]
    }
   ],
   "source": [
    "jobs = {}\n",
    "\n",
    "for result in soup.find_all(class_=\"results\"):\n",
    "    # the url is relative. \n",
    "    # We can get the tail by retrieving the link out the href attribute of the a tag\n",
    "    link_tail = subject.find(\"a\").get(\"href\")\n",
    "    # concatenate the base URL and the tail of the link\n",
    "    #link = url + link_tail\n",
    "    # the subject shortname is embedded within the <a> tag\n",
    "    #subject_short = subject.find(\"a\").get_text()\n",
    "    # the subject name is embedded within the span \n",
    "    #subject_long = subject.span.get_text()\n",
    "    # write it to the dictionary\n",
    "    #subjects[subject_short] = (subject_long, link)\n",
    "\n",
    "link_tail"
   ]
  }
 ],
 "metadata": {
  "anaconda-cloud": {},
  "kernelspec": {
   "display_name": "Python [Root]",
   "language": "python",
   "name": "Python [Root]"
  },
  "language_info": {
   "codemirror_mode": {
    "name": "ipython",
    "version": 3
   },
   "file_extension": ".py",
   "mimetype": "text/x-python",
   "name": "python",
   "nbconvert_exporter": "python",
   "pygments_lexer": "ipython3",
   "version": "3.5.2"
  }
 },
 "nbformat": 4,
 "nbformat_minor": 1
}
