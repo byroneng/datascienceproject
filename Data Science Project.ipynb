{
 "cells": [
  {
   "cell_type": "markdown",
   "metadata": {},
   "source": [
    "# Crawling the Job Market\n",
    "Authors: Sameer NANDIKAR(u1010576), Byron ENG <br>\n",
    "CS 5963 / MATH 3900 <br>\n",
    "email id: sameer.nandikar@gmail.com \n",
    "          ; byron.eng@gmail.com"
   ]
  },
  {
   "cell_type": "markdown",
   "metadata": {},
   "source": [
    "## Background and Motivation\n",
    "We the authors of this project will be graduating in near future. Thus we need to look for jobs in our respective fields (which in our case is Mechanical Engineering and Atmospheric Sciences) or continue academics in a well-informed direction for better job opportunities. In either case a comperhensive analysis of the job market depicting trends and classifications can be really benificial. \n",
    "\n",
    "Motivation for this project comes from some obstacles encounterd in the job search, some of which we have tried to elaborate here. Though there are many job search websites which provide a plethora of information about jobs available, one can not draw useful conclusions about the job market such as density of reasearch and development jobs for a mechanical engineer in medical device sector in state of Utah, without analysis of that information. In addition to that, job openings in most of the industries related to Mechanical Engineering are requirement oriented and have very short lead times for joining thus it would be interesting to see if there are any trends in job openings and use the information to benefit the job seekers to decide when to graduate. These are just few queries among other problems we intend to solve. \n",
    "\n",
    "One more aspect of this project includes classification of jobs according to job function and sector, which will help an aspiring Graduate student to take an informed decision to select an area of interest (such as designing, manufacturing, robotics, energy systems).  "
   ]
  },
  {
   "cell_type": "markdown",
   "metadata": {},
   "source": [
    "## Project Objectives\n",
    "This project aims to be a tool for anyone entering the job market. The key objective of this project is the analysis of the job market which will include but will not be limited to\n",
    "- Geospatial density of jobs\n",
    "- Pay rates vs. experience level\n",
    "- Pay rates vs. education level\n",
    "- Classification of jobs on basis of sector (e.g.aerospace, automobile, medical device, energy, mining equipment etc)\n",
    "- Classification of jobs on basis of job function (e.g. production, quality control, design, research and development etc)\n",
    "- Annual trend of job openings for different sectors and job functions for different states "
   ]
  },
  {
   "cell_type": "markdown",
   "metadata": {
    "collapsed": true
   },
   "source": [
    "## Data\n",
    "\n",
    "At this stage we are looking from which websites we can scrap the data and which websites have APIs. Given below is the information of our current options\n",
    "\n",
    "### Inventory of data sources\n",
    "\n",
    "|Site|Comments|Allowed (scraping)|Disallowed (scraping)|API|API Reference\n",
    "|----|--------|:-----:|:--------:|---\n",
    "|Glassdoor.com|Has mostly disallows. Because we are going to be using the search, I don't think we are allowed to crawl.||x|Yes|https://www.glassdoor.com/developer/index.htm (access requested)\n",
    "|usajobs.gov|Disallows scripts||x|Yes|https://developer.usajobs.gov/API-Reference\n",
    "|dice.com|Disallows jobsearch||x|Yes|http://www.dice.com/common/content/util/apidoc/jobsearch.html\n",
    "|snagajob.com|Disallows basically everything||x|No|-|\n",
    "|simplyhired.com|Links to other sites, disallows job details but not job SEARCH||x|No|-|\n",
    "|careerbuilder.com|Disallows everything unless you're the googlebot||x|Yes|Requested key\n",
    "|careerinfonet.org|There's a lot that is disallowed, but I don't see anything that is clearly disallowing what we aim to do. Worth another look.||x|No|-|\n",
    "|indeed.com|Mostly disallows everything ||x|Yes|Requested key|\n",
    "|monster.com|Mostly disallows evferything||x|Yes|Regestration is required for access which is in progress|\n",
    "|linkedin.com|Allows scraping with permission||x|Yes|https://api.linkedin.com/v1/people/~?format=json (but an access token is required which is requested)|\n",
    "|bls.gov|||x|Yes|http://www.bls.gov/developers/api_python.htm\n",
    "\n",
    "\n",
    "\n"
   ]
  },
  {
   "cell_type": "markdown",
   "metadata": {},
   "source": [
    "## Data Processing \n",
    "\n",
    "In addition to APIs, we will keep html scraping as an option. An html of a typical job search website has list of jobs and their links. A dataframe will be created by extracting the information about the jobs from the html page and from nested url links. We will use beautifulsoup and CSS selectors for this purpose. We expect much of the effort to be in data extraction and especially in data clean up because information about the jobs entered may not follow same format most of the times as it is entered by different users. We will be using classification methods to classify the jobs by the desired metrics (ie. degree requirement). Also we need to filter out the features which are out of our present scope of study."
   ]
  },
  {
   "cell_type": "markdown",
   "metadata": {},
   "source": [
    "## Exploratory Analysis\n",
    "\n",
    "At this stage we intend to observe trends of job openings geographically as well as annually. Thus we will use scatter plots and other tools we have learned in this class for visualizations. Heuristic approach also seems appropriate for given purposes. For classification we intend to use SVM, Decision trees and k-NN and based on kind of results we get we will select best suitable method. "
   ]
  },
  {
   "cell_type": "markdown",
   "metadata": {},
   "source": [
    "## Analysis Methodlogy\n",
    "\n",
    "We will first analyze the aggregated data to see geographical and annual trends. Also we will observe the effects of attributes over salary e.g. Pay rates vs. experience level and Pay rates vs. education level. \n",
    "\n",
    "Secondly for classification purposes based on the size of the data we get from one website we will either divide one website's data into training and test data or use data from one website as training and data from another website as test data. We will use classification methods enlisted above and select the best suitable one to visualize the data in scatter plots"
   ]
  },
  {
   "cell_type": "markdown",
   "metadata": {},
   "source": [
    "## Project Schedule\n",
    "\n",
    "We have 5 weeks till the presentation date \n",
    "\n",
    "Week 1 - Data acquisition and cleaning\n",
    "\n",
    "Week 2 - Data processing \n",
    "\n",
    "Week 3 and 4 - Exploratory analysis\n",
    "\n",
    "Week 5 - Preperation for the Presentation"
   ]
  },
  {
   "cell_type": "markdown",
   "metadata": {},
   "source": [
    "# Data acquisition and cleaning"
   ]
  },
  {
   "cell_type": "code",
   "execution_count": 1,
   "metadata": {
    "collapsed": false
   },
   "outputs": [
    {
     "name": "stdout",
     "output_type": "stream",
     "text": [
      "Your USAJOBS API key is zMSiSmEw58JebBaFwlXa1nxDuoTqQfDJC25TCBA/bAs=\n",
      "Your USAJOBS Agent is byron.eng@gmail.com\n"
     ]
    }
   ],
   "source": [
    "from credentials import *\n",
    "print(\"Your USAJOBS API key is \" + USAJOBS_KEY)\n",
    "print(\"Your USAJOBS Agent is \" + USAJOBS_AGENT)\n",
    "#usajobs.gov\n",
    "import requests \n",
    "# Make a get request to get the latest position of the international space station from the opennotify api.\n",
    "#response = requests.get(\"http://data.usajobs.gov/api/JobSearch/Search/engineer?api_key=\")\n",
    "#VAR_URL = 'http://usajobs.gov/JobSearch/Search/GetResults?Series=2210&MinSalary=35000&MaxSalary=95000&LocationID=110010001';\n",
    "#response = requests.get(VAR_URL)\n",
    "#response\n",
    "\n",
    "#var request = require('request');  \n",
    "\n",
    "#var host = 'data.usajobs.gov';  \n",
    "#var userAgent = 'your@email.address';  \n",
    "#var authKey = 'YourAPIKey';    \n",
    "\n",
    "#request({      \n",
    "#    url: 'https://data.usajobs.gov/api/search?JobCategoryCode=2210',      \n",
    "#    method: 'GET',      \n",
    "#    headers: {          \n",
    "#        \"Host\": host,          \n",
    "#        \"User-Agent\": userAgent,          \n",
    "#        \"Authorization-Key\": authKey      \n",
    "#    }  \n",
    "#}, function(error, response, body) {      \n",
    "#    var data = JSON.parse(body);  \n",
    "#});"
   ]
  },
  {
   "cell_type": "code",
   "execution_count": 2,
   "metadata": {
    "collapsed": false
   },
   "outputs": [
    {
     "ename": "NameError",
     "evalue": "name 'response' is not defined",
     "output_type": "error",
     "traceback": [
      "\u001b[0;31m---------------------------------------------------------------------------\u001b[0m",
      "\u001b[0;31mNameError\u001b[0m                                 Traceback (most recent call last)",
      "\u001b[0;32m<ipython-input-2-2bd37d61b21e>\u001b[0m in \u001b[0;36m<module>\u001b[0;34m()\u001b[0m\n\u001b[0;32m----> 1\u001b[0;31m \u001b[0mresponse\u001b[0m\u001b[1;33m.\u001b[0m\u001b[0msearch\u001b[0m\u001b[1;33m(\u001b[0m\u001b[0mq\u001b[0m\u001b[1;33m=\u001b[0m\u001b[1;34m\"mechanical\"\u001b[0m\u001b[1;33m)\u001b[0m\u001b[1;33m\u001b[0m\u001b[0m\n\u001b[0m",
      "\u001b[0;31mNameError\u001b[0m: name 'response' is not defined"
     ]
    }
   ],
   "source": [
    "response.search(q=\"mechanical\")"
   ]
  },
  {
   "cell_type": "code",
   "execution_count": 5,
   "metadata": {
    "collapsed": false
   },
   "outputs": [
    {
     "name": "stdout",
     "output_type": "stream",
     "text": [
      "{'Authorization-Key': 'zMSiSmEw58JebBaFwlXa1nxDuoTqQfDJC25TCBA/bAs=', 'User-Agent': 'byron.eng@gmail.com', 'Host': 'data.usajobs.gov'}\n"
     ]
    }
   ],
   "source": [
    "import requests \n",
    "\n",
    "host = 'data.usajobs.gov'\n",
    "userAgent = USAJOBS_AGENT\n",
    "\n",
    "\n",
    "payload = {'Host':host,'User-Agent':userAgent,'Authorization-Key':USAJOBS_KEY}\n",
    "#r=requests.get('https://data.usajobs.gov/api/search',params = payload)\n",
    "print(payload)"
   ]
  },
  {
   "cell_type": "code",
   "execution_count": 6,
   "metadata": {
    "collapsed": false
   },
   "outputs": [
    {
     "ename": "NameError",
     "evalue": "name 'r' is not defined",
     "output_type": "error",
     "traceback": [
      "\u001b[0;31m---------------------------------------------------------------------------\u001b[0m",
      "\u001b[0;31mNameError\u001b[0m                                 Traceback (most recent call last)",
      "\u001b[0;32m<ipython-input-6-72cfd272ace1>\u001b[0m in \u001b[0;36m<module>\u001b[0;34m()\u001b[0m\n\u001b[0;32m----> 1\u001b[0;31m \u001b[0mr\u001b[0m\u001b[1;33m\u001b[0m\u001b[0m\n\u001b[0m",
      "\u001b[0;31mNameError\u001b[0m: name 'r' is not defined"
     ]
    }
   ],
   "source": [
    "r"
   ]
  },
  {
   "cell_type": "code",
   "execution_count": 24,
   "metadata": {
    "collapsed": false
   },
   "outputs": [],
   "source": [
    "r_indeed=requests.get(\"http://api.indeed.com/ads/apisearch?publisher=336274463762899&q=mechanical&l=austin%2C+tx&sort=&radius=150&st=&jt=fulltime&start=&limit=1000&fromage=&filter=&latlong=1&co=us&chnl=&userip=1.2.3.4&useragent=Mozilla/%2F4.0%28Firefox%29&v=2\")"
   ]
  },
  {
   "cell_type": "code",
   "execution_count": 26,
   "metadata": {
    "collapsed": false
   },
   "outputs": [
    {
     "data": {
      "text/plain": [
       "b'<?xml version=\\'1.0\\' encoding=\\'UTF-8\\'?><response version=\"2\"><query>mechanical</query><location>austin, tx</location><clickedCategories></clickedCategories><paginationPayload></paginationPayload><radius>150</radius><dupefilter>true</dupefilter><highlight>false</highlight><start>1</start><end>25</end><pageNumber>0</pageNumber><totalresults>4120</totalresults><results><result><jobtitle>Mechanical Assembly Technician I</jobtitle><company>Thrustmaster of Texas, Inc.</company><city>Houston</city><state>TX</state><country>US</country><formattedLocation>Houston, TX</formattedLocation><source>Thrustmaster of Texas, Inc.</source><date>Fri, 28 Oct 2016 17:27:16 GMT</date><snippet>Perform any other duties that may be assigned by the Mechanical Assembly Team Leader and/or Manage. One (1) year experience in assembly, installation, or...</snippet><url>http://www.indeed.com/viewjob?jk=d27f6fb1ddb7efd8&amp;qd=1vHU8bY0zJlP3i697aWcB9XxLue5yNridKLsU82kv18UhVNuxKF3s8DT0B3q_F_WlMIZLa8fqdYRn2C4c92KNW7EUNTTr0Kfvcv71LkahuU40X9RqMmoWy146cYiCabl&amp;indpubnum=336274463762899&amp;atk=1b1pfln4ta3tqf4n</url><onmousedown>indeed_clk(this,\\'2922\\');</onmousedown><latitude>29.8783</latitude><longitude>-95.5975</longitude><jobkey>d27f6fb1ddb7efd8</jobkey><sponsored>false</sponsored><expired>false</expired><indeedApply>false</indeedApply><formattedLocationFull>Houston, TX 77041</formattedLocationFull><formattedRelativeTime>19 days ago</formattedRelativeTime><stations></stations></result><result><jobtitle>Design Engineering</jobtitle><company>Cameron</company><city>Houston</city><state>TX</state><country>US</country><formattedLocation>Houston, TX</formattedLocation><source>Cameron</source><date>Mon, 17 Oct 2016 23:33:22 GMT</date><snippet>Bachelor\\xe2\\x80\\x99s or Master\\xe2\\x80\\x99s Degree in Mechanical Engineering, Civil Engineering, Subsea Engineering, or Aerospace Engineering....</snippet><url>http://www.indeed.com/viewjob?jk=a0f168e8b0f53389&amp;qd=1vHU8bY0zJlP3i697aWcB9XxLue5yNridKLsU82kv18UhVNuxKF3s8DT0B3q_F_WlMIZLa8fqdYRn2C4c92KNW7EUNTTr0Kfvcv71LkahuU40X9RqMmoWy146cYiCabl&amp;indpubnum=336274463762899&amp;atk=1b1pfln4ta3tqf4n</url><onmousedown>indeed_clk(this,\\'2922\\');</onmousedown><latitude>29.760988</latitude><longitude>-95.36264</longitude><jobkey>a0f168e8b0f53389</jobkey><sponsored>false</sponsored><expired>false</expired><indeedApply>false</indeedApply><formattedLocationFull>Houston, TX</formattedLocationFull><formattedRelativeTime>30 days ago</formattedRelativeTime><stations></stations></result><result><jobtitle>Mechanical Engineer</jobtitle><company>ITW</company><city>Houston</city><state>TX</state><country>US</country><formattedLocation>Houston, TX</formattedLocation><source>ITW</source><date>Mon, 14 Nov 2016 17:37:22 GMT</date><snippet>Resolve structural, mechanical, and development issues. Develop mechanical prototypes to determine design feasibility....</snippet><url>http://www.indeed.com/viewjob?jk=ea33c92ffc241264&amp;qd=1vHU8bY0zJlP3i697aWcB9XxLue5yNridKLsU82kv18UhVNuxKF3s8DT0B3q_F_WlMIZLa8fqdYRn2C4c92KNW7EUNTTr0Kfvcv71LkahuU40X9RqMmoWy146cYiCabl&amp;indpubnum=336274463762899&amp;atk=1b1pfln4ta3tqf4n</url><onmousedown>indeed_clk(this,\\'2922\\');</onmousedown><latitude>29.760988</latitude><longitude>-95.36264</longitude><jobkey>ea33c92ffc241264</jobkey><sponsored>false</sponsored><expired>false</expired><indeedApply>false</indeedApply><formattedLocationFull>Houston, TX</formattedLocationFull><formattedRelativeTime>2 days ago</formattedRelativeTime><stations></stations></result><result><jobtitle>Mechanical Engineer - AMC.ENG.</jobtitle><company>AmeriMex Motor &amp; Controls, LLC.</company><city>Houston</city><state>TX</state><country>US</country><formattedLocation>Houston, TX</formattedLocation><source>Indeed</source><date>Mon, 14 Nov 2016 17:51:38 GMT</date><snippet>Develops mechanical and electromechanical products by studying customer requirements; Evaluates mechanical and electromechanical systems and products by...</snippet><url>http://www.indeed.com/viewjob?jk=4f425dc87dd202fe&amp;qd=1vHU8bY0zJlP3i697aWcB9XxLue5yNridKLsU82kv18UhVNuxKF3s8DT0B3q_F_WlMIZLa8fqdYRn2C4c92KNW7EUNTTr0Kfvcv71LkahuU40X9RqMmoWy146cYiCabl&amp;indpubnum=336274463762899&amp;atk=1b1pfln4ta3tqf4n</url><onmousedown>indeed_clk(this,\\'2922\\');</onmousedown><latitude>29.760988</latitude><longitude>-95.36264</longitude><jobkey>4f425dc87dd202fe</jobkey><sponsored>false</sponsored><expired>false</expired><indeedApply>true</indeedApply><formattedLocationFull>Houston, TX</formattedLocationFull><formattedRelativeTime>2 days ago</formattedRelativeTime><stations></stations></result><result><jobtitle>Mechanical Engineer</jobtitle><company>Marshall Engineering Corporation</company><city>Humble</city><state>TX</state><country>US</country><formattedLocation>Humble, TX</formattedLocation><source>Indeed</source><date>Wed, 02 Nov 2016 16:12:35 GMT</date><snippet>Mechanical designers typically review specifications and other data to develop mechanical layouts. Mechanical engineering requires at least a bachelor\\'s degree....</snippet><url>http://www.indeed.com/viewjob?jk=80f95c12bf0c708f&amp;qd=1vHU8bY0zJlP3i697aWcB9XxLue5yNridKLsU82kv18UhVNuxKF3s8DT0B3q_F_WlMIZLa8fqdYRn2C4c92KNW7EUNTTr0Kfvcv71LkahuU40X9RqMmoWy146cYiCabl&amp;indpubnum=336274463762899&amp;atk=1b1pfln4ta3tqf4n</url><onmousedown>indeed_clk(this,\\'2922\\');</onmousedown><latitude>30.002747</latitude><longitude>-95.27473</longitude><jobkey>80f95c12bf0c708f</jobkey><sponsored>false</sponsored><expired>false</expired><indeedApply>true</indeedApply><formattedLocationFull>Humble, TX 77338</formattedLocationFull><formattedRelativeTime>14 days ago</formattedRelativeTime><stations></stations></result><result><jobtitle>Mechanical Designer IV</jobtitle><company>MODEC, Inc.</company><city>Houston</city><state>TX</state><country>US</country><formattedLocation>Houston, TX</formattedLocation><source>MODEC, Inc.</source><date>Thu, 10 Nov 2016 23:27:53 GMT</date><snippet>SOFEC is currently looking for a Mechanical Designer IV. Similar experience constructing mechanical drawings for the machining of large forgings and castings....</snippet><url>http://www.indeed.com/viewjob?jk=d584c3d3bfffd917&amp;qd=1vHU8bY0zJlP3i697aWcB9XxLue5yNridKLsU82kv18UhVNuxKF3s8DT0B3q_F_WlMIZLa8fqdYRn2C4c92KNW7EUNTTr0Kfvcv71LkahuU40X9RqMmoWy146cYiCabl&amp;indpubnum=336274463762899&amp;atk=1b1pfln4ta3tqf4n</url><onmousedown>indeed_clk(this,\\'2922\\');</onmousedown><latitude>29.760988</latitude><longitude>-95.36264</longitude><jobkey>d584c3d3bfffd917</jobkey><sponsored>false</sponsored><expired>false</expired><indeedApply>false</indeedApply><formattedLocationFull>Houston, TX</formattedLocationFull><formattedRelativeTime>6 days ago</formattedRelativeTime><stations></stations></result><result><jobtitle>MECHANICAL TECHNICIAN</jobtitle><company>Weatherford</company><city>Houston</city><state>TX</state><country>US</country><formattedLocation>Houston, TX</formattedLocation><source>Weatherford</source><date>Mon, 14 Nov 2016 21:16:52 GMT</date><snippet>To design, procure, and assemble parts for testing mechanical prototype assemblies per application. Able to read and interpret mechanical assembly prints and...</snippet><url>http://www.indeed.com/viewjob?jk=cc1cad3fda744fa2&amp;qd=1vHU8bY0zJlP3i697aWcB9XxLue5yNridKLsU82kv18UhVNuxKF3s8DT0B3q_F_WlMIZLa8fqdYRn2C4c92KNW7EUNTTr0Kfvcv71LkahuU40X9RqMmoWy146cYiCabl&amp;indpubnum=336274463762899&amp;atk=1b1pfln4ta3tqf4n</url><onmousedown>indeed_clk(this,\\'2922\\');</onmousedown><latitude>29.925825</latitude><longitude>-95.39011</longitude><jobkey>cc1cad3fda744fa2</jobkey><sponsored>false</sponsored><expired>false</expired><indeedApply>false</indeedApply><formattedLocationFull>Houston, TX 77060</formattedLocationFull><formattedRelativeTime>2 days ago</formattedRelativeTime><stations></stations></result><result><jobtitle>Process Design Engineer</jobtitle><company>Barry-Wehmiller Design Group</company><city>Houston</city><state>TX</state><country>US</country><formattedLocation>Houston, TX</formattedLocation><source>Indeed</source><date>Tue, 15 Nov 2016 21:22:42 GMT</date><snippet>In Mechanical or Chemical Engineering is preferred but consideration will be given to other engineering degrees based on actual project experience....</snippet><url>http://www.indeed.com/viewjob?jk=6209d7c05cfa3f46&amp;qd=1vHU8bY0zJlP3i697aWcB9XxLue5yNridKLsU82kv18UhVNuxKF3s8DT0B3q_F_WlMIZLa8fqdYRn2C4c92KNW7EUNTTr0Kfvcv71LkahuU40X9RqMmoWy146cYiCabl&amp;indpubnum=336274463762899&amp;atk=1b1pfln4ta3tqf4n</url><onmousedown>indeed_clk(this,\\'2922\\');</onmousedown><latitude>29.760988</latitude><longitude>-95.36264</longitude><jobkey>6209d7c05cfa3f46</jobkey><sponsored>false</sponsored><expired>false</expired><indeedApply>true</indeedApply><formattedLocationFull>Houston, TX</formattedLocationFull><formattedRelativeTime>1 day ago</formattedRelativeTime><stations></stations></result><result><jobtitle>Mechanical Design Engineer - MWD/LWD Telemetry</jobtitle><company>Sinopec Tech Houston LLC.</company><city>Houston</city><state>TX</state><country>US</country><formattedLocation>Houston, TX</formattedLocation><source>Indeed</source><date>Thu, 27 Oct 2016 22:58:38 GMT</date><snippet>Mechanical Design Engineer:. Mechanical Design Engineer \\xe2\\x80\\x93 MWD/LWD Telemetry*. Master\\xe2\\x80\\x99s Degree in Mechanical Engineering is strongly preferred....</snippet><url>http://www.indeed.com/viewjob?jk=b0ca93b1ec3c1f40&amp;qd=1vHU8bY0zJlP3i697aWcB9XxLue5yNridKLsU82kv18UhVNuxKF3s8DT0B3q_F_WlMIZLa8fqdYRn2C4c92KNW7EUNTTr0Kfvcv71LkahuU40X9RqMmoWy146cYiCabl&amp;indpubnum=336274463762899&amp;atk=1b1pfln4ta3tqf4n</url><onmousedown>indeed_clk(this,\\'2922\\');</onmousedown><latitude>29.760988</latitude><longitude>-95.36264</longitude><jobkey>b0ca93b1ec3c1f40</jobkey><sponsored>false</sponsored><expired>false</expired><indeedApply>true</indeedApply><formattedLocationFull>Houston, TX</formattedLocationFull><formattedRelativeTime>20 days ago</formattedRelativeTime><stations></stations></result><result><jobtitle>Mechanical Designer III</jobtitle><company>Nabors Industries</company><city>Houston</city><state>TX</state><country>US</country><formattedLocation>Houston, TX</formattedLocation><source>Nabors Industries</source><date>Tue, 01 Nov 2016 23:17:53 GMT</date><snippet>Model mechanical design concepts using 3D Parametric software. Mechanical design principals including machined parts, assemblies, weldment and sheet metal...</snippet><url>http://www.indeed.com/viewjob?jk=62edf173de06f2c4&amp;qd=1vHU8bY0zJlP3i697aWcB9XxLue5yNridKLsU82kv18UhVNuxKF3s8DT0B3q_F_WlMIZLa8fqdYRn2C4c92KNW7EUNTTr0Kfvcv71LkahuU40X9RqMmoWy146cYiCabl&amp;indpubnum=336274463762899&amp;atk=1b1pfln4ta3tqf4n</url><onmousedown>indeed_clk(this,\\'2922\\');</onmousedown><latitude>29.94822</latitude><longitude>-95.42344</longitude><jobkey>62edf173de06f2c4</jobkey><sponsored>false</sponsored><expired>false</expired><indeedApply>false</indeedApply><formattedLocationFull>Houston, TX 77067</formattedLocationFull><formattedRelativeTime>15 days ago</formattedRelativeTime><stations></stations></result><result><jobtitle>Mechanical Engineer II</jobtitle><company>Affiliated Engineers, Inc.</company><city>Houston</city><state>TX</state><country>US</country><formattedLocation>Houston, TX</formattedLocation><source>Affiliated Engineers, Inc.</source><date>Mon, 07 Nov 2016 17:46:16 GMT</date><snippet>We are seeking a Mechanical Engineer II to join our Houston, TX office. Being part of the solution....</snippet><url>http://www.indeed.com/viewjob?jk=1b32a9b373befd86&amp;qd=1vHU8bY0zJlP3i697aWcB9XxLue5yNridKLsU82kv18UhVNuxKF3s8DT0B3q_F_WlMIZLa8fqdYRn2C4c92KNW7EUNTTr0Kfvcv71LkahuU40X9RqMmoWy146cYiCabl&amp;indpubnum=336274463762899&amp;atk=1b1pfln4ta3tqf4n</url><onmousedown>indeed_clk(this,\\'2922\\');</onmousedown><latitude>29.732288</latitude><longitude>-95.4327</longitude><jobkey>1b32a9b373befd86</jobkey><sponsored>false</sponsored><expired>false</expired><indeedApply>false</indeedApply><formattedLocationFull>Houston, TX 77046</formattedLocationFull><formattedRelativeTime>9 days ago</formattedRelativeTime><stations></stations></result><result><jobtitle>Design Engineer II</jobtitle><company>Superior Energy Services, Inc</company><city>Houston</city><state>TX</state><country>US</country><formattedLocation>Houston, TX</formattedLocation><source>Superior Energy Services, Inc</source><date>Tue, 08 Nov 2016 22:28:39 GMT</date><snippet>Experience with ANSYS Mechanical and Fluent is required 3D modelling skills are required; Knowledge of Mechanical APDL and Fluid-Structural Interaction is...</snippet><url>http://www.indeed.com/viewjob?jk=8cee7cd5aa4ba526&amp;qd=1vHU8bY0zJlP3i697aWcB9XxLue5yNridKLsU82kv18UhVNuxKF3s8DT0B3q_F_WlMIZLa8fqdYRn2C4c92KNW7EUNTTr0Kfvcv71LkahuU40X9RqMmoWy146cYiCabl&amp;indpubnum=336274463762899&amp;atk=1b1pfln4ta3tqf4n</url><onmousedown>indeed_clk(this,\\'2922\\');</onmousedown><latitude>29.760988</latitude><longitude>-95.36264</longitude><jobkey>8cee7cd5aa4ba526</jobkey><sponsored>false</sponsored><expired>false</expired><indeedApply>false</indeedApply><formattedLocationFull>Houston, TX</formattedLocationFull><formattedRelativeTime>8 days ago</formattedRelativeTime><stations></stations></result><result><jobtitle>Mechanical Engineer</jobtitle><company>FlowBelow Aero, Inc</company><city>Austin</city><state>TX</state><country>US</country><formattedLocation>Austin, TX</formattedLocation><source>Indeed</source><date>Thu, 27 Oct 2016 20:49:05 GMT</date><snippet>Bachelor\\xe2\\x80\\x99s degree or higher in mechanical, aerospace or automotive engineering. This position is for an engineer with experience designing mechanical components...</snippet><url>http://www.indeed.com/viewjob?jk=78f13f1b001d5aeb&amp;qd=1vHU8bY0zJlP3i697aWcB9XxLue5yNridKLsU82kv18UhVNuxKF3s8DT0B3q_F_WlMIZLa8fqdYRn2C4c92KNW7EUNTTr0Kfvcv71LkahuU40X9RqMmoWy146cYiCabl&amp;indpubnum=336274463762899&amp;atk=1b1pfln4ta3tqf4n</url><onmousedown>indeed_clk(this,\\'2922\\');</onmousedown><latitude>30.266483</latitude><longitude>-97.74176</longitude><jobkey>78f13f1b001d5aeb</jobkey><sponsored>false</sponsored><expired>false</expired><indeedApply>true</indeedApply><formattedLocationFull>Austin, TX</formattedLocationFull><formattedRelativeTime>20 days ago</formattedRelativeTime><stations></stations></result><result><jobtitle>ESPCP (Electric Submersible Progressing Cavity Pump) Design Engineer, R&amp;D</jobtitle><company>Sinopec Tech Houston LLC.</company><city>Houston</city><state>TX</state><country>US</country><formattedLocation>Houston, TX</formattedLocation><source>Indeed</source><date>Mon, 31 Oct 2016 18:04:57 GMT</date><snippet>Master\\xe2\\x80\\x99s Degree in Mechanical Engineering is preferred. Must have strong mechanical / electro-mechanical skills in ESPCP design....</snippet><url>http://www.indeed.com/viewjob?jk=7759f54ea4f77d8b&amp;qd=1vHU8bY0zJlP3i697aWcB9XxLue5yNridKLsU82kv18UhVNuxKF3s8DT0B3q_F_WlMIZLa8fqdYRn2C4c92KNW7EUNTTr0Kfvcv71LkahuU40X9RqMmoWy146cYiCabl&amp;indpubnum=336274463762899&amp;atk=1b1pfln4ta3tqf4n</url><onmousedown>indeed_clk(this,\\'2922\\');</onmousedown><latitude>29.760988</latitude><longitude>-95.36264</longitude><jobkey>7759f54ea4f77d8b</jobkey><sponsored>false</sponsored><expired>false</expired><indeedApply>true</indeedApply><formattedLocationFull>Houston, TX</formattedLocationFull><formattedRelativeTime>16 days ago</formattedRelativeTime><stations></stations></result><result><jobtitle>General Maintenance Engineer - Entry Level- Full-Time</jobtitle><company>Hyatt</company><city>Austin</city><state>TX</state><country>US</country><formattedLocation>Austin, TX</formattedLocation><source>Hyatt</source><date>Wed, 05 Oct 2016 17:02:12 GMT</date><snippet>A General Maintenance Engineer will also perform some repairs on mechanical, electrical, kitchen, and laundry equipment, requiring some skills and experience in...</snippet><url>http://www.indeed.com/viewjob?jk=25782125b9dd56a3&amp;qd=1vHU8bY0zJlP3i697aWcB9XxLue5yNridKLsU82kv18UhVNuxKF3s8DT0B3q_F_WlMIZLa8fqdYRn2C4c92KNW7EUNTTr0Kfvcv71LkahuU40X9RqMmoWy146cYiCabl&amp;indpubnum=336274463762899&amp;atk=1b1pfln4ta3tqf4n</url><onmousedown>indeed_clk(this,\\'2922\\');</onmousedown><latitude>30.266483</latitude><longitude>-97.74176</longitude><jobkey>25782125b9dd56a3</jobkey><sponsored>false</sponsored><expired>false</expired><indeedApply>false</indeedApply><formattedLocationFull>Austin, TX</formattedLocationFull><formattedRelativeTime>30+ days ago</formattedRelativeTime><stations></stations></result><result><jobtitle>Industrial Designer</jobtitle><company>Magpul Industries</company><city>Austin</city><state>TX</state><country>US</country><formattedLocation>Austin, TX</formattedLocation><source>Magpul Industries</source><date>Tue, 04 Oct 2016 17:12:30 GMT</date><snippet>Company Description Magpul Industries Corp. (\"Magpul\") is an innovative design and manufacturing company of firearms accessories for police, military and...</snippet><url>http://www.indeed.com/viewjob?jk=da3b9e1efee952ec&amp;qd=1vHU8bY0zJlP3i697aWcB9XxLue5yNridKLsU82kv18UhVNuxKF3s8DT0B3q_F_WlMIZLa8fqdYRn2C4c92KNW7EUNTTr0Kfvcv71LkahuU40X9RqMmoWy146cYiCabl&amp;indpubnum=336274463762899&amp;atk=1b1pfln4ta3tqf4n</url><onmousedown>indeed_clk(this,\\'2922\\');</onmousedown><latitude>30.314596</latitude><longitude>-97.85296</longitude><jobkey>da3b9e1efee952ec</jobkey><sponsored>false</sponsored><expired>false</expired><indeedApply>false</indeedApply><formattedLocationFull>Austin, TX 78746</formattedLocationFull><formattedRelativeTime>30+ days ago</formattedRelativeTime><stations></stations></result><result><jobtitle>Mechanical Engineer (HVAC)</jobtitle><company>Arup</company><city>Houston</city><state>TX</state><country>US</country><formattedLocation>Houston, TX</formattedLocation><source>Arup</source><date>Sun, 30 Oct 2016 08:54:21 GMT</date><snippet>Bachelor\\xe2\\x80\\x99s Degree in Mechanical or Architectural engineering with a sound knowledge of mechanical (HVAC) engineering fundamentals....</snippet><url>http://www.indeed.com/viewjob?jk=a2cc583913546a3c&amp;qd=1vHU8bY0zJlP3i697aWcB9XxLue5yNridKLsU82kv18UhVNuxKF3s8DT0B3q_F_WlMIZLa8fqdYRn2C4c92KNW7EUNTTr0Kfvcv71LkahuU40X9RqMmoWy146cYiCabl&amp;indpubnum=336274463762899&amp;atk=1b1pfln4ta3tqf4n</url><onmousedown>indeed_clk(this,\\'2922\\');</onmousedown><latitude>29.728422</latitude><longitude>-95.556335</longitude><jobkey>a2cc583913546a3c</jobkey><sponsored>false</sponsored><expired>false</expired><indeedApply>false</indeedApply><formattedLocationFull>Houston, TX 77042</formattedLocationFull><formattedRelativeTime>18 days ago</formattedRelativeTime><stations></stations></result><result><jobtitle>Applications Engineer</jobtitle><company>SNC-Lavalin</company><city>Houston</city><state>TX</state><country>US</country><formattedLocation>Houston, TX</formattedLocation><source>SNC-Lavalin</source><date>Fri, 28 Oct 2016 22:42:26 GMT</date><snippet>BS degree in Mechanical Engineering or equivalent experience. Applications engineering position that responds to any immediate needs of account managers working...</snippet><url>http://www.indeed.com/viewjob?jk=d89dbce7110266cc&amp;qd=1vHU8bY0zJlP3i697aWcB9XxLue5yNridKLsU82kv18UhVNuxKF3s8DT0B3q_F_WlMIZLa8fqdYRn2C4c92KNW7EUNTTr0Kfvcv71LkahuU40X9RqMmoWy146cYiCabl&amp;indpubnum=336274463762899&amp;atk=1b1pfln4ta3tqf4n</url><onmousedown>indeed_clk(this,\\'2922\\');</onmousedown><latitude>29.760988</latitude><longitude>-95.36264</longitude><jobkey>d89dbce7110266cc</jobkey><sponsored>false</sponsored><expired>false</expired><indeedApply>false</indeedApply><formattedLocationFull>Houston, TX</formattedLocationFull><formattedRelativeTime>19 days ago</formattedRelativeTime><stations></stations></result><result><jobtitle>Principal Mechanical Engineer - Insulation, Coating, and Fireproofing</jobtitle><company>Chicago Bridge &amp; Iron Company</company><city>Houston</city><state>TX</state><country>US</country><formattedLocation>Houston, TX</formattedLocation><source>Chicago Bridge &amp; Iron Company</source><date>Sun, 06 Nov 2016 11:08:06 GMT</date><snippet>MS Degree in Mechanical Engineering preferred. Bachelors of Science in Mechanical Engineering required. Principal Mechanical Engineer \\xe2\\x80\\x93 Insulation, Coating and...</snippet><url>http://www.indeed.com/viewjob?jk=9a72287f6e64668c&amp;qd=1vHU8bY0zJlP3i697aWcB9XxLue5yNridKLsU82kv18UhVNuxKF3s8DT0B3q_F_WlMIZLa8fqdYRn2C4c92KNW7EUNTTr0Kfvcv71LkahuU40X9RqMmoWy146cYiCabl&amp;indpubnum=336274463762899&amp;atk=1b1pfln4ta3tqf4n</url><onmousedown>indeed_clk(this,\\'2922\\');</onmousedown><latitude>29.760988</latitude><longitude>-95.36264</longitude><jobkey>9a72287f6e64668c</jobkey><sponsored>false</sponsored><expired>false</expired><indeedApply>false</indeedApply><formattedLocationFull>Houston, TX</formattedLocationFull><formattedRelativeTime>11 days ago</formattedRelativeTime><stations></stations></result><result><jobtitle>Piping Designer II</jobtitle><company>Energy Transfer Partners</company><city>Houston</city><state>TX</state><country>US</country><formattedLocation>Houston, TX</formattedLocation><source>Energy Transfer Partners</source><date>Tue, 01 Nov 2016 13:15:41 GMT</date><snippet>3-6 years designing and documenting mechanical, pipe, structural and civil experience. Essential Duties &amp;amp; Responsibilities:....</snippet><url>http://www.indeed.com/viewjob?jk=baeb6c63600362ec&amp;qd=1vHU8bY0zJlP3i697aWcB9XxLue5yNridKLsU82kv18UhVNuxKF3s8DT0B3q_F_WlMIZLa8fqdYRn2C4c92KNW7EUNTTr0Kfvcv71LkahuU40X9RqMmoWy146cYiCabl&amp;indpubnum=336274463762899&amp;atk=1b1pfln4ta3tqf4n</url><onmousedown>indeed_clk(this,\\'2922\\');</onmousedown><latitude>29.760988</latitude><longitude>-95.36264</longitude><jobkey>baeb6c63600362ec</jobkey><sponsored>false</sponsored><expired>false</expired><indeedApply>false</indeedApply><formattedLocationFull>Houston, TX</formattedLocationFull><formattedRelativeTime>16 days ago</formattedRelativeTime><stations></stations></result><result><jobtitle>Mechanical Engineer</jobtitle><company>Futures Consulting, LLC</company><city>Austin</city><state>TX</state><country>US</country><formattedLocation>Austin, TX</formattedLocation><source>Indeed</source><date>Tue, 18 Oct 2016 13:33:07 GMT</date><snippet>My client in Austin, Texas is seeking a Senior Mechanical PE who has experience and a passion for designing mechanical and plumbing systems....</snippet><url>http://www.indeed.com/viewjob?jk=43570c3708364747&amp;qd=1vHU8bY0zJlP3i697aWcB9XxLue5yNridKLsU82kv18UhVNuxKF3s8DT0B3q_F_WlMIZLa8fqdYRn2C4c92KNW7EUNTTr0Kfvcv71LkahuU40X9RqMmoWy146cYiCabl&amp;indpubnum=336274463762899&amp;atk=1b1pfln4ta3tqf4n</url><onmousedown>indeed_clk(this,\\'2922\\');</onmousedown><latitude>30.266483</latitude><longitude>-97.74176</longitude><jobkey>43570c3708364747</jobkey><sponsored>false</sponsored><expired>false</expired><indeedApply>true</indeedApply><formattedLocationFull>Austin, TX</formattedLocationFull><formattedRelativeTime>30 days ago</formattedRelativeTime><stations></stations></result><result><jobtitle>Design Application Engineer - Windcrest, TX</jobtitle><company>CRH-Oldcastle</company><city>Converse</city><state>TX</state><country>US</country><formattedLocation>Converse, TX</formattedLocation><source>Oldcastle</source><date>Thu, 03 Nov 2016 15:12:14 GMT</date><snippet>From our traditional base of high-quality construction products for the building and civil engineering sectors, we are also designing, manufacturing and...</snippet><url>http://www.indeed.com/viewjob?jk=8f80283c8a74c21f&amp;qd=1vHU8bY0zJlP3i697aWcB9XxLue5yNridKLsU82kv18UhVNuxKF3s8DT0B3q_F_WlMIZLa8fqdYRn2C4c92KNW7EUNTTr0Kfvcv71LkahuU40X9RqMmoWy146cYiCabl&amp;indpubnum=336274463762899&amp;atk=1b1pfln4ta3tqf4n</url><onmousedown>indeed_clk(this,\\'2922\\');</onmousedown><latitude>29.478022</latitude><longitude>-98.26923</longitude><jobkey>8f80283c8a74c21f</jobkey><sponsored>false</sponsored><expired>false</expired><indeedApply>false</indeedApply><formattedLocationFull>Converse, TX 78109</formattedLocationFull><formattedRelativeTime>14 days ago</formattedRelativeTime><stations></stations></result><result><jobtitle>Field Engineer</jobtitle><company>GE Healthcare</company><city>Houston</city><state>TX</state><country>US</country><formattedLocation>Houston, TX</formattedLocation><source>GE Careers</source><date>Fri, 14 Oct 2016 21:05:03 GMT</date><snippet>Experience diagnosing and repairing mechanical, electromechanical, and/or electronic equipment. Associate\\xe2\\x80\\x99s or Bachelor\\xe2\\x80\\x99s degree in Electrical Engineering,...</snippet><url>http://www.indeed.com/viewjob?jk=93db90aa66a7a730&amp;qd=1vHU8bY0zJlP3i697aWcB9XxLue5yNridKLsU82kv18UhVNuxKF3s8DT0B3q_F_WlMIZLa8fqdYRn2C4c92KNW7EUNTTr0Kfvcv71LkahuU40X9RqMmoWy146cYiCabl&amp;indpubnum=336274463762899&amp;atk=1b1pfln4ta3tqf4n</url><onmousedown>indeed_clk(this,\\'2922\\');</onmousedown><latitude>29.760988</latitude><longitude>-95.36264</longitude><jobkey>93db90aa66a7a730</jobkey><sponsored>false</sponsored><expired>false</expired><indeedApply>false</indeedApply><formattedLocationFull>Houston, TX</formattedLocationFull><formattedRelativeTime>30+ days ago</formattedRelativeTime><stations></stations></result><result><jobtitle>General Labor - Coffee Manufacturing $10.40/hr</jobtitle><company>Atlantic Coffee Solutions</company><city>Houston</city><state>TX</state><country>US</country><formattedLocation>Houston, TX</formattedLocation><source>Atlantic Coffee Solutions</source><date>Sun, 18 Sep 2016 07:20:21 GMT</date><snippet>Mechanical abilities a plus or related mechanical expertise will be considered. The entry level operator position entails numerous labor tasks within the plant....</snippet><url>http://www.indeed.com/viewjob?jk=4d8c153d0712da5c&amp;qd=1vHU8bY0zJlP3i697aWcB9XxLue5yNridKLsU82kv18UhVNuxKF3s8DT0B3q_F_WlMIZLa8fqdYRn2C4c92KNW7EUNTTr0Kfvcv71LkahuU40X9RqMmoWy146cYiCabl&amp;indpubnum=336274463762899&amp;atk=1b1pfln4ta3tqf4n</url><onmousedown>indeed_clk(this,\\'2922\\');</onmousedown><latitude>29.760988</latitude><longitude>-95.36264</longitude><jobkey>4d8c153d0712da5c</jobkey><sponsored>false</sponsored><expired>false</expired><indeedApply>true</indeedApply><formattedLocationFull>Houston, TX</formattedLocationFull><formattedRelativeTime>30+ days ago</formattedRelativeTime><stations></stations></result><result><jobtitle>Mechanical Engineer</jobtitle><company>Booz Allen Hamilton</company><city>San Antonio</city><state>TX</state><country>US</country><formattedLocation>San Antonio, TX</formattedLocation><source>Booz Allen Hamilton</source><date>Wed, 07 Sep 2016 01:23:01 GMT</date><snippet>Experience with mechanical engineering. Perform routine design, fabrication, modification, and evaluation of mechanical and electro-mechanical components, sub...</snippet><url>http://www.indeed.com/viewjob?jk=fcf764871f2d08a8&amp;qd=1vHU8bY0zJlP3i697aWcB9XxLue5yNridKLsU82kv18UhVNuxKF3s8DT0B3q_F_WlMIZLa8fqdYRn2C4c92KNW7EUNTTr0Kfvcv71LkahuU40X9RqMmoWy146cYiCabl&amp;indpubnum=336274463762899&amp;atk=1b1pfln4ta3tqf4n</url><onmousedown>indeed_clk(this,\\'2922\\');</onmousedown><latitude>29.430357</latitude><longitude>-98.490814</longitude><jobkey>fcf764871f2d08a8</jobkey><sponsored>false</sponsored><expired>false</expired><indeedApply>false</indeedApply><formattedLocationFull>San Antonio, TX 78205</formattedLocationFull><formattedRelativeTime>30+ days ago</formattedRelativeTime><stations></stations></result></results></response>'"
      ]
     },
     "execution_count": 26,
     "metadata": {},
     "output_type": "execute_result"
    }
   ],
   "source": [
    "#These are job postings in Austin Texas in radius of 25 (as crow flies) from indeed but it is in XML format. \n",
    "r_indeed.content"
   ]
  },
  {
   "cell_type": "code",
   "execution_count": 22,
   "metadata": {
    "collapsed": false
   },
   "outputs": [
    {
     "name": "stdout",
     "output_type": "stream",
     "text": [
      "Using existing file: ./xml/houstontx.html\n",
      "Accessing indeed.com\n",
      "Saving new file: ./xml/houstontx.html\n"
     ]
    }
   ],
   "source": [
    "from bs4 import BeautifulSoup\n",
    "import urllib.request\n",
    "import os.path\n",
    "city = \"houston\"\n",
    "state = \"tx\"\n",
    "keyword = \"mechanical\"\n",
    "url = \"http://api.indeed.com/ads/apisearch?publisher=336274463762899&q=\"+keyword+\"&l=\"+city+\"%2C+\"+state+\"&sort=&radius=150&st=&jt=fulltime&start=&limit=&fromage=&filter=&latlong=1&co=us&chnl=&userip=1.2.3.4&useragent=Mozilla/%2F4.0%28Firefox%29&v=2\"\n",
    "\n",
    "filename = './xml/'+city+state+'.html'\n",
    "\n",
    "if os.path.isfile(filename):\n",
    "    print(\"Using existing file: \"+filename)\n",
    "\n",
    "    # here we actually access the website\n",
    "    print(\"Accessing indeed.com\")\n",
    "    with urllib.request.urlopen(url) as response:\n",
    "        html = response.read()\n",
    "        html = html.decode('utf-8')\n",
    "\n",
    "    print(\"Saving new file: \"+filename)\n",
    "    # save the file\n",
    "    with open('./xml/'+city+state+'.html', 'w') as new_file:\n",
    "        new_file.write(html)\n",
    "\n",
    "# here it's already a local operation\n",
    "soup = BeautifulSoup(html, 'html.parser')"
   ]
  },
  {
   "cell_type": "code",
   "execution_count": 23,
   "metadata": {
    "collapsed": false
   },
   "outputs": [
    {
     "data": {
      "text/plain": [
       "'<?xml version=\\'1.0\\' encoding=\\'UTF-8\\'?>\\n<response version=\"2\">\\n <query>\\n  mechanical\\n </query>\\n <location>\\n  houston, tx\\n </location>\\n <clickedcategories>\\n </clickedcategories>\\n <paginationpayload>\\n </paginationpayload>\\n <radius>\\n  150\\n </radius>\\n <dupefilter>\\n  true\\n </dupefilter>\\n <highlight>\\n  false\\n </highlight>\\n <start>\\n  1\\n </start>\\n <end>\\n  10\\n </end>\\n <pagenumber>\\n  0\\n </pagenumber>\\n <totalresults>\\n  3634\\n </totalresults>\\n <results>\\n  <result>\\n   <jobtitle>\\n    SolidWorks Drafter\\n   </jobtitle>\\n   <company>\\n    Transformer Protector Corp.\\n   </company>\\n   <city>\\n    Humble\\n   </city>\\n   <state>\\n    TX\\n   </state>\\n   <country>\\n    US\\n   </country>\\n   <formattedlocation>\\n    Humble, TX\\n   </formattedlocation>\\n   <source>\\n    Indeed\\n   </source>\\n   <date>\\n    Mon, 07 Nov 2016 01:51:13 GMT\\n   </date>\\n   <snippet>\\n    Solidworks Mechanical Drafter. Mechanical and manufacturing constraints knowledge. Additional responsibilities to create or update the mechanical drawings,...\\n   </snippet>\\n   <url>\\n    http://www.indeed.com/viewjob?jk=4ba9f2aa57c2a26f&amp;qd=1vHU8bY0zJlP3i697aWcB9XxLue5yNridKLsU82kv18BWaJn05Mnjp3U9WeUfRE6P0E1GkGFrZj5uUTEgkI8rpvIN8dhBngFMoPgNKlkCZ0kt0LCVy_rQinuMfW47e_m&amp;indpubnum=336274463762899&amp;atk=1b1s3dj9ra3eu8o6\\n   </url>\\n   <onmousedown>\\n    indeed_clk(this,\\'7224\\');\\n   </onmousedown>\\n   <latitude>\\n    29.993994\\n   </latitude>\\n   <longitude>\\n    -95.24721\\n   </longitude>\\n   <jobkey>\\n    4ba9f2aa57c2a26f\\n   </jobkey>\\n   <sponsored>\\n    false\\n   </sponsored>\\n   <expired>\\n    false\\n   </expired>\\n   <indeedapply>\\n    true\\n   </indeedapply>\\n   <formattedlocationfull>\\n    Humble, TX 77338\\n   </formattedlocationfull>\\n   <formattedrelativetime>\\n    11 days ago\\n   </formattedrelativetime>\\n   <stations>\\n   </stations>\\n  </result>\\n  <result>\\n   <jobtitle>\\n    Integration Engineer – Entry level\\n   </jobtitle>\\n   <company>\\n    Barrios Technology, Ltd.\\n   </company>\\n   <city>\\n    Houston\\n   </city>\\n   <state>\\n    TX\\n   </state>\\n   <country>\\n    US\\n   </country>\\n   <formattedlocation>\\n    Houston, TX\\n   </formattedlocation>\\n   <source>\\n    Barrios Technology, Ltd.\\n   </source>\\n   <date>\\n    Mon, 14 Nov 2016 23:08:36 GMT\\n   </date>\\n   <snippet>\\n    BS degree in Aerospace engineering, Systems engineering or Mechanical engineering from an accredited college or university....\\n   </snippet>\\n   <url>\\n    http://www.indeed.com/viewjob?jk=f2bc435d2258ef82&amp;qd=1vHU8bY0zJlP3i697aWcB9XxLue5yNridKLsU82kv18BWaJn05Mnjp3U9WeUfRE6P0E1GkGFrZj5uUTEgkI8rpvIN8dhBngFMoPgNKlkCZ0kt0LCVy_rQinuMfW47e_m&amp;indpubnum=336274463762899&amp;atk=1b1s3dj9ra3eu8o6\\n   </url>\\n   <onmousedown>\\n    indeed_clk(this,\\'7224\\');\\n   </onmousedown>\\n   <latitude>\\n    29.552198\\n   </latitude>\\n   <longitude>\\n    -95.09341\\n   </longitude>\\n   <jobkey>\\n    f2bc435d2258ef82\\n   </jobkey>\\n   <sponsored>\\n    false\\n   </sponsored>\\n   <expired>\\n    false\\n   </expired>\\n   <indeedapply>\\n    false\\n   </indeedapply>\\n   <formattedlocationfull>\\n    Houston, TX 77058\\n   </formattedlocationfull>\\n   <formattedrelativetime>\\n    3 days ago\\n   </formattedrelativetime>\\n   <stations>\\n   </stations>\\n  </result>\\n  <result>\\n   <jobtitle>\\n    Mechanical Engineer - AMC.ENG.\\n   </jobtitle>\\n   <company>\\n    AmeriMex Motor &amp; Controls, LLC.\\n   </company>\\n   <city>\\n    Houston\\n   </city>\\n   <state>\\n    TX\\n   </state>\\n   <country>\\n    US\\n   </country>\\n   <formattedlocation>\\n    Houston, TX\\n   </formattedlocation>\\n   <source>\\n    Indeed\\n   </source>\\n   <date>\\n    Mon, 14 Nov 2016 17:51:38 GMT\\n   </date>\\n   <snippet>\\n    Develops mechanical and electromechanical products by studying customer requirements; Evaluates mechanical and electromechanical systems and products by...\\n   </snippet>\\n   <url>\\n    http://www.indeed.com/viewjob?jk=4f425dc87dd202fe&amp;qd=1vHU8bY0zJlP3i697aWcB9XxLue5yNridKLsU82kv18BWaJn05Mnjp3U9WeUfRE6P0E1GkGFrZj5uUTEgkI8rpvIN8dhBngFMoPgNKlkCZ0kt0LCVy_rQinuMfW47e_m&amp;indpubnum=336274463762899&amp;atk=1b1s3dj9ra3eu8o6\\n   </url>\\n   <onmousedown>\\n    indeed_clk(this,\\'7224\\');\\n   </onmousedown>\\n   <latitude>\\n    29.760988\\n   </latitude>\\n   <longitude>\\n    -95.36264\\n   </longitude>\\n   <jobkey>\\n    4f425dc87dd202fe\\n   </jobkey>\\n   <sponsored>\\n    false\\n   </sponsored>\\n   <expired>\\n    false\\n   </expired>\\n   <indeedapply>\\n    true\\n   </indeedapply>\\n   <formattedlocationfull>\\n    Houston, TX\\n   </formattedlocationfull>\\n   <formattedrelativetime>\\n    3 days ago\\n   </formattedrelativetime>\\n   <stations>\\n   </stations>\\n  </result>\\n  <result>\\n   <jobtitle>\\n    Mechanical Engineer\\n   </jobtitle>\\n   <company>\\n    ITW\\n   </company>\\n   <city>\\n    Houston\\n   </city>\\n   <state>\\n    TX\\n   </state>\\n   <country>\\n    US\\n   </country>\\n   <formattedlocation>\\n    Houston, TX\\n   </formattedlocation>\\n   <source>\\n    ITW\\n   </source>\\n   <date>\\n    Mon, 14 Nov 2016 17:37:22 GMT\\n   </date>\\n   <snippet>\\n    Resolve structural, mechanical, and development issues. Develop mechanical prototypes to determine design feasibility....\\n   </snippet>\\n   <url>\\n    http://www.indeed.com/viewjob?jk=ea33c92ffc241264&amp;qd=1vHU8bY0zJlP3i697aWcB9XxLue5yNridKLsU82kv18BWaJn05Mnjp3U9WeUfRE6P0E1GkGFrZj5uUTEgkI8rpvIN8dhBngFMoPgNKlkCZ0kt0LCVy_rQinuMfW47e_m&amp;indpubnum=336274463762899&amp;atk=1b1s3dj9ra3eu8o6\\n   </url>\\n   <onmousedown>\\n    indeed_clk(this,\\'7224\\');\\n   </onmousedown>\\n   <latitude>\\n    29.760988\\n   </latitude>\\n   <longitude>\\n    -95.36264\\n   </longitude>\\n   <jobkey>\\n    ea33c92ffc241264\\n   </jobkey>\\n   <sponsored>\\n    false\\n   </sponsored>\\n   <expired>\\n    false\\n   </expired>\\n   <indeedapply>\\n    false\\n   </indeedapply>\\n   <formattedlocationfull>\\n    Houston, TX\\n   </formattedlocationfull>\\n   <formattedrelativetime>\\n    3 days ago\\n   </formattedrelativetime>\\n   <stations>\\n   </stations>\\n  </result>\\n  <result>\\n   <jobtitle>\\n    Mechanical Engineer\\n   </jobtitle>\\n   <company>\\n    FlowBelow Aero, Inc\\n   </company>\\n   <city>\\n    Austin\\n   </city>\\n   <state>\\n    TX\\n   </state>\\n   <country>\\n    US\\n   </country>\\n   <formattedlocation>\\n    Austin, TX\\n   </formattedlocation>\\n   <source>\\n    Indeed\\n   </source>\\n   <date>\\n    Thu, 27 Oct 2016 20:49:05 GMT\\n   </date>\\n   <snippet>\\n    Bachelor’s degree or higher in mechanical, aerospace or automotive engineering. This position is for an engineer with experience designing mechanical components...\\n   </snippet>\\n   <url>\\n    http://www.indeed.com/viewjob?jk=78f13f1b001d5aeb&amp;qd=1vHU8bY0zJlP3i697aWcB9XxLue5yNridKLsU82kv18BWaJn05Mnjp3U9WeUfRE6P0E1GkGFrZj5uUTEgkI8rpvIN8dhBngFMoPgNKlkCZ0kt0LCVy_rQinuMfW47e_m&amp;indpubnum=336274463762899&amp;atk=1b1s3dj9ra3eu8o6\\n   </url>\\n   <onmousedown>\\n    indeed_clk(this,\\'7224\\');\\n   </onmousedown>\\n   <latitude>\\n    30.266483\\n   </latitude>\\n   <longitude>\\n    -97.74176\\n   </longitude>\\n   <jobkey>\\n    78f13f1b001d5aeb\\n   </jobkey>\\n   <sponsored>\\n    false\\n   </sponsored>\\n   <expired>\\n    false\\n   </expired>\\n   <indeedapply>\\n    true\\n   </indeedapply>\\n   <formattedlocationfull>\\n    Austin, TX\\n   </formattedlocationfull>\\n   <formattedrelativetime>\\n    21 days ago\\n   </formattedrelativetime>\\n   <stations>\\n   </stations>\\n  </result>\\n  <result>\\n   <jobtitle>\\n    Manager\\n   </jobtitle>\\n   <company>\\n    University of Texas at Austin\\n   </company>\\n   <city>\\n    Austin\\n   </city>\\n   <state>\\n    TX\\n   </state>\\n   <country>\\n    US\\n   </country>\\n   <formattedlocation>\\n    Austin, TX\\n   </formattedlocation>\\n   <source>\\n    University of Texas at Austin\\n   </source>\\n   <date>\\n    Tue, 30 Aug 2016 20:21:20 GMT\\n   </date>\\n   <snippet>\\n    May work around electrical and mechanical hazards. Supervise and manage the day to day operation and maintenance of the Nuclear Regulatory Commission Licensed...\\n   </snippet>\\n   <url>\\n    http://www.indeed.com/viewjob?jk=522a136536b77db0&amp;qd=1vHU8bY0zJlP3i697aWcB9XxLue5yNridKLsU82kv18BWaJn05Mnjp3U9WeUfRE6P0E1GkGFrZj5uUTEgkI8rpvIN8dhBngFMoPgNKlkCZ0kt0LCVy_rQinuMfW47e_m&amp;indpubnum=336274463762899&amp;atk=1b1s3dj9ra3eu8o6\\n   </url>\\n   <onmousedown>\\n    indeed_clk(this,\\'7224\\');\\n   </onmousedown>\\n   <latitude>\\n    30.266483\\n   </latitude>\\n   <longitude>\\n    -97.74176\\n   </longitude>\\n   <jobkey>\\n    522a136536b77db0\\n   </jobkey>\\n   <sponsored>\\n    false\\n   </sponsored>\\n   <expired>\\n    false\\n   </expired>\\n   <indeedapply>\\n    false\\n   </indeedapply>\\n   <formattedlocationfull>\\n    Austin, TX\\n   </formattedlocationfull>\\n   <formattedrelativetime>\\n    30+ days ago\\n   </formattedrelativetime>\\n   <stations>\\n   </stations>\\n  </result>\\n  <result>\\n   <jobtitle>\\n    MECHANICAL TECHNICIAN\\n   </jobtitle>\\n   <company>\\n    Weatherford\\n   </company>\\n   <city>\\n    Houston\\n   </city>\\n   <state>\\n    TX\\n   </state>\\n   <country>\\n    US\\n   </country>\\n   <formattedlocation>\\n    Houston, TX\\n   </formattedlocation>\\n   <source>\\n    Weatherford\\n   </source>\\n   <date>\\n    Mon, 14 Nov 2016 21:16:52 GMT\\n   </date>\\n   <snippet>\\n    To design, procure, and assemble parts for testing mechanical prototype assemblies per application. Able to read and interpret mechanical assembly prints and...\\n   </snippet>\\n   <url>\\n    http://www.indeed.com/viewjob?jk=cc1cad3fda744fa2&amp;qd=1vHU8bY0zJlP3i697aWcB9XxLue5yNridKLsU82kv18BWaJn05Mnjp3U9WeUfRE6P0E1GkGFrZj5uUTEgkI8rpvIN8dhBngFMoPgNKlkCZ0kt0LCVy_rQinuMfW47e_m&amp;indpubnum=336274463762899&amp;atk=1b1s3dj9ra3eu8o6\\n   </url>\\n   <onmousedown>\\n    indeed_clk(this,\\'7224\\');\\n   </onmousedown>\\n   <latitude>\\n    29.925825\\n   </latitude>\\n   <longitude>\\n    -95.39011\\n   </longitude>\\n   <jobkey>\\n    cc1cad3fda744fa2\\n   </jobkey>\\n   <sponsored>\\n    false\\n   </sponsored>\\n   <expired>\\n    false\\n   </expired>\\n   <indeedapply>\\n    false\\n   </indeedapply>\\n   <formattedlocationfull>\\n    Houston, TX 77060\\n   </formattedlocationfull>\\n   <formattedrelativetime>\\n    3 days ago\\n   </formattedrelativetime>\\n   <stations>\\n   </stations>\\n  </result>\\n  <result>\\n   <jobtitle>\\n    Mechanical Design Engineer - MWD/LWD Telemetry\\n   </jobtitle>\\n   <company>\\n    Sinopec Tech Houston LLC.\\n   </company>\\n   <city>\\n    Houston\\n   </city>\\n   <state>\\n    TX\\n   </state>\\n   <country>\\n    US\\n   </country>\\n   <formattedlocation>\\n    Houston, TX\\n   </formattedlocation>\\n   <source>\\n    Indeed\\n   </source>\\n   <date>\\n    Thu, 27 Oct 2016 22:58:38 GMT\\n   </date>\\n   <snippet>\\n    Mechanical Design Engineer:. Mechanical Design Engineer – MWD/LWD Telemetry*. Master’s Degree in Mechanical Engineering is strongly preferred....\\n   </snippet>\\n   <url>\\n    http://www.indeed.com/viewjob?jk=b0ca93b1ec3c1f40&amp;qd=1vHU8bY0zJlP3i697aWcB9XxLue5yNridKLsU82kv18BWaJn05Mnjp3U9WeUfRE6P0E1GkGFrZj5uUTEgkI8rpvIN8dhBngFMoPgNKlkCZ0kt0LCVy_rQinuMfW47e_m&amp;indpubnum=336274463762899&amp;atk=1b1s3dj9ra3eu8o6\\n   </url>\\n   <onmousedown>\\n    indeed_clk(this,\\'7224\\');\\n   </onmousedown>\\n   <latitude>\\n    29.760988\\n   </latitude>\\n   <longitude>\\n    -95.36264\\n   </longitude>\\n   <jobkey>\\n    b0ca93b1ec3c1f40\\n   </jobkey>\\n   <sponsored>\\n    false\\n   </sponsored>\\n   <expired>\\n    false\\n   </expired>\\n   <indeedapply>\\n    true\\n   </indeedapply>\\n   <formattedlocationfull>\\n    Houston, TX\\n   </formattedlocationfull>\\n   <formattedrelativetime>\\n    21 days ago\\n   </formattedrelativetime>\\n   <stations>\\n   </stations>\\n  </result>\\n  <result>\\n   <jobtitle>\\n    Plumbing Designer\\n   </jobtitle>\\n   <company>\\n    Glumac\\n   </company>\\n   <city>\\n    Austin\\n   </city>\\n   <state>\\n    TX\\n   </state>\\n   <country>\\n    US\\n   </country>\\n   <formattedlocation>\\n    Austin, TX\\n   </formattedlocation>\\n   <source>\\n    Glumac\\n   </source>\\n   <date>\\n    Thu, 17 Nov 2016 17:33:55 GMT\\n   </date>\\n   <snippet>\\n    Bachelors degree in mechanical engineering, a related field or equivalent industry design experience....\\n   </snippet>\\n   <url>\\n    http://www.indeed.com/viewjob?jk=e67c9c572b0b5132&amp;qd=1vHU8bY0zJlP3i697aWcB9XxLue5yNridKLsU82kv18BWaJn05Mnjp3U9WeUfRE6P0E1GkGFrZj5uUTEgkI8rpvIN8dhBngFMoPgNKlkCZ0kt0LCVy_rQinuMfW47e_m&amp;indpubnum=336274463762899&amp;atk=1b1s3dj9ra3eu8o6\\n   </url>\\n   <onmousedown>\\n    indeed_clk(this,\\'7224\\');\\n   </onmousedown>\\n   <latitude>\\n    30.266483\\n   </latitude>\\n   <longitude>\\n    -97.74176\\n   </longitude>\\n   <jobkey>\\n    e67c9c572b0b5132\\n   </jobkey>\\n   <sponsored>\\n    false\\n   </sponsored>\\n   <expired>\\n    false\\n   </expired>\\n   <indeedapply>\\n    false\\n   </indeedapply>\\n   <formattedlocationfull>\\n    Austin, TX\\n   </formattedlocationfull>\\n   <formattedrelativetime>\\n    22 hours ago\\n   </formattedrelativetime>\\n   <stations>\\n   </stations>\\n  </result>\\n  <result>\\n   <jobtitle>\\n    General Maintenance Engineer - Entry Level- Full-Time\\n   </jobtitle>\\n   <company>\\n    Hyatt\\n   </company>\\n   <city>\\n    Austin\\n   </city>\\n   <state>\\n    TX\\n   </state>\\n   <country>\\n    US\\n   </country>\\n   <formattedlocation>\\n    Austin, TX\\n   </formattedlocation>\\n   <source>\\n    Hyatt\\n   </source>\\n   <date>\\n    Wed, 05 Oct 2016 17:02:12 GMT\\n   </date>\\n   <snippet>\\n    A General Maintenance Engineer will also perform some repairs on mechanical, electrical, kitchen, and laundry equipment, requiring some skills and experience in...\\n   </snippet>\\n   <url>\\n    http://www.indeed.com/viewjob?jk=25782125b9dd56a3&amp;qd=1vHU8bY0zJlP3i697aWcB9XxLue5yNridKLsU82kv18BWaJn05Mnjp3U9WeUfRE6P0E1GkGFrZj5uUTEgkI8rpvIN8dhBngFMoPgNKlkCZ0kt0LCVy_rQinuMfW47e_m&amp;indpubnum=336274463762899&amp;atk=1b1s3dj9ra3eu8o6\\n   </url>\\n   <onmousedown>\\n    indeed_clk(this,\\'7224\\');\\n   </onmousedown>\\n   <latitude>\\n    30.266483\\n   </latitude>\\n   <longitude>\\n    -97.74176\\n   </longitude>\\n   <jobkey>\\n    25782125b9dd56a3\\n   </jobkey>\\n   <sponsored>\\n    false\\n   </sponsored>\\n   <expired>\\n    false\\n   </expired>\\n   <indeedapply>\\n    false\\n   </indeedapply>\\n   <formattedlocationfull>\\n    Austin, TX\\n   </formattedlocationfull>\\n   <formattedrelativetime>\\n    30+ days ago\\n   </formattedrelativetime>\\n   <stations>\\n   </stations>\\n  </result>\\n </results>\\n</response>'"
      ]
     },
     "execution_count": 23,
     "metadata": {},
     "output_type": "execute_result"
    }
   ],
   "source": [
    "soup.prettify()"
   ]
  },
  {
   "cell_type": "code",
   "execution_count": 25,
   "metadata": {
    "collapsed": false
   },
   "outputs": [
    {
     "name": "stdout",
     "output_type": "stream",
     "text": [
      "<jobtitle>SolidWorks Drafter</jobtitle>\n",
      "1\n",
      "<company>Transformer Protector Corp.</company>\n",
      "2\n",
      "<city>Humble</city>\n",
      "3\n",
      "<state>TX</state>\n",
      "4\n",
      "<country>US</country>\n",
      "5\n",
      "<formattedlocation>Humble, TX</formattedlocation>\n",
      "6\n",
      "<source>Indeed</source>\n",
      "7\n",
      "<date>Mon, 07 Nov 2016 01:51:13 GMT</date>\n",
      "8\n",
      "<snippet>Solidworks Mechanical Drafter. Mechanical and manufacturing constraints knowledge. Additional responsibilities to create or update the mechanical drawings,...</snippet>\n",
      "9\n",
      "<url>http://www.indeed.com/viewjob?jk=4ba9f2aa57c2a26f&amp;qd=1vHU8bY0zJlP3i697aWcB9XxLue5yNridKLsU82kv18BWaJn05Mnjp3U9WeUfRE6P0E1GkGFrZj5uUTEgkI8rpvIN8dhBngFMoPgNKlkCZ0kt0LCVy_rQinuMfW47e_m&amp;indpubnum=336274463762899&amp;atk=1b1s3dj9ra3eu8o6</url>\n",
      "10\n",
      "<onmousedown>indeed_clk(this,'7224');</onmousedown>\n",
      "11\n",
      "<latitude>29.993994</latitude>\n",
      "12\n",
      "<longitude>-95.24721</longitude>\n",
      "13\n",
      "<jobkey>4ba9f2aa57c2a26f</jobkey>\n",
      "14\n",
      "<sponsored>false</sponsored>\n",
      "15\n",
      "<expired>false</expired>\n",
      "16\n",
      "<indeedapply>true</indeedapply>\n",
      "17\n",
      "<formattedlocationfull>Humble, TX 77338</formattedlocationfull>\n",
      "18\n",
      "<formattedrelativetime>11 days ago</formattedrelativetime>\n",
      "19\n",
      "<stations></stations>\n",
      "20\n",
      "<jobtitle>Integration Engineer – Entry level</jobtitle>\n",
      "21\n",
      "<company>Barrios Technology, Ltd.</company>\n",
      "22\n",
      "<city>Houston</city>\n",
      "23\n",
      "<state>TX</state>\n",
      "24\n",
      "<country>US</country>\n",
      "25\n",
      "<formattedlocation>Houston, TX</formattedlocation>\n",
      "26\n",
      "<source>Barrios Technology, Ltd.</source>\n",
      "27\n",
      "<date>Mon, 14 Nov 2016 23:08:36 GMT</date>\n",
      "28\n",
      "<snippet>BS degree in Aerospace engineering, Systems engineering or Mechanical engineering from an accredited college or university....</snippet>\n",
      "29\n",
      "<url>http://www.indeed.com/viewjob?jk=f2bc435d2258ef82&amp;qd=1vHU8bY0zJlP3i697aWcB9XxLue5yNridKLsU82kv18BWaJn05Mnjp3U9WeUfRE6P0E1GkGFrZj5uUTEgkI8rpvIN8dhBngFMoPgNKlkCZ0kt0LCVy_rQinuMfW47e_m&amp;indpubnum=336274463762899&amp;atk=1b1s3dj9ra3eu8o6</url>\n",
      "30\n",
      "<onmousedown>indeed_clk(this,'7224');</onmousedown>\n",
      "31\n",
      "<latitude>29.552198</latitude>\n",
      "32\n",
      "<longitude>-95.09341</longitude>\n",
      "33\n",
      "<jobkey>f2bc435d2258ef82</jobkey>\n",
      "34\n",
      "<sponsored>false</sponsored>\n",
      "35\n",
      "<expired>false</expired>\n",
      "36\n",
      "<indeedapply>false</indeedapply>\n",
      "37\n",
      "<formattedlocationfull>Houston, TX 77058</formattedlocationfull>\n",
      "38\n",
      "<formattedrelativetime>3 days ago</formattedrelativetime>\n",
      "39\n",
      "<stations></stations>\n",
      "40\n",
      "<jobtitle>Mechanical Engineer - AMC.ENG.</jobtitle>\n",
      "41\n",
      "<company>AmeriMex Motor &amp; Controls, LLC.</company>\n",
      "42\n",
      "<city>Houston</city>\n",
      "43\n",
      "<state>TX</state>\n",
      "44\n",
      "<country>US</country>\n",
      "45\n",
      "<formattedlocation>Houston, TX</formattedlocation>\n",
      "46\n",
      "<source>Indeed</source>\n",
      "47\n",
      "<date>Mon, 14 Nov 2016 17:51:38 GMT</date>\n",
      "48\n",
      "<snippet>Develops mechanical and electromechanical products by studying customer requirements; Evaluates mechanical and electromechanical systems and products by...</snippet>\n",
      "49\n",
      "<url>http://www.indeed.com/viewjob?jk=4f425dc87dd202fe&amp;qd=1vHU8bY0zJlP3i697aWcB9XxLue5yNridKLsU82kv18BWaJn05Mnjp3U9WeUfRE6P0E1GkGFrZj5uUTEgkI8rpvIN8dhBngFMoPgNKlkCZ0kt0LCVy_rQinuMfW47e_m&amp;indpubnum=336274463762899&amp;atk=1b1s3dj9ra3eu8o6</url>\n",
      "50\n",
      "<onmousedown>indeed_clk(this,'7224');</onmousedown>\n",
      "51\n",
      "<latitude>29.760988</latitude>\n",
      "52\n",
      "<longitude>-95.36264</longitude>\n",
      "53\n",
      "<jobkey>4f425dc87dd202fe</jobkey>\n",
      "54\n",
      "<sponsored>false</sponsored>\n",
      "55\n",
      "<expired>false</expired>\n",
      "56\n",
      "<indeedapply>true</indeedapply>\n",
      "57\n",
      "<formattedlocationfull>Houston, TX</formattedlocationfull>\n",
      "58\n",
      "<formattedrelativetime>3 days ago</formattedrelativetime>\n",
      "59\n",
      "<stations></stations>\n",
      "60\n",
      "<jobtitle>Mechanical Engineer</jobtitle>\n",
      "61\n",
      "<company>ITW</company>\n",
      "62\n",
      "<city>Houston</city>\n",
      "63\n",
      "<state>TX</state>\n",
      "64\n",
      "<country>US</country>\n",
      "65\n",
      "<formattedlocation>Houston, TX</formattedlocation>\n",
      "66\n",
      "<source>ITW</source>\n",
      "67\n",
      "<date>Mon, 14 Nov 2016 17:37:22 GMT</date>\n",
      "68\n",
      "<snippet>Resolve structural, mechanical, and development issues. Develop mechanical prototypes to determine design feasibility....</snippet>\n",
      "69\n",
      "<url>http://www.indeed.com/viewjob?jk=ea33c92ffc241264&amp;qd=1vHU8bY0zJlP3i697aWcB9XxLue5yNridKLsU82kv18BWaJn05Mnjp3U9WeUfRE6P0E1GkGFrZj5uUTEgkI8rpvIN8dhBngFMoPgNKlkCZ0kt0LCVy_rQinuMfW47e_m&amp;indpubnum=336274463762899&amp;atk=1b1s3dj9ra3eu8o6</url>\n",
      "70\n",
      "<onmousedown>indeed_clk(this,'7224');</onmousedown>\n",
      "71\n",
      "<latitude>29.760988</latitude>\n",
      "72\n",
      "<longitude>-95.36264</longitude>\n",
      "73\n",
      "<jobkey>ea33c92ffc241264</jobkey>\n",
      "74\n",
      "<sponsored>false</sponsored>\n",
      "75\n",
      "<expired>false</expired>\n",
      "76\n",
      "<indeedapply>false</indeedapply>\n",
      "77\n",
      "<formattedlocationfull>Houston, TX</formattedlocationfull>\n",
      "78\n",
      "<formattedrelativetime>3 days ago</formattedrelativetime>\n",
      "79\n",
      "<stations></stations>\n",
      "80\n",
      "<jobtitle>Mechanical Engineer</jobtitle>\n",
      "81\n",
      "<company>FlowBelow Aero, Inc</company>\n",
      "82\n",
      "<city>Austin</city>\n",
      "83\n",
      "<state>TX</state>\n",
      "84\n",
      "<country>US</country>\n",
      "85\n",
      "<formattedlocation>Austin, TX</formattedlocation>\n",
      "86\n",
      "<source>Indeed</source>\n",
      "87\n",
      "<date>Thu, 27 Oct 2016 20:49:05 GMT</date>\n",
      "88\n",
      "<snippet>Bachelor’s degree or higher in mechanical, aerospace or automotive engineering. This position is for an engineer with experience designing mechanical components...</snippet>\n",
      "89\n",
      "<url>http://www.indeed.com/viewjob?jk=78f13f1b001d5aeb&amp;qd=1vHU8bY0zJlP3i697aWcB9XxLue5yNridKLsU82kv18BWaJn05Mnjp3U9WeUfRE6P0E1GkGFrZj5uUTEgkI8rpvIN8dhBngFMoPgNKlkCZ0kt0LCVy_rQinuMfW47e_m&amp;indpubnum=336274463762899&amp;atk=1b1s3dj9ra3eu8o6</url>\n",
      "90\n",
      "<onmousedown>indeed_clk(this,'7224');</onmousedown>\n",
      "91\n",
      "<latitude>30.266483</latitude>\n",
      "92\n",
      "<longitude>-97.74176</longitude>\n",
      "93\n",
      "<jobkey>78f13f1b001d5aeb</jobkey>\n",
      "94\n",
      "<sponsored>false</sponsored>\n",
      "95\n",
      "<expired>false</expired>\n",
      "96\n",
      "<indeedapply>true</indeedapply>\n",
      "97\n",
      "<formattedlocationfull>Austin, TX</formattedlocationfull>\n",
      "98\n",
      "<formattedrelativetime>21 days ago</formattedrelativetime>\n",
      "99\n",
      "<stations></stations>\n",
      "100\n",
      "<jobtitle>Manager</jobtitle>\n",
      "101\n",
      "<company>University of Texas at Austin</company>\n",
      "102\n",
      "<city>Austin</city>\n",
      "103\n",
      "<state>TX</state>\n",
      "104\n",
      "<country>US</country>\n",
      "105\n",
      "<formattedlocation>Austin, TX</formattedlocation>\n",
      "106\n",
      "<source>University of Texas at Austin</source>\n",
      "107\n",
      "<date>Tue, 30 Aug 2016 20:21:20 GMT</date>\n",
      "108\n",
      "<snippet>May work around electrical and mechanical hazards. Supervise and manage the day to day operation and maintenance of the Nuclear Regulatory Commission Licensed...</snippet>\n",
      "109\n",
      "<url>http://www.indeed.com/viewjob?jk=522a136536b77db0&amp;qd=1vHU8bY0zJlP3i697aWcB9XxLue5yNridKLsU82kv18BWaJn05Mnjp3U9WeUfRE6P0E1GkGFrZj5uUTEgkI8rpvIN8dhBngFMoPgNKlkCZ0kt0LCVy_rQinuMfW47e_m&amp;indpubnum=336274463762899&amp;atk=1b1s3dj9ra3eu8o6</url>\n",
      "110\n",
      "<onmousedown>indeed_clk(this,'7224');</onmousedown>\n",
      "111\n",
      "<latitude>30.266483</latitude>\n",
      "112\n",
      "<longitude>-97.74176</longitude>\n",
      "113\n",
      "<jobkey>522a136536b77db0</jobkey>\n",
      "114\n",
      "<sponsored>false</sponsored>\n",
      "115\n",
      "<expired>false</expired>\n",
      "116\n",
      "<indeedapply>false</indeedapply>\n",
      "117\n",
      "<formattedlocationfull>Austin, TX</formattedlocationfull>\n",
      "118\n",
      "<formattedrelativetime>30+ days ago</formattedrelativetime>\n",
      "119\n",
      "<stations></stations>\n",
      "120\n",
      "<jobtitle>MECHANICAL TECHNICIAN</jobtitle>\n",
      "121\n",
      "<company>Weatherford</company>\n",
      "122\n",
      "<city>Houston</city>\n",
      "123\n",
      "<state>TX</state>\n",
      "124\n",
      "<country>US</country>\n",
      "125\n",
      "<formattedlocation>Houston, TX</formattedlocation>\n",
      "126\n",
      "<source>Weatherford</source>\n",
      "127\n",
      "<date>Mon, 14 Nov 2016 21:16:52 GMT</date>\n",
      "128\n",
      "<snippet>To design, procure, and assemble parts for testing mechanical prototype assemblies per application. Able to read and interpret mechanical assembly prints and...</snippet>\n",
      "129\n",
      "<url>http://www.indeed.com/viewjob?jk=cc1cad3fda744fa2&amp;qd=1vHU8bY0zJlP3i697aWcB9XxLue5yNridKLsU82kv18BWaJn05Mnjp3U9WeUfRE6P0E1GkGFrZj5uUTEgkI8rpvIN8dhBngFMoPgNKlkCZ0kt0LCVy_rQinuMfW47e_m&amp;indpubnum=336274463762899&amp;atk=1b1s3dj9ra3eu8o6</url>\n",
      "130\n",
      "<onmousedown>indeed_clk(this,'7224');</onmousedown>\n",
      "131\n",
      "<latitude>29.925825</latitude>\n",
      "132\n",
      "<longitude>-95.39011</longitude>\n",
      "133\n",
      "<jobkey>cc1cad3fda744fa2</jobkey>\n",
      "134\n",
      "<sponsored>false</sponsored>\n",
      "135\n",
      "<expired>false</expired>\n",
      "136\n",
      "<indeedapply>false</indeedapply>\n",
      "137\n",
      "<formattedlocationfull>Houston, TX 77060</formattedlocationfull>\n",
      "138\n",
      "<formattedrelativetime>3 days ago</formattedrelativetime>\n",
      "139\n",
      "<stations></stations>\n",
      "140\n",
      "<jobtitle>Mechanical Design Engineer - MWD/LWD Telemetry</jobtitle>\n",
      "141\n",
      "<company>Sinopec Tech Houston LLC.</company>\n",
      "142\n",
      "<city>Houston</city>\n",
      "143\n",
      "<state>TX</state>\n",
      "144\n",
      "<country>US</country>\n",
      "145\n",
      "<formattedlocation>Houston, TX</formattedlocation>\n",
      "146\n",
      "<source>Indeed</source>\n",
      "147\n",
      "<date>Thu, 27 Oct 2016 22:58:38 GMT</date>\n",
      "148\n",
      "<snippet>Mechanical Design Engineer:. Mechanical Design Engineer – MWD/LWD Telemetry*. Master’s Degree in Mechanical Engineering is strongly preferred....</snippet>\n",
      "149\n",
      "<url>http://www.indeed.com/viewjob?jk=b0ca93b1ec3c1f40&amp;qd=1vHU8bY0zJlP3i697aWcB9XxLue5yNridKLsU82kv18BWaJn05Mnjp3U9WeUfRE6P0E1GkGFrZj5uUTEgkI8rpvIN8dhBngFMoPgNKlkCZ0kt0LCVy_rQinuMfW47e_m&amp;indpubnum=336274463762899&amp;atk=1b1s3dj9ra3eu8o6</url>\n",
      "150\n",
      "<onmousedown>indeed_clk(this,'7224');</onmousedown>\n",
      "151\n",
      "<latitude>29.760988</latitude>\n",
      "152\n",
      "<longitude>-95.36264</longitude>\n",
      "153\n",
      "<jobkey>b0ca93b1ec3c1f40</jobkey>\n",
      "154\n",
      "<sponsored>false</sponsored>\n",
      "155\n",
      "<expired>false</expired>\n",
      "156\n",
      "<indeedapply>true</indeedapply>\n",
      "157\n",
      "<formattedlocationfull>Houston, TX</formattedlocationfull>\n",
      "158\n",
      "<formattedrelativetime>21 days ago</formattedrelativetime>\n",
      "159\n",
      "<stations></stations>\n",
      "160\n",
      "<jobtitle>Plumbing Designer</jobtitle>\n",
      "161\n",
      "<company>Glumac</company>\n",
      "162\n",
      "<city>Austin</city>\n",
      "163\n",
      "<state>TX</state>\n",
      "164\n",
      "<country>US</country>\n",
      "165\n",
      "<formattedlocation>Austin, TX</formattedlocation>\n",
      "166\n",
      "<source>Glumac</source>\n",
      "167\n",
      "<date>Thu, 17 Nov 2016 17:33:55 GMT</date>\n",
      "168\n",
      "<snippet>Bachelors degree in mechanical engineering, a related field or equivalent industry design experience....</snippet>\n",
      "169\n",
      "<url>http://www.indeed.com/viewjob?jk=e67c9c572b0b5132&amp;qd=1vHU8bY0zJlP3i697aWcB9XxLue5yNridKLsU82kv18BWaJn05Mnjp3U9WeUfRE6P0E1GkGFrZj5uUTEgkI8rpvIN8dhBngFMoPgNKlkCZ0kt0LCVy_rQinuMfW47e_m&amp;indpubnum=336274463762899&amp;atk=1b1s3dj9ra3eu8o6</url>\n",
      "170\n",
      "<onmousedown>indeed_clk(this,'7224');</onmousedown>\n",
      "171\n",
      "<latitude>30.266483</latitude>\n",
      "172\n",
      "<longitude>-97.74176</longitude>\n",
      "173\n",
      "<jobkey>e67c9c572b0b5132</jobkey>\n",
      "174\n",
      "<sponsored>false</sponsored>\n",
      "175\n",
      "<expired>false</expired>\n",
      "176\n",
      "<indeedapply>false</indeedapply>\n",
      "177\n",
      "<formattedlocationfull>Austin, TX</formattedlocationfull>\n",
      "178\n",
      "<formattedrelativetime>22 hours ago</formattedrelativetime>\n",
      "179\n",
      "<stations></stations>\n",
      "180\n",
      "<jobtitle>General Maintenance Engineer - Entry Level- Full-Time</jobtitle>\n",
      "181\n",
      "<company>Hyatt</company>\n",
      "182\n",
      "<city>Austin</city>\n",
      "183\n",
      "<state>TX</state>\n",
      "184\n",
      "<country>US</country>\n",
      "185\n",
      "<formattedlocation>Austin, TX</formattedlocation>\n",
      "186\n",
      "<source>Hyatt</source>\n",
      "187\n",
      "<date>Wed, 05 Oct 2016 17:02:12 GMT</date>\n",
      "188\n",
      "<snippet>A General Maintenance Engineer will also perform some repairs on mechanical, electrical, kitchen, and laundry equipment, requiring some skills and experience in...</snippet>\n",
      "189\n",
      "<url>http://www.indeed.com/viewjob?jk=25782125b9dd56a3&amp;qd=1vHU8bY0zJlP3i697aWcB9XxLue5yNridKLsU82kv18BWaJn05Mnjp3U9WeUfRE6P0E1GkGFrZj5uUTEgkI8rpvIN8dhBngFMoPgNKlkCZ0kt0LCVy_rQinuMfW47e_m&amp;indpubnum=336274463762899&amp;atk=1b1s3dj9ra3eu8o6</url>\n",
      "190\n",
      "<onmousedown>indeed_clk(this,'7224');</onmousedown>\n",
      "191\n",
      "<latitude>30.266483</latitude>\n",
      "192\n",
      "<longitude>-97.74176</longitude>\n",
      "193\n",
      "<jobkey>25782125b9dd56a3</jobkey>\n",
      "194\n",
      "<sponsored>false</sponsored>\n",
      "195\n",
      "<expired>false</expired>\n",
      "196\n",
      "<indeedapply>false</indeedapply>\n",
      "197\n",
      "<formattedlocationfull>Austin, TX</formattedlocationfull>\n",
      "198\n",
      "<formattedrelativetime>30+ days ago</formattedrelativetime>\n",
      "199\n",
      "<stations></stations>\n",
      "200\n"
     ]
    }
   ],
   "source": [
    "##Use some form of this loop to build the data frame. Will have to not include the <result> tag.\n",
    "\n",
    "i=1\n",
    "for result in soup.find_all(\"result\"):\n",
    "    for tag in result.find_all():\n",
    "        print(tag)\n",
    "        #print('next:')\n",
    "        print(i)\n",
    "    #print(result)\n",
    "        i+=1"
   ]
  },
  {
   "cell_type": "code",
   "execution_count": 46,
   "metadata": {
    "collapsed": false
   },
   "outputs": [
    {
     "ename": "NameError",
     "evalue": "name 'link_tail' is not defined",
     "output_type": "error",
     "traceback": [
      "\u001b[0;31m---------------------------------------------------------------------------\u001b[0m",
      "\u001b[0;31mNameError\u001b[0m                                 Traceback (most recent call last)",
      "\u001b[0;32m<ipython-input-46-ee083d910d2f>\u001b[0m in \u001b[0;36m<module>\u001b[0;34m()\u001b[0m\n\u001b[1;32m     14\u001b[0m     \u001b[1;31m#subjects[subject_short] = (subject_long, link)\u001b[0m\u001b[1;33m\u001b[0m\u001b[1;33m\u001b[0m\u001b[0m\n\u001b[1;32m     15\u001b[0m \u001b[1;33m\u001b[0m\u001b[0m\n\u001b[0;32m---> 16\u001b[0;31m \u001b[0mlink_tail\u001b[0m\u001b[1;33m\u001b[0m\u001b[0m\n\u001b[0m",
      "\u001b[0;31mNameError\u001b[0m: name 'link_tail' is not defined"
     ]
    }
   ],
   "source": [
    "jobs = {}\n",
    "\n",
    "for result in soup.find_all(class_=\"results\"):\n",
    "    # the url is relative. \n",
    "    # We can get the tail by retrieving the link out the href attribute of the a tag\n",
    "    link_tail = subject.find(\"a\").get(\"href\")\n",
    "    # concatenate the base URL and the tail of the link\n",
    "    #link = url + link_tail\n",
    "    # the subject shortname is embedded within the <a> tag\n",
    "    #subject_short = subject.find(\"a\").get_text()\n",
    "    # the subject name is embedded within the span \n",
    "    #subject_long = subject.span.get_text()\n",
    "    # write it to the dictionary\n",
    "    #subjects[subject_short] = (subject_long, link)\n",
    "\n",
    "link_tail"
   ]
  }
 ],
 "metadata": {
  "anaconda-cloud": {},
  "kernelspec": {
   "display_name": "Python [Root]",
   "language": "python",
   "name": "Python [Root]"
  },
  "language_info": {
   "codemirror_mode": {
    "name": "ipython",
    "version": 3
   },
   "file_extension": ".py",
   "mimetype": "text/x-python",
   "name": "python",
   "nbconvert_exporter": "python",
   "pygments_lexer": "ipython3",
   "version": "3.5.2"
  }
 },
 "nbformat": 4,
 "nbformat_minor": 1
}
