{
 "cells": [
  {
   "cell_type": "code",
   "execution_count": 1,
   "metadata": {
    "collapsed": false
   },
   "outputs": [],
   "source": [
    "import pickle\n",
    "import nltk\n",
    "\n",
    "#load classifier from file\n",
    "f = open('nb_classifier.pickle', 'rb')\n",
    "classifier = pickle.load(f)\n",
    "f.close()\n",
    "\n",
    "#load test_set from file\n",
    "f = open('test_set.pickle', 'rb')\n",
    "test_set = pickle.load(f)\n",
    "f.close()\n",
    "\n",
    "#load complete_data from file\n",
    "f = open('complete_data.pickle', 'rb')\n",
    "complete_data = pickle.load(f)\n",
    "f.close()"
   ]
  },
  {
   "cell_type": "code",
   "execution_count": 2,
   "metadata": {
    "collapsed": false
   },
   "outputs": [
    {
     "name": "stdout",
     "output_type": "stream",
     "text": [
      "0.85\n",
      "Most Informative Features\n",
      "         contains(laugh) = True             arts : commer =    262.3 : 1.0\n",
      "         contains(rehab) = True           sports : scienc =    138.3 : 1.0\n",
      "           contains(asl) = True           servic : scienc =    127.5 : 1.0\n",
      "contains(reconciliations) = True           commer : arts   =    116.0 : 1.0\n",
      "        contains(pepper) = True           servic : sports =     99.7 : 1.0\n",
      "       contains(seating) = True           servic : commer =     85.2 : 1.0\n",
      "  contains(conservative) = True           servic : scienc =     83.3 : 1.0\n",
      "           contains(ace) = True           sports : servic =     77.3 : 1.0\n",
      "         contains(drink) = True           servic : scienc =     76.4 : 1.0\n",
      "  contains(microbiology) = True           scienc : commer =     73.2 : 1.0\n",
      " contains(ã¢ââ¢assists) = True             arts : scienc =     72.1 : 1.0\n",
      "     contains(athletics) = True           sports : scienc =     62.0 : 1.0\n",
      "       contains(utility) = True           scienc : arts   =     53.2 : 1.0\n",
      "        contains(shells) = True           servic : scienc =     43.2 : 1.0\n",
      "      contains(football) = True           sports : servic =     40.1 : 1.0\n",
      "      contains(selector) = True           servic : commer =     39.8 : 1.0\n",
      "    contains(hematology) = True           scienc : servic =     37.2 : 1.0\n",
      "         contains(topic) = True             arts : scienc =     37.0 : 1.0\n",
      "        contains(tables) = True           servic : scienc =     34.6 : 1.0\n",
      "           contains(emr) = True           sports : commer =     34.3 : 1.0\n",
      "    contains(orthopedic) = True           sports : commer =     33.5 : 1.0\n",
      "   contains(forecasting) = True           commer : arts   =     32.7 : 1.0\n",
      "       contains(shelves) = True           servic : scienc =     30.1 : 1.0\n",
      "         contains(chart) = True           servic : arts   =     30.0 : 1.0\n",
      "   contains(cleanliness) = True             arts : scienc =     29.0 : 1.0\n",
      "   contains(receivables) = True           commer : scienc =     28.8 : 1.0\n",
      "         contains(scrap) = True           scienc : commer =     28.6 : 1.0\n",
      "  contains(experiential) = True             arts : scienc =     28.3 : 1.0\n",
      "           contains(biz) = True             arts : commer =     27.8 : 1.0\n",
      "   contains(projections) = True           commer : servic =     27.5 : 1.0\n",
      "     contains(photoshop) = True           commer : servic =     27.1 : 1.0\n",
      "     contains(registers) = True             arts : scienc =     27.0 : 1.0\n",
      "contains(reconciliation) = True           commer : scienc =     27.0 : 1.0\n",
      "      contains(quantity) = True           servic : arts   =     26.6 : 1.0\n",
      "     contains(approvals) = True           commer : servic =     26.2 : 1.0\n",
      "          contains(fmea) = True           scienc : arts   =     25.8 : 1.0\n",
      "contains(ã¢ââ¢complies) = True             arts : commer =     25.6 : 1.0\n",
      "         contains(table) = True           servic : scienc =     25.5 : 1.0\n",
      "contains(reimbursements) = True           commer : scienc =     24.9 : 1.0\n",
      "      contains(analyses) = True           scienc : sports =     24.8 : 1.0\n",
      "      contains(diabetes) = True           scienc : servic =     24.7 : 1.0\n",
      "           contains(ppo) = True           sports : servic =     23.8 : 1.0\n",
      "       contains(servers) = True           servic : commer =     23.5 : 1.0\n",
      "     contains(therapist) = True           sports : commer =     23.3 : 1.0\n",
      "           contains(bid) = True           scienc : servic =     22.8 : 1.0\n",
      "      contains(assessed) = True           sports : arts   =     22.6 : 1.0\n",
      "        contains(regain) = True           sports : arts   =     22.6 : 1.0\n",
      "          contains(lots) = True             arts : servic =     22.5 : 1.0\n",
      "       contains(gaining) = True           sports : servic =     22.4 : 1.0\n",
      "     contains(2016-2017) = True             arts : commer =     22.4 : 1.0\n",
      "      contains(rewarded) = True           scienc : servic =     22.3 : 1.0\n",
      "   contains(electronics) = True           scienc : sports =     21.8 : 1.0\n",
      "    contains(mechanical) = True           scienc : commer =     21.7 : 1.0\n",
      " contains(unforgettable) = True           servic : scienc =     21.1 : 1.0\n",
      "  contains(efficiencies) = True           scienc : arts   =     21.0 : 1.0\n",
      "         contains(steam) = True           scienc : commer =     20.8 : 1.0\n",
      "        contains(rhythm) = True           sports : scienc =     20.8 : 1.0\n",
      "     contains(custodial) = True           sports : scienc =     20.8 : 1.0\n",
      "       contains(parents) = True             arts : scienc =     20.7 : 1.0\n",
      "     contains(perinatal) = True           scienc : arts   =     20.7 : 1.0\n",
      "           contains(img) = True           sports : commer =     20.6 : 1.0\n",
      "        contains(margin) = True           commer : servic =     20.2 : 1.0\n",
      "      contains(punctual) = True           servic : arts   =     20.2 : 1.0\n",
      "       contains(default) = True           commer : scienc =     19.3 : 1.0\n",
      "            contains(ia) = True           sports : commer =     19.1 : 1.0\n",
      "    contains(syndicated) = True             arts : servic =     19.0 : 1.0\n",
      "       contains(organic) = True           scienc : servic =     18.3 : 1.0\n",
      "     contains(musicians) = True             arts : commer =     17.9 : 1.0\n",
      "          contains(asks) = True           servic : scienc =     17.8 : 1.0\n",
      "           contains(ice) = True           servic : scienc =     17.2 : 1.0\n",
      "   contains(fundraising) = True           commer : scienc =     17.2 : 1.0\n",
      "      contains(adoption) = True           servic : arts   =     17.1 : 1.0\n",
      "   contains(photography) = True             arts : servic =     17.1 : 1.0\n",
      "    contains(executions) = True           sports : arts   =     17.0 : 1.0\n",
      "     contains(networked) = True           servic : commer =     16.9 : 1.0\n",
      "         contains(cause) = True           scienc : arts   =     15.8 : 1.0\n",
      "           contains(red) = True           servic : scienc =     15.7 : 1.0\n",
      "        contains(locker) = True           sports : servic =     15.6 : 1.0\n",
      "          contains(left) = True           servic : scienc =     15.6 : 1.0\n",
      "     contains(tolerance) = True           scienc : sports =     15.2 : 1.0\n",
      "     contains(maximizes) = True           servic : scienc =     15.1 : 1.0\n",
      "   contains(consolidate) = True             arts : scienc =     14.9 : 1.0\n",
      "        contains(linear) = True           sports : commer =     14.8 : 1.0\n",
      "      contains(license/) = True           sports : commer =     14.8 : 1.0\n",
      "         contains(malls) = True           sports : arts   =     14.8 : 1.0\n",
      "contains(handlerã¢ââs) = True           servic : scienc =     14.8 : 1.0\n",
      "     contains(galleries) = True             arts : commer =     14.8 : 1.0\n",
      "contains(collaborations) = True           scienc : servic =     14.5 : 1.0\n",
      "       contains(trouble) = True           scienc : servic =     14.5 : 1.0\n",
      "          contains(pals) = True           servic : commer =     14.3 : 1.0\n",
      "     contains(guideline) = True           servic : scienc =     14.0 : 1.0\n",
      "         contains(earns) = True           sports : servic =     13.8 : 1.0\n",
      "  contains(indianapolis) = True             arts : servic =     13.8 : 1.0\n",
      "    contains(interfaces) = True           scienc : sports =     13.7 : 1.0\n",
      "   contains(transaction) = True           commer : servic =     13.6 : 1.0\n",
      "     contains(territory) = True           sports : servic =     13.4 : 1.0\n",
      "     contains(cognitive) = True             arts : commer =     13.4 : 1.0\n",
      "       contains(vibrant) = True             arts : commer =     13.4 : 1.0\n",
      "       contains(golfing) = True           sports : commer =     13.4 : 1.0\n",
      "           contains(nhl) = True           sports : commer =     13.4 : 1.0\n"
     ]
    }
   ],
   "source": [
    "print(nltk.classify.accuracy(classifier, test_set))\n",
    "classifier.show_most_informative_features(10)"
   ]
  },
  {
   "cell_type": "code",
   "execution_count": 3,
   "metadata": {
    "collapsed": false
   },
   "outputs": [
    {
     "ename": "NameError",
     "evalue": "name 'complete_data' is not defined",
     "output_type": "error",
     "traceback": [
      "\u001b[0;31m---------------------------------------------------------------------------\u001b[0m",
      "\u001b[0;31mNameError\u001b[0m                                 Traceback (most recent call last)",
      "\u001b[0;32m<ipython-input-3-b18ea03b6da9>\u001b[0m in \u001b[0;36m<module>\u001b[0;34m()\u001b[0m\n\u001b[1;32m      1\u001b[0m \u001b[0mjob_index\u001b[0m\u001b[0;34m=\u001b[0m\u001b[0;36m99\u001b[0m\u001b[0;34m\u001b[0m\u001b[0m\n\u001b[0;32m----> 2\u001b[0;31m \u001b[0mprint\u001b[0m\u001b[0;34m(\u001b[0m\u001b[0mcomplete_data\u001b[0m\u001b[0;34m.\u001b[0m\u001b[0miloc\u001b[0m\u001b[0;34m[\u001b[0m\u001b[0mjob_index\u001b[0m\u001b[0;34m]\u001b[0m\u001b[0;34m[\u001b[0m\u001b[0;36m0\u001b[0m\u001b[0;34m]\u001b[0m\u001b[0;34m)\u001b[0m\u001b[0;34m\u001b[0m\u001b[0m\n\u001b[0m\u001b[1;32m      3\u001b[0m \u001b[0mprint\u001b[0m\u001b[0;34m(\u001b[0m\u001b[0;34m'Model Prediction: '\u001b[0m\u001b[0;34m+\u001b[0m\u001b[0mclassifier\u001b[0m\u001b[0;34m.\u001b[0m\u001b[0mclassify\u001b[0m\u001b[0;34m(\u001b[0m\u001b[0mtest_set\u001b[0m\u001b[0;34m[\u001b[0m\u001b[0mjob_index\u001b[0m\u001b[0;34m]\u001b[0m\u001b[0;34m[\u001b[0m\u001b[0;36m0\u001b[0m\u001b[0;34m]\u001b[0m\u001b[0;34m)\u001b[0m\u001b[0;34m+\u001b[0m\u001b[0;34m'\\n'\u001b[0m\u001b[0;34m)\u001b[0m\u001b[0;34m\u001b[0m\u001b[0m\n\u001b[1;32m      4\u001b[0m \u001b[0;32mfor\u001b[0m \u001b[0;34m(\u001b[0m\u001b[0mk\u001b[0m\u001b[0;34m,\u001b[0m\u001b[0mv\u001b[0m\u001b[0;34m)\u001b[0m \u001b[0;32min\u001b[0m \u001b[0mtest_set\u001b[0m\u001b[0;34m[\u001b[0m\u001b[0mjob_index\u001b[0m\u001b[0;34m]\u001b[0m\u001b[0;34m[\u001b[0m\u001b[0;36m0\u001b[0m\u001b[0;34m]\u001b[0m\u001b[0;34m.\u001b[0m\u001b[0mitems\u001b[0m\u001b[0;34m(\u001b[0m\u001b[0;34m)\u001b[0m\u001b[0;34m:\u001b[0m\u001b[0;34m\u001b[0m\u001b[0m\n\u001b[1;32m      5\u001b[0m     \u001b[0;32mif\u001b[0m \u001b[0mv\u001b[0m\u001b[0;34m==\u001b[0m\u001b[0;32mTrue\u001b[0m\u001b[0;34m:\u001b[0m\u001b[0;34m\u001b[0m\u001b[0m\n",
      "\u001b[0;31mNameError\u001b[0m: name 'complete_data' is not defined"
     ]
    }
   ],
   "source": [
    "job_index=99\n",
    "print(complete_data.iloc[job_index][0])\n",
    "print('Model Prediction: '+classifier.classify(test_set[job_index][0])+'\\n')\n",
    "for (k,v) in test_set[job_index][0].items():\n",
    "    if v==True:\n",
    "        print(k)"
   ]
  }
 ],
 "metadata": {
  "anaconda-cloud": {},
  "kernelspec": {
   "display_name": "Python [conda root]",
   "language": "python",
   "name": "conda-root-py"
  },
  "language_info": {
   "codemirror_mode": {
    "name": "ipython",
    "version": 3
   },
   "file_extension": ".py",
   "mimetype": "text/x-python",
   "name": "python",
   "nbconvert_exporter": "python",
   "pygments_lexer": "ipython3",
   "version": "3.5.2"
  }
 },
 "nbformat": 4,
 "nbformat_minor": 1
}
