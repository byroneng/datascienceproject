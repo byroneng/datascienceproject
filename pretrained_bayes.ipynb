{
 "cells": [
  {
   "cell_type": "code",
   "execution_count": 1,
   "metadata": {
    "collapsed": false
   },
   "outputs": [],
   "source": [
    "#Imports and loading objects\n",
    "\n",
    "import pickle\n",
    "import nltk\n",
    "\n",
    "#load classifier from file\n",
    "f = open('nb_classifier.pickle', 'rb')\n",
    "classifier = pickle.load(f)\n",
    "f.close()\n",
    "\n",
    "#load test_set from file\n",
    "f = open('test_set.pickle', 'rb')\n",
    "test_set = pickle.load(f)\n",
    "f.close()\n",
    "\n",
    "#load complete_data from file\n",
    "f = open('complete_data.pickle', 'rb')\n",
    "complete_data = pickle.load(f)\n",
    "f.close()"
   ]
  },
  {
   "cell_type": "code",
   "execution_count": 2,
   "metadata": {
    "collapsed": false
   },
   "outputs": [
    {
     "name": "stdout",
     "output_type": "stream",
     "text": [
      "0.85\n",
      "Most Informative Features\n",
      "         contains(laugh) = True             arts : commer =    262.3 : 1.0\n",
      "         contains(rehab) = True           sports : scienc =    138.3 : 1.0\n",
      "           contains(asl) = True           servic : scienc =    127.5 : 1.0\n",
      "contains(reconciliations) = True           commer : arts   =    116.0 : 1.0\n",
      "        contains(pepper) = True           servic : sports =     99.7 : 1.0\n",
      "       contains(seating) = True           servic : commer =     85.2 : 1.0\n",
      "  contains(conservative) = True           servic : scienc =     83.3 : 1.0\n",
      "           contains(ace) = True           sports : servic =     77.3 : 1.0\n",
      "         contains(drink) = True           servic : scienc =     76.4 : 1.0\n",
      "  contains(microbiology) = True           scienc : commer =     73.2 : 1.0\n"
     ]
    }
   ],
   "source": [
    "#Run classifier for entire test_set and view accuracy followed by most informative features of classifier\n",
    "\n",
    "print(nltk.classify.accuracy(classifier, test_set))\n",
    "classifier.show_most_informative_features(10)"
   ]
  },
  {
   "cell_type": "code",
   "execution_count": 3,
   "metadata": {
    "collapsed": false
   },
   "outputs": [
    {
     "name": "stdout",
     "output_type": "stream",
     "text": [
      "OMB Financial Manager--Accounting Division\n",
      "Model Prediction: commerce\n",
      "\n",
      "contains(public)\n",
      "contains(may)\n",
      "contains(financial)\n",
      "contains(projects)\n",
      "contains(standards)\n",
      "contains(functions)\n",
      "contains(operational)\n",
      "contains(compilation)\n",
      "contains(certified)\n",
      "contains(reconciliation)\n",
      "contains(report)\n",
      "contains(statements)\n",
      "contains(punctual)\n",
      "contains(provides)\n",
      "contains(supervises)\n",
      "contains(effectiveness)\n"
     ]
    }
   ],
   "source": [
    "#Change job_index value (range 0-100) to explore individual results\n",
    "\n",
    "job_index=99\n",
    "print(complete_data.iloc[job_index][0])\n",
    "print('Model Prediction: '+classifier.classify(test_set[job_index][0])+'\\n')\n",
    "for (k,v) in test_set[job_index][0].items():\n",
    "    if v==True:\n",
    "        print(k)"
   ]
  }
 ],
 "metadata": {
  "anaconda-cloud": {},
  "kernelspec": {
   "display_name": "Python [conda root]",
   "language": "python",
   "name": "conda-root-py"
  },
  "language_info": {
   "codemirror_mode": {
    "name": "ipython",
    "version": 3
   },
   "file_extension": ".py",
   "mimetype": "text/x-python",
   "name": "python",
   "nbconvert_exporter": "python",
   "pygments_lexer": "ipython3",
   "version": "3.5.2"
  }
 },
 "nbformat": 4,
 "nbformat_minor": 1
}
