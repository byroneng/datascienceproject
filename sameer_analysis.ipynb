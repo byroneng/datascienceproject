{
 "cells": [
  {
   "cell_type": "code",
   "execution_count": 116,
   "metadata": {
    "collapsed": true
   },
   "outputs": [],
   "source": [
    "import pandas as pd\n",
    "import numpy as np\n",
    "from sklearn.cross_validation import train_test_split\n",
    "import nltk\n",
    "from nltk.corpus import brown\n",
    "from nltk import FreqDist\n",
    "from nltk.corpus import stopwords\n",
    "from sklearn.neighbors import NearestNeighbors\n",
    "from sklearn.neighbors import KNeighborsClassifier\n",
    "from sklearn import svm\n",
    "from sklearn.cross_validation import cross_val_score\n",
    "import matplotlib.pyplot as plt\n",
    "\n",
    "%matplotlib inline\n",
    "plt.rcParams['figure.figsize'] = (15, 9)\n",
    "plt.style.use('ggplot')"
   ]
  },
  {
   "cell_type": "code",
   "execution_count": 69,
   "metadata": {
    "collapsed": false
   },
   "outputs": [],
   "source": [
    "#Importing complete and labled job summary data\n",
    "complete_data = pd.read_csv('complete_labeled_job_summary_data.csv',encoding = \"ISO-8859-1\")\n",
    "complete_data = complete_data.drop('Unnamed: 0',axis=1)\n",
    "\n",
    "#converting text data into lower case letters in order to process better\n",
    "complete_data[\"job summary\"]=complete_data[\"job summary\"].str.lower()"
   ]
  },
  {
   "cell_type": "code",
   "execution_count": 70,
   "metadata": {
    "collapsed": false
   },
   "outputs": [],
   "source": [
    "#Splitting the data into test and train set and resetting their index\n",
    "train, test = train_test_split(complete_data, test_size = 0.2)\n",
    "train=train.reset_index(drop=True)\n",
    "test=test.reset_index(drop=True)"
   ]
  },
  {
   "cell_type": "code",
   "execution_count": 71,
   "metadata": {
    "collapsed": false
   },
   "outputs": [],
   "source": [
    "#Converting strings in train data into nltk.text.Text format in order to use NLP\n",
    "\n",
    "#Creating empty list for iterations\n",
    "iterator = []\n",
    "\n",
    "#Creating a list with length equal to number of rows in the dataframe\n",
    "for i in range (0,len(train.axes[0]),1):\n",
    "    iterator.append(i)\n",
    "\n",
    "#Converting and replacing the strings with nltk.text    \n",
    "for i in iterator:\n",
    "    job_summary=train.get_value(i,'job summary')  # Pull just the job summary as a str\n",
    "    tokens = nltk.word_tokenize(job_summary)      # Convert str to token\n",
    "    text_obj = nltk.text.Text(tokens)             # convert tokens to nltk.text.Text()\n",
    "    train.set_value(i,'job summary',text_obj)     # Now all of the functions from lab 17 will work with this obj\n",
    "    \n",
    "\n",
    "#Converting strings in test data into nltk.text.Text format in order to use NLP\n",
    "\n",
    "#Creating empty list for iterations\n",
    "iterator = []\n",
    "\n",
    "#Creating a list with length equal to number of rows in the dataframe\n",
    "for i in range (0,len(test.axes[0]),1):\n",
    "    iterator.append(i)\n",
    "\n",
    "#Converting and replacing the strings with nltk.text    \n",
    "for i in iterator:\n",
    "    job_summary=test.get_value(i,'job summary')  # Pull just the job summary as a str\n",
    "    tokens = nltk.word_tokenize(job_summary)      # Convert str to token\n",
    "    text_obj = nltk.text.Text(tokens)             # convert tokens to nltk.text.Text()\n",
    "    test.set_value(i,'job summary',text_obj)     # Now all of the functions from lab 17 will work with this obj"
   ]
  },
  {
   "cell_type": "code",
   "execution_count": 110,
   "metadata": {
    "collapsed": false
   },
   "outputs": [
    {
     "name": "stdout",
     "output_type": "stream",
     "text": [
      "<class 'pandas.core.frame.DataFrame'>\n",
      "RangeIndex: 7294 entries, 0 to 7293\n",
      "Data columns (total 3 columns):\n",
      "job title      7294 non-null object\n",
      "job summary    7294 non-null object\n",
      "label          7294 non-null object\n",
      "dtypes: object(3)\n",
      "memory usage: 85.5+ KB\n",
      "None\n",
      "\n",
      "        job title                                        job summary    label\n",
      "count       7294                                               7294     7294\n",
      "unique      4250                                               7294        5\n",
      "top         Host  (accounting, /, human, resources, coordinatorg...  science\n",
      "freq         275                                                  1     1931\n",
      "\n",
      " science     1931\n",
      "commerce    1855\n",
      "arts        1372\n",
      "services    1134\n",
      "sports      1002\n",
      "Name: label, dtype: int64\n"
     ]
    }
   ],
   "source": [
    "#exploring train set\n",
    "print(train.info())\n",
    "print('\\n',train.describe())\n",
    "print('\\n',train['label'].value_counts())"
   ]
  },
  {
   "cell_type": "code",
   "execution_count": 143,
   "metadata": {
    "collapsed": false
   },
   "outputs": [
    {
     "data": {
      "text/html": [
       "<div>\n",
       "<table border=\"1\" class=\"dataframe\">\n",
       "  <thead>\n",
       "    <tr style=\"text-align: right;\">\n",
       "      <th></th>\n",
       "      <th>commerce</th>\n",
       "      <th>science</th>\n",
       "      <th>arts</th>\n",
       "      <th>services</th>\n",
       "    </tr>\n",
       "  </thead>\n",
       "  <tbody>\n",
       "    <tr>\n",
       "      <th>count</th>\n",
       "      <td>7294.000000</td>\n",
       "      <td>7294.000000</td>\n",
       "      <td>7294.000000</td>\n",
       "      <td>7294.000000</td>\n",
       "    </tr>\n",
       "    <tr>\n",
       "      <th>mean</th>\n",
       "      <td>0.254319</td>\n",
       "      <td>0.264738</td>\n",
       "      <td>0.188100</td>\n",
       "      <td>0.155470</td>\n",
       "    </tr>\n",
       "    <tr>\n",
       "      <th>std</th>\n",
       "      <td>0.435507</td>\n",
       "      <td>0.441224</td>\n",
       "      <td>0.390819</td>\n",
       "      <td>0.362377</td>\n",
       "    </tr>\n",
       "    <tr>\n",
       "      <th>min</th>\n",
       "      <td>0.000000</td>\n",
       "      <td>0.000000</td>\n",
       "      <td>0.000000</td>\n",
       "      <td>0.000000</td>\n",
       "    </tr>\n",
       "    <tr>\n",
       "      <th>25%</th>\n",
       "      <td>0.000000</td>\n",
       "      <td>0.000000</td>\n",
       "      <td>0.000000</td>\n",
       "      <td>0.000000</td>\n",
       "    </tr>\n",
       "    <tr>\n",
       "      <th>50%</th>\n",
       "      <td>0.000000</td>\n",
       "      <td>0.000000</td>\n",
       "      <td>0.000000</td>\n",
       "      <td>0.000000</td>\n",
       "    </tr>\n",
       "    <tr>\n",
       "      <th>75%</th>\n",
       "      <td>1.000000</td>\n",
       "      <td>1.000000</td>\n",
       "      <td>0.000000</td>\n",
       "      <td>0.000000</td>\n",
       "    </tr>\n",
       "    <tr>\n",
       "      <th>max</th>\n",
       "      <td>1.000000</td>\n",
       "      <td>1.000000</td>\n",
       "      <td>1.000000</td>\n",
       "      <td>1.000000</td>\n",
       "    </tr>\n",
       "  </tbody>\n",
       "</table>\n",
       "</div>"
      ],
      "text/plain": [
       "          commerce      science         arts     services\n",
       "count  7294.000000  7294.000000  7294.000000  7294.000000\n",
       "mean      0.254319     0.264738     0.188100     0.155470\n",
       "std       0.435507     0.441224     0.390819     0.362377\n",
       "min       0.000000     0.000000     0.000000     0.000000\n",
       "25%       0.000000     0.000000     0.000000     0.000000\n",
       "50%       0.000000     0.000000     0.000000     0.000000\n",
       "75%       1.000000     1.000000     0.000000     0.000000\n",
       "max       1.000000     1.000000     1.000000     1.000000"
      ]
     },
     "execution_count": 143,
     "metadata": {},
     "output_type": "execute_result"
    }
   ],
   "source": [
    "#Creating dummy variables for catagories\n",
    "train[\"commerce\"] = train[\"label\"].map({'commerce':1, 'science':0, 'arts':0, 'services':0, 'sports':0})\n",
    "train[\"science\"] = train[\"label\"].map({'commerce':0, 'science':1, 'arts':0, 'services':0, 'sports':0})\n",
    "train[\"arts\"] = train[\"label\"].map({'commerce':0, 'science':0, 'arts':1, 'services':0, 'sports':0})\n",
    "train[\"services\"] = train[\"label\"].map({'commerce':0, 'science':0, 'arts':0, 'services':1, 'sports':0})\n",
    "train.describe()"
   ]
  },
  {
   "cell_type": "code",
   "execution_count": null,
   "metadata": {
    "collapsed": true
   },
   "outputs": [],
   "source": [
    "#Creating a combined list of all the words in job summary\n",
    "\n",
    "#Creating empty list for iterations and other for words in job summary\n",
    "iterator = []\n",
    "\n",
    "#Creating a list with length equal to number of rows in the dataframe\n",
    "for i in range (0,len(train.axes[0]),1):\n",
    "    iterator.append(i)\n",
    "    \n",
    "#creating the list\n",
    "for i in iterator:\n",
    "    j"
   ]
  }
 ],
 "metadata": {
  "anaconda-cloud": {},
  "kernelspec": {
   "display_name": "Python [default]",
   "language": "python",
   "name": "python3"
  },
  "language_info": {
   "codemirror_mode": {
    "name": "ipython",
    "version": 3
   },
   "file_extension": ".py",
   "mimetype": "text/x-python",
   "name": "python",
   "nbconvert_exporter": "python",
   "pygments_lexer": "ipython3",
   "version": "3.5.2"
  }
 },
 "nbformat": 4,
 "nbformat_minor": 1
}
